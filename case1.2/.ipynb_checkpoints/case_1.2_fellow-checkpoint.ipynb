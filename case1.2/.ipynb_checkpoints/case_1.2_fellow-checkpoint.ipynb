{
 "cells": [
  {
   "cell_type": "markdown",
   "metadata": {
    "colab_type": "text",
    "id": "_BTFHvTBmWx7"
   },
   "source": [
    "# How are trading volume and volatility related for energy stocks?"
   ]
  },
  {
   "cell_type": "markdown",
   "metadata": {
    "colab_type": "text",
    "id": "YsqrxpICmWx_",
    "tags": [
     "2_min"
    ]
   },
   "source": [
    "## Goals\n",
    "\n",
    "By the end of this case, we will have introduced the `pandas` library within Python. You will also have gained experience with the `numpy` library, know how to read data files, and conduct descriptive statistics.\n",
    "\n",
    "You should also begin to develop a proper mindset for investigating the library on your own, via documentation or other resources such as StackOverflow. Self-research of existing documentation is a crucial part of developing as a data professional."
   ]
  },
  {
   "cell_type": "markdown",
   "metadata": {
    "colab_type": "text",
    "id": "56p_G-1QmWyC",
    "tags": [
     "5_min"
    ]
   },
   "source": [
    "## Introduction"
   ]
  },
  {
   "cell_type": "markdown",
   "metadata": {
    "colab_type": "text",
    "collapsed": true,
    "id": "VIuQsUM5mWyE"
   },
   "source": [
    "**Business Context.** You are an analyst at a large bank focused on natural resource stock investments. Natural resources are vital for a variety of industries in our economy. Recently, your division has taken interest in the following stocks:\n",
    "\n",
    "1. Dominion Energy Inc.\n",
    "2. Exelon Corp.\n",
    "3. NextEra Energy Inc.\n",
    "4. Southern Co.\n",
    "5. Duke Energy Corp.\n",
    "\n",
    "These stocks are all part of the energy sector, an important but volatile sector of the stock market. (A stock is considered volatile if its price exhibits large percentage changes day-to-day.) While high volatility increases the chance of great gains, it also makes it more likely to incur large losses, so risk must be managed carefully when investing in high-volatility stocks.\n",
    "\n",
    "Because your firm is quite large, there must be enough trading volume (average amount of shares transacted per day) so that it can easily transact in these stocks. Otherwise, this effect compounded with the stocks' naturally high volatility could make these too risky for the bank to invest in. A stock with higher trading volume is easier to buy or sell quickly, which is extremely important in a volatile market."
   ]
  },
  {
   "cell_type": "markdown",
   "metadata": {
    "colab_type": "text",
    "id": "2ZiUta6AmWyG"
   },
   "source": [
    "**Business Problem.** Given that both low trading volume and high volatility present risks to your investments, your team lead asks you to investigate the following: **\"How is the volatility of energy stocks related to their average daily trading volume?\"**"
   ]
  },
  {
   "cell_type": "markdown",
   "metadata": {
    "colab_type": "text",
    "id": "RI5qxe0umWyJ"
   },
   "source": [
    "**Analytical Context.** The data you've been given is in the [Comma Separated Value (CSV) format](https://frictionlessdata.io/docs//), and comprises price and trading volume data for the above stocks. This case begins with a brief overview of this data, after which you will: (1) learn how to use the Python library [pandas](https://towardsdatascience.com/a-quick-introduction-to-the-pandas-python-library-f1b678f34673) to load the data; (2) use ```pandas``` transform this data into a form amenable for analysis; and finally (3) use ```pandas``` to analyze the above question and come to a conclusion. As you may have guessed, ```pandas``` is an enormously useful library for data analysis and manipulation."
   ]
  },
  {
   "cell_type": "code",
   "execution_count": 3,
   "metadata": {},
   "outputs": [],
   "source": [
    "simple_var = 5"
   ]
  },
  {
   "cell_type": "code",
   "execution_count": 4,
   "metadata": {},
   "outputs": [
    {
     "data": {
      "text/plain": [
       "5"
      ]
     },
     "execution_count": 4,
     "metadata": {},
     "output_type": "execute_result"
    }
   ],
   "source": [
    "simple_var"
   ]
  },
  {
   "cell_type": "markdown",
   "metadata": {
    "colab_type": "text",
    "id": "0Ef8dDTzmWyL",
    "tags": [
     "5_min"
    ]
   },
   "source": [
    "## Importing packages to aid in data analysis\n",
    "\n",
    "[External libraries (a.k.a. packages)](https://www.learnpython.org/en/Modules_and_Packages) are code bases that contain a variety of pre-written functions and tools. This allows you to perform a variety of complex tasks in Python without having to \"reinvent the wheel\" build everything from the ground up. We will use two core packages: ```pandas``` and ```numpy```.\n",
    "\n",
    "```pandas``` is an external library that provides functionality for data analysis. Pandas specifically offers a variety of data structures and data manipulation methods that allow you to perform complex tasks with simple, one-line commands.\n",
    "\n",
    "```numpy``` is a package that we will use later in the case that offers numerous mathematical operations. Together, [pandas](https://pandas.pydata.org/pandas-docs/stable/whatsnew/v1.0.0.html) and [numpy](https://numpy.org/) allow you to create a data science workflow within Python. `numpy` is in many ways foundational to `pandas`, providing vectorized operations, while `pandas` provides higher level abstractions built on top of `numpy`.</font>\n",
    "\n",
    "Let's import both packages using the ```import``` keyword. We will rename ```pandas``` to ```pd``` and ```numpy``` to ```np``` using the ```as``` keyword. This allows us to use the short name abbreviation when we want to reference any function that is inside either package. The abbreviations we chose are standard across the data science industry and should be followed unless there is a very good reason not to."
   ]
  },
  {
   "cell_type": "code",
   "execution_count": 5,
   "metadata": {
    "colab": {},
    "colab_type": "code",
    "executionInfo": {
     "elapsed": 1249,
     "status": "ok",
     "timestamp": 1595517117677,
     "user": {
      "displayName": "Norman Rodriguez",
      "photoUrl": "https://lh3.googleusercontent.com/a-/AOh14GiXcbIxQ0CYzDTlPuMhfh4q4RrONoW5L_HFnRCh=s64",
      "userId": "01368312674772044880"
     },
     "user_tz": 300
    },
    "id": "pmZ3FFlAmWyN"
   },
   "outputs": [],
   "source": [
    "# Import the Pandas package\n",
    "import pandas as pd\n",
    "\n",
    "# Import the NumPy package\n",
    "import numpy as np"
   ]
  },
  {
   "cell_type": "markdown",
   "metadata": {
    "colab_type": "text",
    "id": "GsIYEBLimWyb"
   },
   "source": [
    "Now that these packages are loaded into Python, we can use their contents. Let's first take a look at ```pandas``` as it has a variety of features we will use to load and analyze our stock data."
   ]
  },
  {
   "cell_type": "markdown",
   "metadata": {
    "colab_type": "text",
    "id": "donzIkxRmWye",
    "tags": [
     "8_min"
    ]
   },
   "source": [
    "## Fundamentals of ```pandas```"
   ]
  },
  {
   "cell_type": "markdown",
   "metadata": {
    "colab_type": "text",
    "collapsed": true,
    "id": "IhTGL_zSmWyg"
   },
   "source": [
    "`pandas` is a Python library that facilitates a wide range of data analysis and manipulation. Before, you saw basic data structures in Python such as lists and dictionaries. While you can build a basic data table (similar to an Excel spreadsheet) using nested lists in Python, they get quite difficult to work with. By contrast, in `pandas` the table data structure, known as a `DataFrame`, is a first-class citizen and you can easily manipulate your data thinking of it in rows and columns.\n",
    "\n",
    "If you've ever used or heard of R or SQL before, `pandas` brings some functionality from each of these to Python, allowing you to structure and filter data more efficiently than pure Python. This efficiency is seen in two distinct ways:\n",
    "\n",
    "* Scripts written using `pandas` will often run faster than scripts written in pure Python\n",
    "* Scripts written using `pandas` will often contain far fewer lines of code than the equivalent script written in pure Python.\n",
    "\n",
    "At the core of the ```pandas``` library are two fundamental data structures/objects:\n",
    "1. [Series](https://pandas.pydata.org/pandas-docs/stable/reference/api/pandas.Series.html)\n",
    "2. [DataFrame](https://pandas.pydata.org/pandas-docs/stable/reference/api/pandas.DataFrame.html)\n",
    "\n",
    "A ```Series``` object stores single-column data along with an **index**. An index is just a way of \"numbering\" the ```Series``` object. For example, in this case study, the indices will be dates, while the single-column data may be stock prices or daily trading volume.\n",
    "\n",
    "A ```DataFrame``` object is a two-dimensional tabular data structure with labeled axes. It is conceptually helpful to think of a DataFrame object as a collection of Series objects. Namely, think of each column in a DataFrame as a single Series object, where each of these Series objects shares a common index -  the index of the DataFrame object."
   ]
  },
  {
   "cell_type": "markdown",
   "metadata": {
    "colab_type": "text",
    "id": "sUm0J3uWmscM"
   },
   "source": [
    "The following diagrams show the differences between a Series and a DataFrame. This is a DataFrame (notice that it has an index for its columns and an index for its rows):\n",
    "\n",
    "<img src=\"data/images/dataframe.jpg\" alt=\"A Dataframe\" style=\"width: 500px;\"/>"
   ]
  },
  {
   "cell_type": "markdown",
   "metadata": {
    "colab_type": "text",
    "id": "p-QMD7sem00L"
   },
   "source": [
    "If you *slice* a DataFrame to extract just **one** column, you'll get a Series. Series can be created independently as well. This is a Series (Series objects always have a row index):\n",
    "\n",
    "<img src=\"data/images/series.jpg\" alt=\"A Series\" style=\"width: 600px;\"/>"
   ]
  },
  {
   "cell_type": "markdown",
   "metadata": {
    "colab_type": "text",
    "id": "YtXk59lJq9Le"
   },
   "source": [
    "Series don't have column indexes, because they don't have columns. You can, however, give your Series a name. Below is the syntax for creating a Series object, followed by the syntax for creating a DataFrame object. Note that DataFrame objects can also have a single-column – think of this as a DataFrame consisting of a single Series object (they might contain the same information, but are still distinct objects and are treated as such by `pandas`):"
   ]
  },
  {
   "cell_type": "code",
   "execution_count": 6,
   "metadata": {
    "colab": {
     "base_uri": "https://localhost:8080/",
     "height": 105
    },
    "colab_type": "code",
    "executionInfo": {
     "elapsed": 1212,
     "status": "ok",
     "timestamp": 1595517117681,
     "user": {
      "displayName": "Norman Rodriguez",
      "photoUrl": "https://lh3.googleusercontent.com/a-/AOh14GiXcbIxQ0CYzDTlPuMhfh4q4RrONoW5L_HFnRCh=s64",
      "userId": "01368312674772044880"
     },
     "user_tz": 300
    },
    "id": "fhJDGHpXmWyi",
    "outputId": "c42a48ea-7cb7-465f-8495-2003b3a10b55"
   },
   "outputs": [
    {
     "data": {
      "text/plain": [
       "0     1000\n",
       "1     2600\n",
       "2     1524\n",
       "3    98000\n",
       "Name: Volume, dtype: int64"
      ]
     },
     "execution_count": 6,
     "metadata": {},
     "output_type": "execute_result"
    }
   ],
   "source": [
    "# Create a simple Series object\n",
    "simple_series = pd.Series(\n",
    "    index=[0, 1, 2, 3], # The index\n",
    "    name=\"Volume\", # The name\n",
    "    data=[1000, 2600, 1524, 98000] # The data\n",
    ")\n",
    "simple_series"
   ]
  },
  {
   "cell_type": "markdown",
   "metadata": {
    "colab_type": "text",
    "id": "24OVmcn7sMVg"
   },
   "source": [
    "You'll notice that this Series is of `dtype` (data type) `int64`, which means its data cells contain integers."
   ]
  },
  {
   "cell_type": "markdown",
   "metadata": {
    "colab_type": "text",
    "id": "M4VMnunSmWyt"
   },
   "source": [
    "By changing ```pd.Series``` to ```pd.DataFrame```, and adding a columns input list, a DataFrame object can be created:"
   ]
  },
  {
   "cell_type": "code",
   "execution_count": 7,
   "metadata": {
    "colab": {
     "base_uri": "https://localhost:8080/",
     "height": 167
    },
    "colab_type": "code",
    "executionInfo": {
     "elapsed": 1184,
     "status": "ok",
     "timestamp": 1595517117683,
     "user": {
      "displayName": "Norman Rodriguez",
      "photoUrl": "https://lh3.googleusercontent.com/a-/AOh14GiXcbIxQ0CYzDTlPuMhfh4q4RrONoW5L_HFnRCh=s64",
      "userId": "01368312674772044880"
     },
     "user_tz": 300
    },
    "id": "TPez_NTtmWyv",
    "outputId": "109b7984-2c38-4760-af1c-a98caf9b9a3b"
   },
   "outputs": [
    {
     "data": {
      "text/html": [
       "<div>\n",
       "<style scoped>\n",
       "    .dataframe tbody tr th:only-of-type {\n",
       "        vertical-align: middle;\n",
       "    }\n",
       "\n",
       "    .dataframe tbody tr th {\n",
       "        vertical-align: top;\n",
       "    }\n",
       "\n",
       "    .dataframe thead th {\n",
       "        text-align: right;\n",
       "    }\n",
       "</style>\n",
       "<table border=\"1\" class=\"dataframe\">\n",
       "  <thead>\n",
       "    <tr style=\"text-align: right;\">\n",
       "      <th></th>\n",
       "      <th>Volume</th>\n",
       "    </tr>\n",
       "  </thead>\n",
       "  <tbody>\n",
       "    <tr>\n",
       "      <th>0</th>\n",
       "      <td>1000</td>\n",
       "    </tr>\n",
       "    <tr>\n",
       "      <th>1</th>\n",
       "      <td>2600</td>\n",
       "    </tr>\n",
       "    <tr>\n",
       "      <th>2</th>\n",
       "      <td>1524</td>\n",
       "    </tr>\n",
       "    <tr>\n",
       "      <th>3</th>\n",
       "      <td>98000</td>\n",
       "    </tr>\n",
       "  </tbody>\n",
       "</table>\n",
       "</div>"
      ],
      "text/plain": [
       "   Volume\n",
       "0    1000\n",
       "1    2600\n",
       "2    1524\n",
       "3   98000"
      ]
     },
     "execution_count": 7,
     "metadata": {},
     "output_type": "execute_result"
    }
   ],
   "source": [
    "# Create a simple DataFrame object\n",
    "simple_df = pd.DataFrame(\n",
    "    index=[0, 1, 2, 3], # The index\n",
    "    columns=[\"Volume\"], # Your columns (must be inside a list object). AKA your column index.\n",
    "    data=[1000, 2600, 1524, 98000] # Your data\n",
    ")\n",
    "simple_df"
   ]
  },
  {
   "cell_type": "markdown",
   "metadata": {
    "colab_type": "text",
    "id": "Z2eoDKUCmWy7"
   },
   "source": [
    "DataFrame objects are more general than Series objects, and one DataFrame can hold many Series objects, each as a different column. Let's create a two-column DataFrame object:"
   ]
  },
  {
   "cell_type": "code",
   "execution_count": null,
   "metadata": {
    "colab": {
     "base_uri": "https://localhost:8080/",
     "height": 167
    },
    "colab_type": "code",
    "executionInfo": {
     "elapsed": 1154,
     "status": "ok",
     "timestamp": 1595517117685,
     "user": {
      "displayName": "Norman Rodriguez",
      "photoUrl": "https://lh3.googleusercontent.com/a-/AOh14GiXcbIxQ0CYzDTlPuMhfh4q4RrONoW5L_HFnRCh=s64",
      "userId": "01368312674772044880"
     },
     "user_tz": 300
    },
    "id": "3vX5lIGZmWy9",
    "outputId": "64016a33-d01f-408c-8d37-4e68f002ac36",
    "scrolled": true
   },
   "outputs": [],
   "source": [
    "# Create another DataFrame object\n",
    "another_df = pd.DataFrame(\n",
    "    index=[0, 1, 2, 3], # The index\n",
    "    columns=[\"Date\", \"Volume\"], # Your columns (again, inside a list object). We will have 2 columns.\n",
    "    data=[\n",
    "          [20190101, 1000], # The data cells for the first row (row 0.) The cell for \"Date\" and then the cell for \"Volume\"\n",
    "          [20190102, 2600], # Data cells for row 1\n",
    "          [20190103, 1524], # Data cells for row 2\n",
    "          [20190104, 98000] # Data cells for row 3\n",
    "          ],\n",
    ")\n",
    "another_df"
   ]
  },
  {
   "cell_type": "markdown",
   "metadata": {
    "colab_type": "text",
    "id": "ZxHPlxGJmWzL"
   },
   "source": [
    "Notice how a list of lists was used to specify the data in the ```another_df``` DataFrame. Each element of the list corresponds to a row in the DataFrame, so the list has 4 elements because there are 4 row indices. Each element of the list of lists has 2 elements because the DataFrame has two columns."
   ]
  },
  {
   "cell_type": "markdown",
   "metadata": {
    "colab_type": "text",
    "id": "5nUjN52gmWzN",
    "tags": [
     "10_min"
    ]
   },
   "source": [
    "## Using <code>pandas</code> to analyze stock data"
   ]
  },
  {
   "cell_type": "markdown",
   "metadata": {
    "colab_type": "text",
    "collapsed": true,
    "id": "71V0_AlomWzQ"
   },
   "source": [
    "Recall that we have CSV files that include data for each of the following stocks:\n",
    "\n",
    "1. Dominion Energy Inc. (Stock Symbol: D)\n",
    "2. Exelon Corp. (Stock Symbol: EXC)\n",
    "3. NextEra Energy Inc. (Stock Symbol: NEE)\n",
    "4. Southern Co. (Stock Symbol: SO)\n",
    "5. Duke Energy Corp. (Stock Symbol: DUK)\n",
    "\n",
    "The available data for each stock includes:\n",
    "\n",
    "1. **Date:** The day of the year\n",
    "2. **Open:** The stock opening price of the day\n",
    "3. **High:** The highest observed stock price of the day\n",
    "4. **Low:** The lowest observed stock price of the day\n",
    "5. **Close:** The stock closing price of the day\n",
    "6. **Adj Close:** The adjusted stock closing price for the day (adjusted for splits and dividends)\n",
    "7. **Volume:** The volume of the stock traded over the day\n",
    "\n",
    "To get a better sense of the available data, let's first take a look at just the data for Dominion Energy, listed on the New York Stock Exchange under the symbol D. You are given a CSV file that contains the company's stock data, ```D```. "
   ]
  },
  {
   "cell_type": "markdown",
   "metadata": {
    "colab_type": "text",
    "id": "yfs95km3vWXy"
   },
   "source": [
    "Recall that CSV files store tables using one CSV row per table row and separate the columns using commas (although other characters are possible, like semicolons):\n",
    "\n",
    "<img src=\"data/images/csv.jpg\" alt=\"A CSV file\" style=\"width: 500px;\"/>"
   ]
  },
  {
   "cell_type": "markdown",
   "metadata": {
    "colab_type": "text",
    "id": "9J18lMXYvUd5"
   },
   "source": [
    "`pandas` allows easy loading of CSV files through the use of the method [pd.read_csv()](https://pandas.pydata.org/pandas-docs/stable/reference/api/pandas.read_csv.html):"
   ]
  },
  {
   "cell_type": "code",
   "execution_count": 8,
   "metadata": {
    "colab": {},
    "colab_type": "code",
    "executionInfo": {
     "elapsed": 1535,
     "status": "ok",
     "timestamp": 1595517161081,
     "user": {
      "displayName": "Norman Rodriguez",
      "photoUrl": "https://lh3.googleusercontent.com/a-/AOh14GiXcbIxQ0CYzDTlPuMhfh4q4RrONoW5L_HFnRCh=s64",
      "userId": "01368312674772044880"
     },
     "user_tz": 300
    },
    "id": "k5c7RO7dmWzU",
    "scrolled": true
   },
   "outputs": [],
   "source": [
    "# Load a file as a DataFrame and assign to the variable name df\n",
    "df = pd.read_csv(\"data/D.csv\")"
   ]
  },
  {
   "cell_type": "markdown",
   "metadata": {
    "colab_type": "text",
    "id": "CNPKyOeqmWzh"
   },
   "source": [
    "The contents of the file ```D.csv``` are now stored in the DataFrame object ```df```.\n",
    "\n",
    "There are several common methods and attributes available to take a peek at the data and get a sense of it:\n",
    "\n",
    "1. ```DataFrame.head()```  -> returns the column names and first 5 rows by default\n",
    "2. ```DataFrame.tail()```  -> returns the column names and last 5 rows by default\n",
    "3. ```DataFrame.shape```   -> returns (num_rows, num_columns)\n",
    "4. ```DataFrame.columns``` -> returns index of columns\n",
    "5. ```DataFrame.index```   -> returns index of rows\n",
    "\n",
    "In your spare time please check the [pandas documentation](https://pandas.pydata.org/pandas-docs/stable/) and explore the parameters of these methods as well as other methods. Familiarity with this library will dramatically improve your productivity as a data scientist.\n",
    "\n",
    "Using ```df.head()``` and ```df.tail()``` we can take a look at the data contents. Unless specified otherwise, Series and DataFrame objects have indices starting at 0 and increase monotonically upward along the integers."
   ]
  },
  {
   "cell_type": "code",
   "execution_count": 9,
   "metadata": {
    "colab": {
     "base_uri": "https://localhost:8080/",
     "height": 197
    },
    "colab_type": "code",
    "executionInfo": {
     "elapsed": 554,
     "status": "ok",
     "timestamp": 1595517165563,
     "user": {
      "displayName": "Norman Rodriguez",
      "photoUrl": "https://lh3.googleusercontent.com/a-/AOh14GiXcbIxQ0CYzDTlPuMhfh4q4RrONoW5L_HFnRCh=s64",
      "userId": "01368312674772044880"
     },
     "user_tz": 300
    },
    "id": "v_wpVnsjmWzi",
    "outputId": "1a7c5ce9-a4c0-4693-c56a-eeeb8d496377"
   },
   "outputs": [
    {
     "data": {
      "text/html": [
       "<div>\n",
       "<style scoped>\n",
       "    .dataframe tbody tr th:only-of-type {\n",
       "        vertical-align: middle;\n",
       "    }\n",
       "\n",
       "    .dataframe tbody tr th {\n",
       "        vertical-align: top;\n",
       "    }\n",
       "\n",
       "    .dataframe thead th {\n",
       "        text-align: right;\n",
       "    }\n",
       "</style>\n",
       "<table border=\"1\" class=\"dataframe\">\n",
       "  <thead>\n",
       "    <tr style=\"text-align: right;\">\n",
       "      <th></th>\n",
       "      <th>Date</th>\n",
       "      <th>Open</th>\n",
       "      <th>High</th>\n",
       "      <th>Low</th>\n",
       "      <th>Close</th>\n",
       "      <th>Adj Close</th>\n",
       "      <th>Volume</th>\n",
       "    </tr>\n",
       "  </thead>\n",
       "  <tbody>\n",
       "    <tr>\n",
       "      <th>0</th>\n",
       "      <td>2014-07-28</td>\n",
       "      <td>69.750000</td>\n",
       "      <td>71.059998</td>\n",
       "      <td>69.750000</td>\n",
       "      <td>70.879997</td>\n",
       "      <td>57.963978</td>\n",
       "      <td>1806400</td>\n",
       "    </tr>\n",
       "    <tr>\n",
       "      <th>1</th>\n",
       "      <td>2014-07-29</td>\n",
       "      <td>70.669998</td>\n",
       "      <td>70.980003</td>\n",
       "      <td>69.930000</td>\n",
       "      <td>69.930000</td>\n",
       "      <td>57.187099</td>\n",
       "      <td>2231100</td>\n",
       "    </tr>\n",
       "    <tr>\n",
       "      <th>2</th>\n",
       "      <td>2014-07-30</td>\n",
       "      <td>70.000000</td>\n",
       "      <td>70.660004</td>\n",
       "      <td>68.400002</td>\n",
       "      <td>68.970001</td>\n",
       "      <td>56.402020</td>\n",
       "      <td>2588900</td>\n",
       "    </tr>\n",
       "    <tr>\n",
       "      <th>3</th>\n",
       "      <td>2014-07-31</td>\n",
       "      <td>68.629997</td>\n",
       "      <td>68.849998</td>\n",
       "      <td>67.580002</td>\n",
       "      <td>67.639999</td>\n",
       "      <td>55.314388</td>\n",
       "      <td>3266900</td>\n",
       "    </tr>\n",
       "    <tr>\n",
       "      <th>4</th>\n",
       "      <td>2014-08-01</td>\n",
       "      <td>67.330002</td>\n",
       "      <td>68.410004</td>\n",
       "      <td>67.220001</td>\n",
       "      <td>67.589996</td>\n",
       "      <td>55.273487</td>\n",
       "      <td>2601800</td>\n",
       "    </tr>\n",
       "  </tbody>\n",
       "</table>\n",
       "</div>"
      ],
      "text/plain": [
       "         Date       Open       High        Low      Close  Adj Close   Volume\n",
       "0  2014-07-28  69.750000  71.059998  69.750000  70.879997  57.963978  1806400\n",
       "1  2014-07-29  70.669998  70.980003  69.930000  69.930000  57.187099  2231100\n",
       "2  2014-07-30  70.000000  70.660004  68.400002  68.970001  56.402020  2588900\n",
       "3  2014-07-31  68.629997  68.849998  67.580002  67.639999  55.314388  3266900\n",
       "4  2014-08-01  67.330002  68.410004  67.220001  67.589996  55.273487  2601800"
      ]
     },
     "execution_count": 9,
     "metadata": {},
     "output_type": "execute_result"
    }
   ],
   "source": [
    "# Look at the head of the DataFrame (i.e. the top rows of the DataFrame)\n",
    "df.head()"
   ]
  },
  {
   "cell_type": "code",
   "execution_count": 10,
   "metadata": {
    "colab": {
     "base_uri": "https://localhost:8080/",
     "height": 197
    },
    "colab_type": "code",
    "executionInfo": {
     "elapsed": 700,
     "status": "ok",
     "timestamp": 1595517168721,
     "user": {
      "displayName": "Norman Rodriguez",
      "photoUrl": "https://lh3.googleusercontent.com/a-/AOh14GiXcbIxQ0CYzDTlPuMhfh4q4RrONoW5L_HFnRCh=s64",
      "userId": "01368312674772044880"
     },
     "user_tz": 300
    },
    "id": "p1ADsMMrmWzs",
    "outputId": "ae21824b-1a9d-4126-db67-a9589b00a60f",
    "scrolled": true
   },
   "outputs": [
    {
     "data": {
      "text/html": [
       "<div>\n",
       "<style scoped>\n",
       "    .dataframe tbody tr th:only-of-type {\n",
       "        vertical-align: middle;\n",
       "    }\n",
       "\n",
       "    .dataframe tbody tr th {\n",
       "        vertical-align: top;\n",
       "    }\n",
       "\n",
       "    .dataframe thead th {\n",
       "        text-align: right;\n",
       "    }\n",
       "</style>\n",
       "<table border=\"1\" class=\"dataframe\">\n",
       "  <thead>\n",
       "    <tr style=\"text-align: right;\">\n",
       "      <th></th>\n",
       "      <th>Date</th>\n",
       "      <th>Open</th>\n",
       "      <th>High</th>\n",
       "      <th>Low</th>\n",
       "      <th>Close</th>\n",
       "      <th>Adj Close</th>\n",
       "      <th>Volume</th>\n",
       "    </tr>\n",
       "  </thead>\n",
       "  <tbody>\n",
       "    <tr>\n",
       "      <th>1254</th>\n",
       "      <td>2019-07-22</td>\n",
       "      <td>76.879997</td>\n",
       "      <td>76.930000</td>\n",
       "      <td>75.779999</td>\n",
       "      <td>76.260002</td>\n",
       "      <td>76.260002</td>\n",
       "      <td>2956500</td>\n",
       "    </tr>\n",
       "    <tr>\n",
       "      <th>1255</th>\n",
       "      <td>2019-07-23</td>\n",
       "      <td>76.099998</td>\n",
       "      <td>76.199997</td>\n",
       "      <td>75.269997</td>\n",
       "      <td>75.430000</td>\n",
       "      <td>75.430000</td>\n",
       "      <td>3175600</td>\n",
       "    </tr>\n",
       "    <tr>\n",
       "      <th>1256</th>\n",
       "      <td>2019-07-24</td>\n",
       "      <td>75.660004</td>\n",
       "      <td>75.720001</td>\n",
       "      <td>74.889999</td>\n",
       "      <td>75.180000</td>\n",
       "      <td>75.180000</td>\n",
       "      <td>3101900</td>\n",
       "    </tr>\n",
       "    <tr>\n",
       "      <th>1257</th>\n",
       "      <td>2019-07-25</td>\n",
       "      <td>75.150002</td>\n",
       "      <td>75.430000</td>\n",
       "      <td>74.610001</td>\n",
       "      <td>74.860001</td>\n",
       "      <td>74.860001</td>\n",
       "      <td>3417200</td>\n",
       "    </tr>\n",
       "    <tr>\n",
       "      <th>1258</th>\n",
       "      <td>2019-07-26</td>\n",
       "      <td>74.730003</td>\n",
       "      <td>75.349998</td>\n",
       "      <td>74.610001</td>\n",
       "      <td>75.150002</td>\n",
       "      <td>75.150002</td>\n",
       "      <td>3076500</td>\n",
       "    </tr>\n",
       "  </tbody>\n",
       "</table>\n",
       "</div>"
      ],
      "text/plain": [
       "            Date       Open       High        Low      Close  Adj Close  \\\n",
       "1254  2019-07-22  76.879997  76.930000  75.779999  76.260002  76.260002   \n",
       "1255  2019-07-23  76.099998  76.199997  75.269997  75.430000  75.430000   \n",
       "1256  2019-07-24  75.660004  75.720001  74.889999  75.180000  75.180000   \n",
       "1257  2019-07-25  75.150002  75.430000  74.610001  74.860001  74.860001   \n",
       "1258  2019-07-26  74.730003  75.349998  74.610001  75.150002  75.150002   \n",
       "\n",
       "       Volume  \n",
       "1254  2956500  \n",
       "1255  3175600  \n",
       "1256  3101900  \n",
       "1257  3417200  \n",
       "1258  3076500  "
      ]
     },
     "execution_count": 10,
     "metadata": {},
     "output_type": "execute_result"
    }
   ],
   "source": [
    "# Look at the tail of the DataFrame (i.e. the last rows of the DataFrame)\n",
    "df.tail()"
   ]
  },
  {
   "cell_type": "markdown",
   "metadata": {
    "colab_type": "text",
    "id": "VzZrMgYrmWz2"
   },
   "source": [
    "Thus, we see there are 1259 data entries for Dominion Energy (remember that by default `pandas` indexes start with zero), each with 7 data points. The shape of a DataFrame is accessed using the ```shape``` attribute:"
   ]
  },
  {
   "cell_type": "code",
   "execution_count": 11,
   "metadata": {
    "colab": {
     "base_uri": "https://localhost:8080/",
     "height": 34
    },
    "colab_type": "code",
    "executionInfo": {
     "elapsed": 2623,
     "status": "ok",
     "timestamp": 1595517178200,
     "user": {
      "displayName": "Norman Rodriguez",
      "photoUrl": "https://lh3.googleusercontent.com/a-/AOh14GiXcbIxQ0CYzDTlPuMhfh4q4RrONoW5L_HFnRCh=s64",
      "userId": "01368312674772044880"
     },
     "user_tz": 300
    },
    "id": "NpT8gm8wmWz4",
    "outputId": "822680dd-f297-43d6-acbe-1a85ed48c84c"
   },
   "outputs": [
    {
     "data": {
      "text/plain": [
       "(1259, 7)"
      ]
     },
     "execution_count": 11,
     "metadata": {},
     "output_type": "execute_result"
    }
   ],
   "source": [
    "# Determine the shape of the two-dimensional structure, that is (num_rows, num_columns)\n",
    "df.shape"
   ]
  },
  {
   "cell_type": "markdown",
   "metadata": {
    "colab_type": "text",
    "id": "GEqBoMJemW0E"
   },
   "source": [
    "It's important to note that ```DataFrame.columns``` and ```DataFrame.index``` return an index object instead of a list. These are, in fact, the column index and the row index of your DataFrame, respectively. To cast an index to a list for further list manipulation, we use the ```list()``` method:"
   ]
  },
  {
   "cell_type": "code",
   "execution_count": 12,
   "metadata": {
    "colab": {
     "base_uri": "https://localhost:8080/",
     "height": 34
    },
    "colab_type": "code",
    "executionInfo": {
     "elapsed": 3437,
     "status": "ok",
     "timestamp": 1595517179056,
     "user": {
      "displayName": "Norman Rodriguez",
      "photoUrl": "https://lh3.googleusercontent.com/a-/AOh14GiXcbIxQ0CYzDTlPuMhfh4q4RrONoW5L_HFnRCh=s64",
      "userId": "01368312674772044880"
     },
     "user_tz": 300
    },
    "id": "XwO6f6ZvmW0F",
    "outputId": "4157e798-d74c-461f-bade-7caed302eb8f"
   },
   "outputs": [
    {
     "data": {
      "text/plain": [
       "['Date', 'Open', 'High', 'Low', 'Close', 'Adj Close', 'Volume']"
      ]
     },
     "execution_count": 12,
     "metadata": {},
     "output_type": "execute_result"
    }
   ],
   "source": [
    "# List of the column names of the DataFrame\n",
    "list(df.columns)\n",
    "# Run df.columns alone instead and see how the output differs. This time, the result would be an \"Index\" object."
   ]
  },
  {
   "cell_type": "code",
   "execution_count": 13,
   "metadata": {
    "colab": {
     "base_uri": "https://localhost:8080/",
     "height": 34
    },
    "colab_type": "code",
    "executionInfo": {
     "elapsed": 3423,
     "status": "ok",
     "timestamp": 1595517179079,
     "user": {
      "displayName": "Norman Rodriguez",
      "photoUrl": "https://lh3.googleusercontent.com/a-/AOh14GiXcbIxQ0CYzDTlPuMhfh4q4RrONoW5L_HFnRCh=s64",
      "userId": "01368312674772044880"
     },
     "user_tz": 300
    },
    "id": "MwBpkzIPmW0R",
    "outputId": "8529d26e-0052-418b-85c2-247d499d07eb",
    "scrolled": true
   },
   "outputs": [
    {
     "data": {
      "text/plain": [
       "[0, 1, 2, 3, 4, 5, 6, 7, 8, 9, 10, 11, 12, 13, 14, 15, 16, 17, 18, 19]"
      ]
     },
     "execution_count": 13,
     "metadata": {},
     "output_type": "execute_result"
    }
   ],
   "source": [
    "# List of the row indexes of the DataFrame\n",
    "list(df.index)[0:20]  # only showing first 20 index values to reduce screen output"
   ]
  },
  {
   "cell_type": "markdown",
   "metadata": {
    "colab_type": "text",
    "id": "7JY0rfXMmW0b",
    "tags": [
     "7_min"
    ]
   },
   "source": [
    "## Creating additional variables relevant to stock volatility"
   ]
  },
  {
   "cell_type": "markdown",
   "metadata": {
    "colab_type": "text",
    "id": "wdk8YMFkmW0d"
   },
   "source": [
    "Oftentimes, the data provided to you will not be sufficient to achieve your goal. You may have to add additional variables or data features to assist you. Recall that our original question concerned the relationship between stock trading volume and volatility. Therefore, our DataFrame must have features related to both of these quantities.\n",
    "\n",
    "It can be helpful to think about adding columns to DataFrames as adding adjacent columns one-by-one in Excel. Here is an example of how to do it:"
   ]
  },
  {
   "cell_type": "code",
   "execution_count": 14,
   "metadata": {
    "colab": {
     "base_uri": "https://localhost:8080/",
     "height": 197
    },
    "colab_type": "code",
    "executionInfo": {
     "elapsed": 3393,
     "status": "ok",
     "timestamp": 1595517179086,
     "user": {
      "displayName": "Norman Rodriguez",
      "photoUrl": "https://lh3.googleusercontent.com/a-/AOh14GiXcbIxQ0CYzDTlPuMhfh4q4RrONoW5L_HFnRCh=s64",
      "userId": "01368312674772044880"
     },
     "user_tz": 300
    },
    "id": "29w0FEOhmW0f",
    "outputId": "f1a5ca11-26eb-4e7b-86d8-a37f892d4144"
   },
   "outputs": [
    {
     "data": {
      "text/html": [
       "<div>\n",
       "<style scoped>\n",
       "    .dataframe tbody tr th:only-of-type {\n",
       "        vertical-align: middle;\n",
       "    }\n",
       "\n",
       "    .dataframe tbody tr th {\n",
       "        vertical-align: top;\n",
       "    }\n",
       "\n",
       "    .dataframe thead th {\n",
       "        text-align: right;\n",
       "    }\n",
       "</style>\n",
       "<table border=\"1\" class=\"dataframe\">\n",
       "  <thead>\n",
       "    <tr style=\"text-align: right;\">\n",
       "      <th></th>\n",
       "      <th>Date</th>\n",
       "      <th>Open</th>\n",
       "      <th>High</th>\n",
       "      <th>Low</th>\n",
       "      <th>Close</th>\n",
       "      <th>Adj Close</th>\n",
       "      <th>Volume</th>\n",
       "      <th>Symbol</th>\n",
       "    </tr>\n",
       "  </thead>\n",
       "  <tbody>\n",
       "    <tr>\n",
       "      <th>0</th>\n",
       "      <td>2014-07-28</td>\n",
       "      <td>69.750000</td>\n",
       "      <td>71.059998</td>\n",
       "      <td>69.750000</td>\n",
       "      <td>70.879997</td>\n",
       "      <td>57.963978</td>\n",
       "      <td>1806400</td>\n",
       "      <td>D</td>\n",
       "    </tr>\n",
       "    <tr>\n",
       "      <th>1</th>\n",
       "      <td>2014-07-29</td>\n",
       "      <td>70.669998</td>\n",
       "      <td>70.980003</td>\n",
       "      <td>69.930000</td>\n",
       "      <td>69.930000</td>\n",
       "      <td>57.187099</td>\n",
       "      <td>2231100</td>\n",
       "      <td>D</td>\n",
       "    </tr>\n",
       "    <tr>\n",
       "      <th>2</th>\n",
       "      <td>2014-07-30</td>\n",
       "      <td>70.000000</td>\n",
       "      <td>70.660004</td>\n",
       "      <td>68.400002</td>\n",
       "      <td>68.970001</td>\n",
       "      <td>56.402020</td>\n",
       "      <td>2588900</td>\n",
       "      <td>D</td>\n",
       "    </tr>\n",
       "    <tr>\n",
       "      <th>3</th>\n",
       "      <td>2014-07-31</td>\n",
       "      <td>68.629997</td>\n",
       "      <td>68.849998</td>\n",
       "      <td>67.580002</td>\n",
       "      <td>67.639999</td>\n",
       "      <td>55.314388</td>\n",
       "      <td>3266900</td>\n",
       "      <td>D</td>\n",
       "    </tr>\n",
       "    <tr>\n",
       "      <th>4</th>\n",
       "      <td>2014-08-01</td>\n",
       "      <td>67.330002</td>\n",
       "      <td>68.410004</td>\n",
       "      <td>67.220001</td>\n",
       "      <td>67.589996</td>\n",
       "      <td>55.273487</td>\n",
       "      <td>2601800</td>\n",
       "      <td>D</td>\n",
       "    </tr>\n",
       "  </tbody>\n",
       "</table>\n",
       "</div>"
      ],
      "text/plain": [
       "         Date       Open       High        Low      Close  Adj Close   Volume  \\\n",
       "0  2014-07-28  69.750000  71.059998  69.750000  70.879997  57.963978  1806400   \n",
       "1  2014-07-29  70.669998  70.980003  69.930000  69.930000  57.187099  2231100   \n",
       "2  2014-07-30  70.000000  70.660004  68.400002  68.970001  56.402020  2588900   \n",
       "3  2014-07-31  68.629997  68.849998  67.580002  67.639999  55.314388  3266900   \n",
       "4  2014-08-01  67.330002  68.410004  67.220001  67.589996  55.273487  2601800   \n",
       "\n",
       "  Symbol  \n",
       "0      D  \n",
       "1      D  \n",
       "2      D  \n",
       "3      D  \n",
       "4      D  "
      ]
     },
     "execution_count": 14,
     "metadata": {},
     "output_type": "execute_result"
    }
   ],
   "source": [
    "# Add a new column named \"Symbol\"\n",
    "df[\"Symbol\"] = \"D\"\n",
    "df.head()"
   ]
  },
  {
   "cell_type": "code",
   "execution_count": 15,
   "metadata": {
    "colab": {
     "base_uri": "https://localhost:8080/",
     "height": 123
    },
    "colab_type": "code",
    "executionInfo": {
     "elapsed": 3360,
     "status": "ok",
     "timestamp": 1595517179088,
     "user": {
      "displayName": "Norman Rodriguez",
      "photoUrl": "https://lh3.googleusercontent.com/a-/AOh14GiXcbIxQ0CYzDTlPuMhfh4q4RrONoW5L_HFnRCh=s64",
      "userId": "01368312674772044880"
     },
     "user_tz": 300
    },
    "id": "aBV8KdIXmW0v",
    "outputId": "4810325d-edaa-446b-9c84-89e24884b24c"
   },
   "outputs": [
    {
     "data": {
      "text/plain": [
       "0    1806400\n",
       "1    2231100\n",
       "2    2588900\n",
       "3    3266900\n",
       "4    2601800\n",
       "Name: Volume, dtype: int64"
      ]
     },
     "execution_count": 15,
     "metadata": {},
     "output_type": "execute_result"
    }
   ],
   "source": [
    "# We can access a column by using [] brackets and the column name\n",
    "df[\"Volume\"].head() # added .head() to suppress output"
   ]
  },
  {
   "cell_type": "code",
   "execution_count": 16,
   "metadata": {
    "colab": {
     "base_uri": "https://localhost:8080/",
     "height": 197
    },
    "colab_type": "code",
    "executionInfo": {
     "elapsed": 3315,
     "status": "ok",
     "timestamp": 1595517179099,
     "user": {
      "displayName": "Norman Rodriguez",
      "photoUrl": "https://lh3.googleusercontent.com/a-/AOh14GiXcbIxQ0CYzDTlPuMhfh4q4RrONoW5L_HFnRCh=s64",
      "userId": "01368312674772044880"
     },
     "user_tz": 300
    },
    "id": "o6Plvjn9mW07",
    "outputId": "e7102f0c-8e47-4c7c-9dc7-ca8fd747ced4"
   },
   "outputs": [
    {
     "data": {
      "text/html": [
       "<div>\n",
       "<style scoped>\n",
       "    .dataframe tbody tr th:only-of-type {\n",
       "        vertical-align: middle;\n",
       "    }\n",
       "\n",
       "    .dataframe tbody tr th {\n",
       "        vertical-align: top;\n",
       "    }\n",
       "\n",
       "    .dataframe thead th {\n",
       "        text-align: right;\n",
       "    }\n",
       "</style>\n",
       "<table border=\"1\" class=\"dataframe\">\n",
       "  <thead>\n",
       "    <tr style=\"text-align: right;\">\n",
       "      <th></th>\n",
       "      <th>Date</th>\n",
       "      <th>Open</th>\n",
       "      <th>High</th>\n",
       "      <th>Low</th>\n",
       "      <th>Close</th>\n",
       "      <th>Adj Close</th>\n",
       "      <th>Volume</th>\n",
       "      <th>Symbol</th>\n",
       "      <th>Volume_Millions</th>\n",
       "    </tr>\n",
       "  </thead>\n",
       "  <tbody>\n",
       "    <tr>\n",
       "      <th>0</th>\n",
       "      <td>2014-07-28</td>\n",
       "      <td>69.750000</td>\n",
       "      <td>71.059998</td>\n",
       "      <td>69.750000</td>\n",
       "      <td>70.879997</td>\n",
       "      <td>57.963978</td>\n",
       "      <td>1806400</td>\n",
       "      <td>D</td>\n",
       "      <td>1.8064</td>\n",
       "    </tr>\n",
       "    <tr>\n",
       "      <th>1</th>\n",
       "      <td>2014-07-29</td>\n",
       "      <td>70.669998</td>\n",
       "      <td>70.980003</td>\n",
       "      <td>69.930000</td>\n",
       "      <td>69.930000</td>\n",
       "      <td>57.187099</td>\n",
       "      <td>2231100</td>\n",
       "      <td>D</td>\n",
       "      <td>2.2311</td>\n",
       "    </tr>\n",
       "    <tr>\n",
       "      <th>2</th>\n",
       "      <td>2014-07-30</td>\n",
       "      <td>70.000000</td>\n",
       "      <td>70.660004</td>\n",
       "      <td>68.400002</td>\n",
       "      <td>68.970001</td>\n",
       "      <td>56.402020</td>\n",
       "      <td>2588900</td>\n",
       "      <td>D</td>\n",
       "      <td>2.5889</td>\n",
       "    </tr>\n",
       "    <tr>\n",
       "      <th>3</th>\n",
       "      <td>2014-07-31</td>\n",
       "      <td>68.629997</td>\n",
       "      <td>68.849998</td>\n",
       "      <td>67.580002</td>\n",
       "      <td>67.639999</td>\n",
       "      <td>55.314388</td>\n",
       "      <td>3266900</td>\n",
       "      <td>D</td>\n",
       "      <td>3.2669</td>\n",
       "    </tr>\n",
       "    <tr>\n",
       "      <th>4</th>\n",
       "      <td>2014-08-01</td>\n",
       "      <td>67.330002</td>\n",
       "      <td>68.410004</td>\n",
       "      <td>67.220001</td>\n",
       "      <td>67.589996</td>\n",
       "      <td>55.273487</td>\n",
       "      <td>2601800</td>\n",
       "      <td>D</td>\n",
       "      <td>2.6018</td>\n",
       "    </tr>\n",
       "  </tbody>\n",
       "</table>\n",
       "</div>"
      ],
      "text/plain": [
       "         Date       Open       High        Low      Close  Adj Close   Volume  \\\n",
       "0  2014-07-28  69.750000  71.059998  69.750000  70.879997  57.963978  1806400   \n",
       "1  2014-07-29  70.669998  70.980003  69.930000  69.930000  57.187099  2231100   \n",
       "2  2014-07-30  70.000000  70.660004  68.400002  68.970001  56.402020  2588900   \n",
       "3  2014-07-31  68.629997  68.849998  67.580002  67.639999  55.314388  3266900   \n",
       "4  2014-08-01  67.330002  68.410004  67.220001  67.589996  55.273487  2601800   \n",
       "\n",
       "  Symbol  Volume_Millions  \n",
       "0      D           1.8064  \n",
       "1      D           2.2311  \n",
       "2      D           2.5889  \n",
       "3      D           3.2669  \n",
       "4      D           2.6018  "
      ]
     },
     "execution_count": 16,
     "metadata": {},
     "output_type": "execute_result"
    }
   ],
   "source": [
    "# Add a new column named \"Volume_Millions\", which is calculated from the Volume column currently in df\n",
    "# divide every row in df['Volume'] by 1 million, store in new column\n",
    "df[\"Volume_Millions\"] = df[\"Volume\"] / 1000000\n",
    "df.head()"
   ]
  },
  {
   "cell_type": "code",
   "execution_count": 17,
   "metadata": {
    "colab": {
     "base_uri": "https://localhost:8080/",
     "height": 34
    },
    "colab_type": "code",
    "executionInfo": {
     "elapsed": 3271,
     "status": "ok",
     "timestamp": 1595517179103,
     "user": {
      "displayName": "Norman Rodriguez",
      "photoUrl": "https://lh3.googleusercontent.com/a-/AOh14GiXcbIxQ0CYzDTlPuMhfh4q4RrONoW5L_HFnRCh=s64",
      "userId": "01368312674772044880"
     },
     "user_tz": 300
    },
    "id": "NAKQi3L0mW1K",
    "outputId": "f5f9d3e3-f884-4d94-f374-2411399887dd"
   },
   "outputs": [
    {
     "data": {
      "text/plain": [
       "(1259, 9)"
      ]
     },
     "execution_count": 17,
     "metadata": {},
     "output_type": "execute_result"
    }
   ],
   "source": [
    "# Take a look at the updated DataFrame shape. Two new columns have been added.\n",
    "df.shape"
   ]
  },
  {
   "cell_type": "markdown",
   "metadata": {
    "colab_type": "text",
    "id": "fv8T3-FhmW1W"
   },
   "source": [
    "As discussed, we need to have a feature in our DataFrame that is related to volatility. Because this currently does not exist, we must create it from the already available features. Recall that volatility is a measure of the variability of daily returns over a period of time, so let's create a feature for daily returns. Daily returns are defined as the percentage gain or loss of a stock when comparing today's close price to the previous day's close price:"
   ]
  },
  {
   "cell_type": "code",
   "execution_count": 18,
   "metadata": {
    "colab": {},
    "colab_type": "code",
    "executionInfo": {
     "elapsed": 3272,
     "status": "ok",
     "timestamp": 1595517179113,
     "user": {
      "displayName": "Norman Rodriguez",
      "photoUrl": "https://lh3.googleusercontent.com/a-/AOh14GiXcbIxQ0CYzDTlPuMhfh4q4RrONoW5L_HFnRCh=s64",
      "userId": "01368312674772044880"
     },
     "user_tz": 300
    },
    "id": "U-d-WeDzkONa"
   },
   "outputs": [],
   "source": [
    "# Daily returns are the percentage change between today's close and the previous day's close\n",
    "# To get the previous day's close, we use Series.shift(1) (this lags our series by one day)\n",
    "df[\"Return\"] = (df[\"Close\"] / df[\"Close\"].shift(1)) - 1.0 # We subtract 1 to make this a growth percentage. So, for instance, not 1.2 (120%) but 0.2 (20%). "
   ]
  },
  {
   "cell_type": "markdown",
   "metadata": {
    "colab_type": "text",
    "id": "kvppdKwlkiuh"
   },
   "source": [
    "Let's create another statistical quantity to measure our volatility. Let's call it `VolStat`. This quantity takes the range of the price of each day (`High` - `Low`) rather than the difference between today's closing price and yesterday's closing price. This metric captures movements in the middle of each day, rather than just movements between days:"
   ]
  },
  {
   "cell_type": "code",
   "execution_count": 19,
   "metadata": {
    "colab": {},
    "colab_type": "code",
    "executionInfo": {
     "elapsed": 3272,
     "status": "ok",
     "timestamp": 1595517179120,
     "user": {
      "displayName": "Norman Rodriguez",
      "photoUrl": "https://lh3.googleusercontent.com/a-/AOh14GiXcbIxQ0CYzDTlPuMhfh4q4RrONoW5L_HFnRCh=s64",
      "userId": "01368312674772044880"
     },
     "user_tz": 300
    },
    "id": "4gLIi53dmW1Y"
   },
   "outputs": [],
   "source": [
    "df[\"VolStat\"] = (df[\"High\"] - df[\"Low\"]) / df[\"Open\"]"
   ]
  },
  {
   "cell_type": "markdown",
   "metadata": {
    "colab_type": "text",
    "id": "rdn77MPYmW1g"
   },
   "source": [
    "Here we see the power of ```pandas```. We can simply perform mathematical operations on columns of DataFrames just as if the DataFrames were single variables themselves. Let's check the data:"
   ]
  },
  {
   "cell_type": "code",
   "execution_count": 20,
   "metadata": {
    "colab": {
     "base_uri": "https://localhost:8080/",
     "height": 197
    },
    "colab_type": "code",
    "executionInfo": {
     "elapsed": 3238,
     "status": "ok",
     "timestamp": 1595517179122,
     "user": {
      "displayName": "Norman Rodriguez",
      "photoUrl": "https://lh3.googleusercontent.com/a-/AOh14GiXcbIxQ0CYzDTlPuMhfh4q4RrONoW5L_HFnRCh=s64",
      "userId": "01368312674772044880"
     },
     "user_tz": 300
    },
    "id": "xytUJHjvmW1i",
    "outputId": "878f6ad5-bd6d-418b-b6c9-ea8aa8bfa939"
   },
   "outputs": [
    {
     "data": {
      "text/html": [
       "<div>\n",
       "<style scoped>\n",
       "    .dataframe tbody tr th:only-of-type {\n",
       "        vertical-align: middle;\n",
       "    }\n",
       "\n",
       "    .dataframe tbody tr th {\n",
       "        vertical-align: top;\n",
       "    }\n",
       "\n",
       "    .dataframe thead th {\n",
       "        text-align: right;\n",
       "    }\n",
       "</style>\n",
       "<table border=\"1\" class=\"dataframe\">\n",
       "  <thead>\n",
       "    <tr style=\"text-align: right;\">\n",
       "      <th></th>\n",
       "      <th>Date</th>\n",
       "      <th>Open</th>\n",
       "      <th>High</th>\n",
       "      <th>Low</th>\n",
       "      <th>Close</th>\n",
       "      <th>Adj Close</th>\n",
       "      <th>Volume</th>\n",
       "      <th>Symbol</th>\n",
       "      <th>Volume_Millions</th>\n",
       "      <th>Return</th>\n",
       "      <th>VolStat</th>\n",
       "    </tr>\n",
       "  </thead>\n",
       "  <tbody>\n",
       "    <tr>\n",
       "      <th>0</th>\n",
       "      <td>2014-07-28</td>\n",
       "      <td>69.750000</td>\n",
       "      <td>71.059998</td>\n",
       "      <td>69.750000</td>\n",
       "      <td>70.879997</td>\n",
       "      <td>57.963978</td>\n",
       "      <td>1806400</td>\n",
       "      <td>D</td>\n",
       "      <td>1.8064</td>\n",
       "      <td>NaN</td>\n",
       "      <td>0.018781</td>\n",
       "    </tr>\n",
       "    <tr>\n",
       "      <th>1</th>\n",
       "      <td>2014-07-29</td>\n",
       "      <td>70.669998</td>\n",
       "      <td>70.980003</td>\n",
       "      <td>69.930000</td>\n",
       "      <td>69.930000</td>\n",
       "      <td>57.187099</td>\n",
       "      <td>2231100</td>\n",
       "      <td>D</td>\n",
       "      <td>2.2311</td>\n",
       "      <td>-0.013403</td>\n",
       "      <td>0.014858</td>\n",
       "    </tr>\n",
       "    <tr>\n",
       "      <th>2</th>\n",
       "      <td>2014-07-30</td>\n",
       "      <td>70.000000</td>\n",
       "      <td>70.660004</td>\n",
       "      <td>68.400002</td>\n",
       "      <td>68.970001</td>\n",
       "      <td>56.402020</td>\n",
       "      <td>2588900</td>\n",
       "      <td>D</td>\n",
       "      <td>2.5889</td>\n",
       "      <td>-0.013728</td>\n",
       "      <td>0.032286</td>\n",
       "    </tr>\n",
       "    <tr>\n",
       "      <th>3</th>\n",
       "      <td>2014-07-31</td>\n",
       "      <td>68.629997</td>\n",
       "      <td>68.849998</td>\n",
       "      <td>67.580002</td>\n",
       "      <td>67.639999</td>\n",
       "      <td>55.314388</td>\n",
       "      <td>3266900</td>\n",
       "      <td>D</td>\n",
       "      <td>3.2669</td>\n",
       "      <td>-0.019284</td>\n",
       "      <td>0.018505</td>\n",
       "    </tr>\n",
       "    <tr>\n",
       "      <th>4</th>\n",
       "      <td>2014-08-01</td>\n",
       "      <td>67.330002</td>\n",
       "      <td>68.410004</td>\n",
       "      <td>67.220001</td>\n",
       "      <td>67.589996</td>\n",
       "      <td>55.273487</td>\n",
       "      <td>2601800</td>\n",
       "      <td>D</td>\n",
       "      <td>2.6018</td>\n",
       "      <td>-0.000739</td>\n",
       "      <td>0.017674</td>\n",
       "    </tr>\n",
       "  </tbody>\n",
       "</table>\n",
       "</div>"
      ],
      "text/plain": [
       "         Date       Open       High        Low      Close  Adj Close   Volume  \\\n",
       "0  2014-07-28  69.750000  71.059998  69.750000  70.879997  57.963978  1806400   \n",
       "1  2014-07-29  70.669998  70.980003  69.930000  69.930000  57.187099  2231100   \n",
       "2  2014-07-30  70.000000  70.660004  68.400002  68.970001  56.402020  2588900   \n",
       "3  2014-07-31  68.629997  68.849998  67.580002  67.639999  55.314388  3266900   \n",
       "4  2014-08-01  67.330002  68.410004  67.220001  67.589996  55.273487  2601800   \n",
       "\n",
       "  Symbol  Volume_Millions    Return   VolStat  \n",
       "0      D           1.8064       NaN  0.018781  \n",
       "1      D           2.2311 -0.013403  0.014858  \n",
       "2      D           2.5889 -0.013728  0.032286  \n",
       "3      D           3.2669 -0.019284  0.018505  \n",
       "4      D           2.6018 -0.000739  0.017674  "
      ]
     },
     "execution_count": 20,
     "metadata": {},
     "output_type": "execute_result"
    }
   ],
   "source": [
    "df.head()"
   ]
  },
  {
   "cell_type": "markdown",
   "metadata": {
    "colab_type": "text",
    "id": "UaV8XitRmW1r"
   },
   "source": [
    "Now we have features relevant to the original question, and can proceed to the analysis step. A common first step in data analysis is to learn about the **distribution** of the available data. The distribution refers to how the data is dispersed across all possible values that the data could take on. This will be made clear next."
   ]
  },
  {
   "cell_type": "markdown",
   "metadata": {
    "colab_type": "text",
    "id": "Ud4UxjUhmW1t",
    "tags": [
     "30_min"
    ]
   },
   "source": [
    "## Learning about the data distribution through summary statistics"
   ]
  },
  {
   "cell_type": "markdown",
   "metadata": {
    "colab_type": "text",
    "id": "FIt96L-_7oMN"
   },
   "source": [
    "Let's take a simple example - suppose you have a list of ages taken from a survey you conducted among your friends. The ages are:\n",
    "\n",
    "```\n",
    "21, 30, 35, 40, 41, 45, 44, 44, 48, 43, 70\n",
    "```\n",
    "\n",
    "If you needed to summarize this set of numbers, you could group them in subsets (by tens for example; e.g. 20s, 30s, 40s, etc.) and count the number of numbers within each subset. In this example, the resulting *frequency table* would be:\n",
    "\n",
    "| Group | Number of people |\n",
    "| ------| -----------------|\n",
    "20-29 | 1 |\n",
    "30-39 | 2 |\n",
    "40-49 | 7 |\n",
    "50-59 | 0 |\n",
    "60-69 | 0 |\n",
    "70-79 | 1 |\n",
    "\n",
    "So, instead of reciting the ages of your friends one-by-one every time someone asks you about them, you can simply report the frequency table and say \"most of my friends are between 40 and 49 years old\". When you make claims like this, you are describing the *distribution* of the available data across the subsets you have defined.\n",
    "\n",
    "`pandas` has convenient functionality that allows you to easily create frequency tables and even plot them. Let's plot the distribution of `Volume_Millions`. We can use `pd.cut()` to calculate our frequency table:"
   ]
  },
  {
   "cell_type": "code",
   "execution_count": 21,
   "metadata": {
    "colab": {
     "base_uri": "https://localhost:8080/",
     "height": 300
    },
    "colab_type": "code",
    "executionInfo": {
     "elapsed": 3207,
     "status": "ok",
     "timestamp": 1595517179124,
     "user": {
      "displayName": "Norman Rodriguez",
      "photoUrl": "https://lh3.googleusercontent.com/a-/AOh14GiXcbIxQ0CYzDTlPuMhfh4q4RrONoW5L_HFnRCh=s64",
      "userId": "01368312674772044880"
     },
     "user_tz": 300
    },
    "id": "FWK3TLig_bVm",
    "outputId": "a17299a1-c21c-42fa-ba2d-034d8fc45248"
   },
   "outputs": [
    {
     "data": {
      "text/plain": [
       "(0, 1]        3\n",
       "(1, 2]      266\n",
       "(2, 3]      488\n",
       "(3, 4]      266\n",
       "(4, 5]      118\n",
       "(5, 6]       60\n",
       "(6, 7]       22\n",
       "(7, 8]       13\n",
       "(8, 9]        9\n",
       "(9, 10]       7\n",
       "(10, 11]      1\n",
       "(11, 12]      2\n",
       "(12, 13]      2\n",
       "(13, 14]      1\n",
       "(14, 15]      1\n",
       "Name: Volume_Millions, dtype: int64"
      ]
     },
     "execution_count": 21,
     "metadata": {},
     "output_type": "execute_result"
    }
   ],
   "source": [
    "# Let's define our bins (the boundaries of the subgroups)\n",
    "bins = [0,1,2,3,4,5,6,7,8,9,10,11,12,13,14,15] # These are given in millions of shares\n",
    "freq  = pd.cut(df[\"Volume_Millions\"], bins=bins) # This \"cuts\" the Volume_Millions Series into the bins\n",
    "freq = freq.value_counts(sort=False) # Now we count the number of elements inside each bin. We use sort=False to avoid having our groups sorted by size\n",
    "freq # The result is our frequency table. Freq is actually a Series in which the index is the bins and the data are the counts"
   ]
  },
  {
   "cell_type": "markdown",
   "metadata": {
    "colab_type": "text",
    "id": "qCDXwhUOBhkI"
   },
   "source": [
    "And then make a **histogram** of the table:"
   ]
  },
  {
   "cell_type": "code",
   "execution_count": 23,
   "metadata": {
    "colab": {
     "base_uri": "https://localhost:8080/",
     "height": 313
    },
    "colab_type": "code",
    "executionInfo": {
     "elapsed": 3467,
     "status": "ok",
     "timestamp": 1595517179416,
     "user": {
      "displayName": "Norman Rodriguez",
      "photoUrl": "https://lh3.googleusercontent.com/a-/AOh14GiXcbIxQ0CYzDTlPuMhfh4q4RrONoW5L_HFnRCh=s64",
      "userId": "01368312674772044880"
     },
     "user_tz": 300
    },
    "id": "I0YSBJoWBImk",
    "outputId": "77d95bcb-b37b-4522-f9b5-155151a8771d"
   },
   "outputs": [
    {
     "data": {
      "text/plain": [
       "<matplotlib.axes._subplots.AxesSubplot at 0x7f0089401fd0>"
      ]
     },
     "execution_count": 23,
     "metadata": {},
     "output_type": "execute_result"
    },
    {
     "data": {
      "image/png": "[encoded data removed]",
      "text/plain": [
       "<Figure size 432x288 with 1 Axes>"
      ]
     },
     "metadata": {
      "needs_background": "light"
     },
     "output_type": "display_data"
    }
   ],
   "source": [
    "freq.plot.bar() # Since freq is a Series, we can use .plot.bar() to easily create a barplot"
   ]
  },
  {
   "cell_type": "markdown",
   "metadata": {
    "colab_type": "text",
    "id": "zJoK8F0MBpjc"
   },
   "source": [
    "A histogram shows how many values in a particular dataset fall into any of several pre-defined \"buckets\". In this case, \"buckets\" represent the volume in millions and are. Instead of writing all the code above, you can alternatively use this nice one-liner:</font>"
   ]
  },
  {
   "cell_type": "code",
   "execution_count": 24,
   "metadata": {
    "colab": {
     "base_uri": "https://localhost:8080/",
     "height": 283
    },
    "colab_type": "code",
    "executionInfo": {
     "elapsed": 3833,
     "status": "ok",
     "timestamp": 1595517179815,
     "user": {
      "displayName": "Norman Rodriguez",
      "photoUrl": "https://lh3.googleusercontent.com/a-/AOh14GiXcbIxQ0CYzDTlPuMhfh4q4RrONoW5L_HFnRCh=s64",
      "userId": "01368312674772044880"
     },
     "user_tz": 300
    },
    "id": "I_bxxiZ6_FSf",
    "outputId": "c47028ef-1605-4163-df8b-8fc312dd2871"
   },
   "outputs": [
    {
     "data": {
      "text/plain": [
       "<matplotlib.axes._subplots.AxesSubplot at 0x7f00893d5ac8>"
      ]
     },
     "execution_count": 24,
     "metadata": {},
     "output_type": "execute_result"
    },
    {
     "data": {
      "image/png": "[encoded data removed]",
      "text/plain": [
       "<Figure size 432x288 with 1 Axes>"
      ]
     },
     "metadata": {
      "needs_background": "light"
     },
     "output_type": "display_data"
    }
   ],
   "source": [
    "# This one doesn't have white space between the bars, which makes sense because the X axis does not have gaps!\n",
    "# Since df[\"Volume_Millions\"] is a series as well, we can use .plot.hist() to create a histogram.\n",
    "df[\"Volume_Millions\"].plot.hist(bins=bins) # Pandas computes the frequency table under the hood and plots it "
   ]
  },
  {
   "cell_type": "markdown",
   "metadata": {
    "colab_type": "text",
    "id": "AGKLrddBC49n"
   },
   "source": [
    "We can see that on most days, the traded volume is higher than 1 million but lower than 4 million. There are very few days with traded volume higher than 6 million."
   ]
  },
  {
   "cell_type": "markdown",
   "metadata": {
    "colab_type": "text",
    "id": "arwRlZVXEdJT"
   },
   "source": [
    "While creating frequency tables and plotting them is useful, we sometimes want to have an even more summarized view of our data. For that, we compute **summary statistics**. You can think of your histogram is a summary of your raw data, and your summary statistics as a summary of the shape of your histogram.\n",
    "\n",
    "Let's aggregate summary statistics for the five energy sector companies under study. Fortunately, the DataFrame and Series objects offer a myriad of data summary statistics methods:\n",
    "\n",
    "1. ```min()```\n",
    "2. ```max()```\n",
    "3. ```mean()```\n",
    "4. ```quantile()```\n",
    "5. ```median()```"
   ]
  },
  {
   "cell_type": "markdown",
   "metadata": {
    "colab_type": "text",
    "id": "rR0PXBZ0o_Pk"
   },
   "source": [
    "We can visualize the first three quantities using an example histogram (the underlying dataset is simply a bunch of random numbers):</font>\n",
    "\n",
    "<img src=\"data/images/hist_min_max_mean.jpg\" alt=\"Some summary statistics\" style=\"width: 400px;\"/>"
   ]
  },
  {
   "cell_type": "markdown",
   "metadata": {
    "colab_type": "text",
    "id": "V0aXtv-7vIt1"
   },
   "source": [
    "`min` tells you what the minimum value in your dataset is, and `max` tells you what the maximum value is. The **[mean](https://www.mathgoodies.com/lessons/vol8/mean)** is a type of average that attempts to report the \"center\" of your distribution; i.e. the \"center\" of your histogram. If your data are mostly concentrated around the middle of the histogram (like in this example), then the mean is a very good summary of the \"center\" of the dataset; however, as you will see, this is not always the case.\n",
    "\n",
    "Let's now compute and plot summary statistics for `Volume_Millions`. Notice how simple the functions are to apply to the DataFrame. Simply type the name of the DataFrame, followed by a ```.``` and then the method name you'd like to calculate. We've chosen to select a single column ```Volume_Millions``` from the DataFrame ```df```, but you could have just as easily called these methods on the full DataFrame rather than a single column:"
   ]
  },
  {
   "cell_type": "code",
   "execution_count": 25,
   "metadata": {
    "colab": {
     "base_uri": "https://localhost:8080/",
     "height": 34
    },
    "colab_type": "code",
    "executionInfo": {
     "elapsed": 824,
     "status": "ok",
     "timestamp": 1595520851525,
     "user": {
      "displayName": "Norman Rodriguez",
      "photoUrl": "https://lh3.googleusercontent.com/a-/AOh14GiXcbIxQ0CYzDTlPuMhfh4q4RrONoW5L_HFnRCh=s64",
      "userId": "01368312674772044880"
     },
     "user_tz": 300
    },
    "id": "S0n1DqAsmW1x",
    "outputId": "ea48806e-7156-4dd7-db09-e50d23697734"
   },
   "outputs": [
    {
     "data": {
      "text/plain": [
       "0.73839999999999995"
      ]
     },
     "execution_count": 25,
     "metadata": {},
     "output_type": "execute_result"
    }
   ],
   "source": [
    "# Calculate the minimum of the Volume_Millions column\n",
    "df[\"Volume_Millions\"].min()"
   ]
  },
  {
   "cell_type": "code",
   "execution_count": 26,
   "metadata": {
    "colab": {
     "base_uri": "https://localhost:8080/",
     "height": 34
    },
    "colab_type": "code",
    "executionInfo": {
     "elapsed": 526,
     "status": "ok",
     "timestamp": 1595520860560,
     "user": {
      "displayName": "Norman Rodriguez",
      "photoUrl": "https://lh3.googleusercontent.com/a-/AOh14GiXcbIxQ0CYzDTlPuMhfh4q4RrONoW5L_HFnRCh=s64",
      "userId": "01368312674772044880"
     },
     "user_tz": 300
    },
    "id": "dcFoq1SB1rBs",
    "outputId": "61dd9ea5-9c59-42e5-8f25-6ba3409b3b09"
   },
   "outputs": [
    {
     "data": {
      "text/plain": [
       "14.587400000000001"
      ]
     },
     "execution_count": 26,
     "metadata": {},
     "output_type": "execute_result"
    }
   ],
   "source": [
    "# Calculate the maximum of the Volume_Millions column\n",
    "df[\"Volume_Millions\"].max()"
   ]
  },
  {
   "cell_type": "markdown",
   "metadata": {
    "colab_type": "text",
    "id": "JiIZQaQf17mn"
   },
   "source": [
    "For the mean, we also plot the accompanying histogram:"
   ]
  },
  {
   "cell_type": "code",
   "execution_count": 27,
   "metadata": {
    "colab": {
     "base_uri": "https://localhost:8080/",
     "height": 283
    },
    "colab_type": "code",
    "executionInfo": {
     "elapsed": 4280,
     "status": "ok",
     "timestamp": 1595517180434,
     "user": {
      "displayName": "Norman Rodriguez",
      "photoUrl": "https://lh3.googleusercontent.com/a-/AOh14GiXcbIxQ0CYzDTlPuMhfh4q4RrONoW5L_HFnRCh=s64",
      "userId": "01368312674772044880"
     },
     "user_tz": 300
    },
    "id": "Z1IWnmaR18oT",
    "outputId": "ef045106-d1a2-4b15-eaaf-a761a5924a91"
   },
   "outputs": [
    {
     "data": {
      "text/plain": [
       "Text(5,450,'The mean value is 3.08812930898')"
      ]
     },
     "execution_count": 27,
     "metadata": {},
     "output_type": "execute_result"
    },
    {
     "data": {
      "image/png": "[encoded data removed]",
      "text/plain": [
       "<Figure size 432x288 with 1 Axes>"
      ]
     },
     "metadata": {
      "needs_background": "light"
     },
     "output_type": "display_data"
    }
   ],
   "source": [
    "# Calculate the mean of the Volume_Millions column\n",
    "the_mean = df[\"Volume_Millions\"].mean()\n",
    "ax = df[\"Volume_Millions\"].plot.hist(bins=bins) # We save our plot to a variable called \"ax\"\n",
    "ax.axvline(x=the_mean, color=\"red\") # And then use the axvline method to add a vertical line at a desired point on the X axis\n",
    "ax.text(x=5, y=450, s=\"The mean value is \" + str(the_mean)) # We can add some text too"
   ]
  },
  {
   "cell_type": "markdown",
   "metadata": {
    "colab_type": "text",
    "id": "lvuau2ib2q9-"
   },
   "source": [
    "The mean attempts to describe where the \"center\" of the histogram is, with the hope that most (or at least a large chunk) of the data lies around that \"center\". Now, let's look at the **median** value of this dataset:"
   ]
  },
  {
   "cell_type": "code",
   "execution_count": 28,
   "metadata": {
    "colab": {
     "base_uri": "https://localhost:8080/",
     "height": 283
    },
    "colab_type": "code",
    "executionInfo": {
     "elapsed": 746,
     "status": "ok",
     "timestamp": 1595521521694,
     "user": {
      "displayName": "Norman Rodriguez",
      "photoUrl": "https://lh3.googleusercontent.com/a-/AOh14GiXcbIxQ0CYzDTlPuMhfh4q4RrONoW5L_HFnRCh=s64",
      "userId": "01368312674772044880"
     },
     "user_tz": 300
    },
    "id": "pe4GR5wA2to9",
    "outputId": "08625dca-ada9-4308-c3c8-0a109b4b00c6"
   },
   "outputs": [
    {
     "data": {
      "text/plain": [
       "Text(5,350,'The median value is 2.7')"
      ]
     },
     "execution_count": 28,
     "metadata": {},
     "output_type": "execute_result"
    },
    {
     "data": {
      "image/png": "[encoded data removed]",
      "text/plain": [
       "<Figure size 432x288 with 1 Axes>"
      ]
     },
     "metadata": {
      "needs_background": "light"
     },
     "output_type": "display_data"
    }
   ],
   "source": [
    "# Calculate the mean of the Volume_Millions column\n",
    "the_mean = df[\"Volume_Millions\"].mean()\n",
    "the_mean = round(the_mean, 2) # Let's round it to make it more readable\n",
    "\n",
    "# Calculate the median of the Volume_Millions column\n",
    "the_median = df[\"Volume_Millions\"].median()\n",
    "the_median = round(the_median, 2) # Let's round it to make it more readable\n",
    "\n",
    "ax = df[\"Volume_Millions\"].plot.hist(bins=bins)\n",
    "ax.axvline(x=the_mean, color=\"red\")\n",
    "ax.axvline(x=the_median, color=\"green\")\n",
    "ax.text(x=5, y=450, s=\"The mean value is \" + str(the_mean), color=\"red\")\n",
    "ax.text(x=5, y=350, s=\"The median value is \" + str(the_median), color=\"green\")"
   ]
  },
  {
   "cell_type": "markdown",
   "metadata": {
    "colab_type": "text",
    "id": "7-ncmkDQ3Asw"
   },
   "source": [
    "Unlike the mean, the median gives the 50th percentile value in your dataset; i.e. the number such that half of the values in the dataset lie below it, and half of the values lie above it. When your distribution is symmetrical, your mean and median usually match. But when it is asymmetrical, like this one, they generally don't."
   ]
  },
  {
   "cell_type": "markdown",
   "metadata": {
    "tags": [
     "3_min"
    ]
   },
   "source": [
    "### Question:\n",
    "\n",
    "In this scenario, does the mean or the median give a better summary of the \"typical\" value in the dataset? Why?"
   ]
  },
  {
   "cell_type": "markdown",
   "metadata": {
    "colab_type": "text",
    "id": "Bvb74F6U4cLI"
   },
   "source": [
    "Finally, let's compute the `quantile` statistics. The `quantile()` function gives you the $X$-th percentile of your dataset; i.e. the value such that $X$ percent of your dataset is less than that value. The median is a classical case of this, where $X = 50$. As another example, a cutoff of $X = 25$ means that 25\\% of your data are below the resulting value:"
   ]
  },
  {
   "cell_type": "code",
   "execution_count": 29,
   "metadata": {
    "colab": {
     "base_uri": "https://localhost:8080/",
     "height": 283
    },
    "colab_type": "code",
    "executionInfo": {
     "elapsed": 940,
     "status": "ok",
     "timestamp": 1595525401733,
     "user": {
      "displayName": "Norman Rodriguez",
      "photoUrl": "https://lh3.googleusercontent.com/a-/AOh14GiXcbIxQ0CYzDTlPuMhfh4q4RrONoW5L_HFnRCh=s64",
      "userId": "01368312674772044880"
     },
     "user_tz": 300
    },
    "id": "OIb3FtGl5nFv",
    "outputId": "d5be24f1-276e-402a-8d22-43e9474eecd7"
   },
   "outputs": [
    {
     "data": {
      "text/plain": [
       "Text(5,450,'The 25% quantile is 2.0888')"
      ]
     },
     "execution_count": 29,
     "metadata": {},
     "output_type": "execute_result"
    },
    {
     "data": {
      "image/png": "[encoded data removed]",
      "text/plain": [
       "<Figure size 432x288 with 1 Axes>"
      ]
     },
     "metadata": {
      "needs_background": "light"
     },
     "output_type": "display_data"
    }
   ],
   "source": [
    "# Calculate the 25% quantile of the Volume_Millions column\n",
    "the_25 = df[\"Volume_Millions\"].quantile(0.25)\n",
    "ax = df[\"Volume_Millions\"].plot.hist(bins=bins)\n",
    "ax.axvline(x=the_25, color=\"red\")\n",
    "ax.text(x=5, y=450, s=\"The 25% quantile is \" + str(the_25))"
   ]
  },
  {
   "cell_type": "markdown",
   "metadata": {
    "colab_type": "text",
    "id": "U-gb5xJm6oBZ",
    "tags": [
     "5_min"
    ]
   },
   "source": [
    "### Exercise 1:\n",
    "\n",
    "Write code to calculate and plot the 50\\%, the 75\\% and the 100\\% quantiles. You'll see that the 50\\% quantile and the *median* are one and the same, by definition. Also, the 100\\% quantile is the same as the *maximum*."
   ]
  },
  {
   "cell_type": "markdown",
   "metadata": {
    "colab_type": "text",
    "id": "yCiP4-z0vPwe",
    "tags": [
     "ans_st"
    ]
   },
   "source": [
    "**Answer.**"
   ]
  },
  {
   "cell_type": "markdown",
   "metadata": {},
   "source": [
    "-------"
   ]
  },
  {
   "cell_type": "markdown",
   "metadata": {
    "colab_type": "text",
    "id": "3_IBpkvmmW3i"
   },
   "source": [
    "Is there a more efficient method to quickly compute all of these summary statistics? Yes. One incredibly useful method that combines these summary statistics and also adds a couple others is the [describe()](https://pandas.pydata.org/pandas-docs/stable/reference/api/pandas.DataFrame.describe.html) method:"
   ]
  },
  {
   "cell_type": "code",
   "execution_count": 30,
   "metadata": {
    "colab": {
     "base_uri": "https://localhost:8080/",
     "height": 176
    },
    "colab_type": "code",
    "executionInfo": {
     "elapsed": 4795,
     "status": "ok",
     "timestamp": 1595517181111,
     "user": {
      "displayName": "Norman Rodriguez",
      "photoUrl": "https://lh3.googleusercontent.com/a-/AOh14GiXcbIxQ0CYzDTlPuMhfh4q4RrONoW5L_HFnRCh=s64",
      "userId": "01368312674772044880"
     },
     "user_tz": 300
    },
    "id": "kOGde1IWmW3k",
    "outputId": "7bd38ecd-ffd6-4c72-e816-04976e070759"
   },
   "outputs": [
    {
     "data": {
      "text/plain": [
       "count    1259.000000\n",
       "mean        3.088129\n",
       "std         1.548809\n",
       "min         0.738400\n",
       "25%         2.088800\n",
       "50%         2.695700\n",
       "75%         3.612850\n",
       "max        14.587400\n",
       "Name: Volume_Millions, dtype: float64"
      ]
     },
     "execution_count": 30,
     "metadata": {},
     "output_type": "execute_result"
    }
   ],
   "source": [
    "df['Volume_Millions'].describe()"
   ]
  },
  {
   "cell_type": "markdown",
   "metadata": {
    "colab_type": "text",
    "id": "fWrB9sNtmW3y"
   },
   "source": [
    "From this distribution analysis of the daily trading volume, we can see that more than 14 million shares would be a very large trading day, whereas below 2 million shares would be a relatively small trading day."
   ]
  },
  {
   "cell_type": "markdown",
   "metadata": {
    "colab_type": "text",
    "id": "8Rhc7j4mmW30"
   },
   "source": [
    "In addition to describe, there is a [value_counts() method](https://pandas.pydata.org/pandas-docs/stable/reference/api/pandas.Series.value_counts.html) for checking the frequency of elements in categorical data. Please be aware that `value_counts()` is a method of the Series class and NOT the DataFrame class. This means you have to isolate a specific column of a DataFrame before calling `value_counts()`:"
   ]
  },
  {
   "cell_type": "code",
   "execution_count": 31,
   "metadata": {
    "colab": {
     "base_uri": "https://localhost:8080/",
     "height": 287
    },
    "colab_type": "code",
    "executionInfo": {
     "elapsed": 4763,
     "status": "ok",
     "timestamp": 1595517181113,
     "user": {
      "displayName": "Norman Rodriguez",
      "photoUrl": "https://lh3.googleusercontent.com/a-/AOh14GiXcbIxQ0CYzDTlPuMhfh4q4RrONoW5L_HFnRCh=s64",
      "userId": "01368312674772044880"
     },
     "user_tz": 300
    },
    "id": "bCgrCwUsmW33",
    "outputId": "63386a3e-69b1-446b-fe48-1f1f3a7ecfaa"
   },
   "outputs": [
    {
     "data": {
      "text/html": [
       "<div>\n",
       "<style scoped>\n",
       "    .dataframe tbody tr th:only-of-type {\n",
       "        vertical-align: middle;\n",
       "    }\n",
       "\n",
       "    .dataframe tbody tr th {\n",
       "        vertical-align: top;\n",
       "    }\n",
       "\n",
       "    .dataframe thead th {\n",
       "        text-align: right;\n",
       "    }\n",
       "</style>\n",
       "<table border=\"1\" class=\"dataframe\">\n",
       "  <thead>\n",
       "    <tr style=\"text-align: right;\">\n",
       "      <th></th>\n",
       "      <th>numbers</th>\n",
       "      <th>color</th>\n",
       "    </tr>\n",
       "  </thead>\n",
       "  <tbody>\n",
       "    <tr>\n",
       "      <th>0</th>\n",
       "      <td>1</td>\n",
       "      <td>red</td>\n",
       "    </tr>\n",
       "    <tr>\n",
       "      <th>1</th>\n",
       "      <td>2</td>\n",
       "      <td>red</td>\n",
       "    </tr>\n",
       "    <tr>\n",
       "      <th>2</th>\n",
       "      <td>3</td>\n",
       "      <td>red</td>\n",
       "    </tr>\n",
       "    <tr>\n",
       "      <th>3</th>\n",
       "      <td>4</td>\n",
       "      <td>blue</td>\n",
       "    </tr>\n",
       "    <tr>\n",
       "      <th>4</th>\n",
       "      <td>5</td>\n",
       "      <td>blue</td>\n",
       "    </tr>\n",
       "    <tr>\n",
       "      <th>5</th>\n",
       "      <td>6</td>\n",
       "      <td>green</td>\n",
       "    </tr>\n",
       "    <tr>\n",
       "      <th>6</th>\n",
       "      <td>7</td>\n",
       "      <td>blue</td>\n",
       "    </tr>\n",
       "    <tr>\n",
       "      <th>7</th>\n",
       "      <td>8</td>\n",
       "      <td>green</td>\n",
       "    </tr>\n",
       "  </tbody>\n",
       "</table>\n",
       "</div>"
      ],
      "text/plain": [
       "   numbers  color\n",
       "0        1    red\n",
       "1        2    red\n",
       "2        3    red\n",
       "3        4   blue\n",
       "4        5   blue\n",
       "5        6  green\n",
       "6        7   blue\n",
       "7        8  green"
      ]
     },
     "execution_count": 31,
     "metadata": {},
     "output_type": "execute_result"
    }
   ],
   "source": [
    "dict_data = {\n",
    "    \"numbers\": [1, 2, 3, 4, 5, 6, 7, 8],\n",
    "    \"color\": [\"red\", \"red\", \"red\", \"blue\", \"blue\", \"green\", \"blue\", \"green\"],\n",
    "}\n",
    "category_df = pd.DataFrame(data=dict_data)\n",
    "\n",
    "category_df"
   ]
  },
  {
   "cell_type": "code",
   "execution_count": null,
   "metadata": {
    "colab": {},
    "colab_type": "code",
    "executionInfo": {
     "elapsed": 4756,
     "status": "ok",
     "timestamp": 1595517181114,
     "user": {
      "displayName": "Norman Rodriguez",
      "photoUrl": "https://lh3.googleusercontent.com/a-/AOh14GiXcbIxQ0CYzDTlPuMhfh4q4RrONoW5L_HFnRCh=s64",
      "userId": "01368312674772044880"
     },
     "user_tz": 300
    },
    "id": "QlH0HVkbmW4M"
   },
   "outputs": [],
   "source": [
    "#why doesn't this work? (uncomment the expression that follows)\n",
    "#category_df.value_counts()"
   ]
  },
  {
   "cell_type": "code",
   "execution_count": 32,
   "metadata": {
    "colab": {},
    "colab_type": "code",
    "executionInfo": {
     "elapsed": 4751,
     "status": "ok",
     "timestamp": 1595517181116,
     "user": {
      "displayName": "Norman Rodriguez",
      "photoUrl": "https://lh3.googleusercontent.com/a-/AOh14GiXcbIxQ0CYzDTlPuMhfh4q4RrONoW5L_HFnRCh=s64",
      "userId": "01368312674772044880"
     },
     "user_tz": 300
    },
    "id": "0C5iO04nmW4x"
   },
   "outputs": [
    {
     "data": {
      "text/plain": [
       "blue     3\n",
       "red      3\n",
       "green    2\n",
       "Name: color, dtype: int64"
      ]
     },
     "execution_count": 32,
     "metadata": {},
     "output_type": "execute_result"
    }
   ],
   "source": [
    "# only Series objects can call this method (uncomment the following expression)\n",
    "category_df['color'].value_counts()"
   ]
  },
  {
   "cell_type": "markdown",
   "metadata": {
    "colab_type": "text",
    "id": "tsOngwFmmW5B",
    "tags": [
     "5_min"
    ]
   },
   "source": [
    "### Exercise 2:\n",
    "\n",
    "Determine the 25th, 50th, and 75th percentile for the ```Open```, ```High```, ```Low```, and ```Close``` columns of ```df```."
   ]
  },
  {
   "cell_type": "markdown",
   "metadata": {
    "colab_type": "text",
    "id": "vKPdNA3smW5H",
    "tags": [
     "ans_st"
    ]
   },
   "source": [
    "**Answer.**"
   ]
  },
  {
   "cell_type": "markdown",
   "metadata": {},
   "source": [
    "-------"
   ]
  },
  {
   "cell_type": "markdown",
   "metadata": {
    "colab_type": "text",
    "id": "TvyCyGMHmW6E",
    "tags": [
     "25_min"
    ]
   },
   "source": [
    "## Aggregating data from multiple companies"
   ]
  },
  {
   "cell_type": "markdown",
   "metadata": {
    "colab_type": "text",
    "collapsed": true,
    "id": "g0wHhSqemW6H"
   },
   "source": [
    "So far, we've only been looking at data from one of our five companies. Let's go ahead and combine all five CSV files to analyze the five companies together. This will also reduce the amount of programming work required since the code will be shared across the five companies.\n",
    "\n",
    "One way to accomplish this aggregation task is to use the [pd.concat()](https://pandas.pydata.org/pandas-docs/stable/reference/api/pandas.concat.html) method from ```pandas```. An input into this method may be a list of DataFrames that you'd like to concatenate. We will use a `for` loop to loop over each stock symbol, load the corresponding CSV file, and then append the result to a list which is later aggregated using ```pd.concat()```. Let's take a look at how this is done. We want to:\n",
    "\n",
    "1. Load all the CSV files into `pandas` DataFrames.\n",
    "2. Add a new column to each one of them with the respective symbol name to distinguish between stocks in the final DataFrame.\n",
    "3. Combine all the DataFrames into one big DataFrame (we'll be using `pd.concat()` for that).\n",
    "4. Create the `Volume_Millions`, `VolStat` and `Return` features in the concatenated DataFrame."
   ]
  },
  {
   "cell_type": "markdown",
   "metadata": {
    "colab_type": "text",
    "id": "nSbm5y_jtymA"
   },
   "source": [
    "We can use a `for` loop to perform steps 1 and 2:"
   ]
  },
  {
   "cell_type": "code",
   "execution_count": 33,
   "metadata": {
    "colab": {},
    "colab_type": "code",
    "executionInfo": {
     "elapsed": 5542,
     "status": "ok",
     "timestamp": 1595517181962,
     "user": {
      "displayName": "Norman Rodriguez",
      "photoUrl": "https://lh3.googleusercontent.com/a-/AOh14GiXcbIxQ0CYzDTlPuMhfh4q4RrONoW5L_HFnRCh=s64",
      "userId": "01368312674772044880"
     },
     "user_tz": 300
    },
    "id": "k-WnjDL9t333"
   },
   "outputs": [],
   "source": [
    "# Defining our stock symbols\n",
    "symbol_data_to_load = [\"D\", \"EXC\", \"NEE\", \"SO\", \"DUK\"]\n",
    "list_of_df = [] # An empty list that we'll be populating iteratively\n",
    "\n",
    "# Looping over the symbols to load the dataframes\n",
    "for symbol in symbol_data_to_load:\n",
    "    # Load the CSV file\n",
    "    temp_df = pd.read_csv(\"data/\" + symbol + \".csv\")\n",
    "    \n",
    "    # Add new column with symbol name to distinguish in final dataframe\n",
    "    temp_df[\"Symbol\"] = symbol\n",
    "    list_of_df.append(temp_df) # Append the loaded DataFrame to the list"
   ]
  },
  {
   "cell_type": "code",
   "execution_count": 36,
   "metadata": {},
   "outputs": [
    {
     "data": {
      "text/plain": [
       "[            Date       Open       High        Low      Close  Adj Close  \\\n",
       " 0     2014-07-28  69.750000  71.059998  69.750000  70.879997  57.963978   \n",
       " 1     2014-07-29  70.669998  70.980003  69.930000  69.930000  57.187099   \n",
       " 2     2014-07-30  70.000000  70.660004  68.400002  68.970001  56.402020   \n",
       " 3     2014-07-31  68.629997  68.849998  67.580002  67.639999  55.314388   \n",
       " 4     2014-08-01  67.330002  68.410004  67.220001  67.589996  55.273487   \n",
       " 5     2014-08-04  67.480003  67.589996  65.849998  67.029999  54.815529   \n",
       " 6     2014-08-05  66.959999  67.089996  65.739998  66.010002  53.981419   \n",
       " 7     2014-08-06  65.620003  65.699997  64.709999  64.910004  53.081856   \n",
       " 8     2014-08-07  65.169998  65.940002  65.169998  65.760002  53.776958   \n",
       " 9     2014-08-08  66.209999  67.900002  66.209999  67.849998  55.486111   \n",
       " 10    2014-08-11  67.820000  68.089996  67.300003  67.550003  55.240784   \n",
       " 11    2014-08-12  67.379997  67.820000  67.279999  67.489998  55.191711   \n",
       " 12    2014-08-13  67.580002  68.050003  67.360001  67.769997  55.420696   \n",
       " 13    2014-08-14  67.830002  68.349998  67.739998  68.290001  55.845932   \n",
       " 14    2014-08-15  68.570000  69.349998  68.480003  68.900002  56.344803   \n",
       " 15    2014-08-18  68.970001  69.250000  68.559998  68.680000  56.164867   \n",
       " 16    2014-08-19  68.680000  69.610001  68.589996  69.589996  56.909035   \n",
       " 17    2014-08-20  69.550003  69.709999  69.160004  69.650002  56.958115   \n",
       " 18    2014-08-21  69.639999  70.150002  69.570000  69.690002  56.990826   \n",
       " 19    2014-08-22  69.809998  69.940002  68.989998  69.510002  56.843628   \n",
       " 20    2014-08-25  69.779999  70.250000  69.589996  70.089996  57.317936   \n",
       " 21    2014-08-26  70.150002  70.379997  69.410004  69.430000  56.778217   \n",
       " 22    2014-08-27  69.000000  69.529999  68.930000  69.480003  57.314404   \n",
       " 23    2014-08-28  69.230003  69.860001  69.059998  69.849998  57.619606   \n",
       " 24    2014-08-29  69.730003  70.260002  69.580002  70.220001  57.924824   \n",
       " 25    2014-09-02  70.330002  70.949997  69.080002  69.470001  57.306149   \n",
       " 26    2014-09-03  69.519997  70.000000  69.440002  69.660004  57.462872   \n",
       " 27    2014-09-04  69.699997  70.449997  69.500000  70.269997  57.966068   \n",
       " 28    2014-09-05  70.389999  71.300003  70.330002  71.290001  58.807468   \n",
       " 29    2014-09-08  71.199997  71.330002  70.480003  70.849998  58.444519   \n",
       " ...          ...        ...        ...        ...        ...        ...   \n",
       " 1229  2019-06-14  76.150002  76.830002  75.879997  76.660004  76.660004   \n",
       " 1230  2019-06-17  76.849998  77.330002  75.639999  76.419998  76.419998   \n",
       " 1231  2019-06-18  76.919998  76.919998  75.760002  76.430000  76.430000   \n",
       " 1232  2019-06-19  76.199997  77.480003  76.160004  77.169998  77.169998   \n",
       " 1233  2019-06-20  77.500000  78.080002  76.760002  77.410004  77.410004   \n",
       " 1234  2019-06-21  77.660004  78.440002  76.709999  78.349998  78.349998   \n",
       " 1235  2019-06-24  78.449997  79.470001  78.139999  79.220001  79.220001   \n",
       " 1236  2019-06-25  79.160004  79.360001  78.510002  78.699997  78.699997   \n",
       " 1237  2019-06-26  78.540001  78.610001  76.430000  76.459999  76.459999   \n",
       " 1238  2019-06-27  76.519997  76.879997  76.199997  76.720001  76.720001   \n",
       " 1239  2019-06-28  76.730003  77.540001  76.660004  77.320000  77.320000   \n",
       " 1240  2019-07-01  77.180000  77.550003  76.320000  77.050003  77.050003   \n",
       " 1241  2019-07-02  77.379997  77.860001  77.099998  77.379997  77.379997   \n",
       " 1242  2019-07-03  77.709999  78.720001  77.500000  78.110001  78.110001   \n",
       " 1243  2019-07-05  77.680000  78.080002  76.870003  77.900002  77.900002   \n",
       " 1244  2019-07-08  78.110001  78.510002  77.669998  78.160004  78.160004   \n",
       " 1245  2019-07-09  78.260002  78.269997  77.510002  78.220001  78.220001   \n",
       " 1246  2019-07-10  78.260002  78.559998  77.849998  78.129997  78.129997   \n",
       " 1247  2019-07-11  78.040001  78.269997  77.070000  77.910004  77.910004   \n",
       " 1248  2019-07-12  78.029999  78.089996  77.169998  77.500000  77.500000   \n",
       " 1249  2019-07-15  77.500000  78.220001  77.250000  78.089996  78.089996   \n",
       " 1250  2019-07-16  77.940002  78.160004  77.059998  77.480003  77.480003   \n",
       " 1251  2019-07-17  77.800003  78.139999  77.320000  77.370003  77.370003   \n",
       " 1252  2019-07-18  77.290001  77.480003  76.470001  77.419998  77.419998   \n",
       " 1253  2019-07-19  77.190002  77.620003  76.669998  76.849998  76.849998   \n",
       " 1254  2019-07-22  76.879997  76.930000  75.779999  76.260002  76.260002   \n",
       " 1255  2019-07-23  76.099998  76.199997  75.269997  75.430000  75.430000   \n",
       " 1256  2019-07-24  75.660004  75.720001  74.889999  75.180000  75.180000   \n",
       " 1257  2019-07-25  75.150002  75.430000  74.610001  74.860001  74.860001   \n",
       " 1258  2019-07-26  74.730003  75.349998  74.610001  75.150002  75.150002   \n",
       " \n",
       "        Volume Symbol  \n",
       " 0     1806400      D  \n",
       " 1     2231100      D  \n",
       " 2     2588900      D  \n",
       " 3     3266900      D  \n",
       " 4     2601800      D  \n",
       " 5     3911100      D  \n",
       " 6     3036100      D  \n",
       " 7     5188600      D  \n",
       " 8     2863700      D  \n",
       " 9     3872800      D  \n",
       " 10    2103600      D  \n",
       " 11    1372800      D  \n",
       " 12    1321500      D  \n",
       " 13    1194800      D  \n",
       " 14    2190900      D  \n",
       " 15    1375600      D  \n",
       " 16    1780800      D  \n",
       " 17    1221800      D  \n",
       " 18    1606900      D  \n",
       " 19    1617300      D  \n",
       " 20    1574200      D  \n",
       " 21    1483300      D  \n",
       " 22    1850600      D  \n",
       " 23    1696000      D  \n",
       " 24    1606400      D  \n",
       " 25    2619800      D  \n",
       " 26    1671500      D  \n",
       " 27    2593400      D  \n",
       " 28    2017300      D  \n",
       " 29    2695700      D  \n",
       " ...       ...    ...  \n",
       " 1229  3964100      D  \n",
       " 1230  3638800      D  \n",
       " 1231  3410100      D  \n",
       " 1232  4075200      D  \n",
       " 1233  3340500      D  \n",
       " 1234  8070500      D  \n",
       " 1235  5455600      D  \n",
       " 1236  3563300      D  \n",
       " 1237  4253500      D  \n",
       " 1238  3452700      D  \n",
       " 1239  6014400      D  \n",
       " 1240  4652300      D  \n",
       " 1241  3407500      D  \n",
       " 1242  2323500      D  \n",
       " 1243  2535300      D  \n",
       " 1244  3181700      D  \n",
       " 1245  2554500      D  \n",
       " 1246  3665300      D  \n",
       " 1247  2750200      D  \n",
       " 1248  3009700      D  \n",
       " 1249  2695700      D  \n",
       " 1250  2599000      D  \n",
       " 1251  3254700      D  \n",
       " 1252  3089500      D  \n",
       " 1253  3115000      D  \n",
       " 1254  2956500      D  \n",
       " 1255  3175600      D  \n",
       " 1256  3101900      D  \n",
       " 1257  3417200      D  \n",
       " 1258  3076500      D  \n",
       " \n",
       " [1259 rows x 8 columns],\n",
       "             Date       Open       High        Low      Close  Adj Close  \\\n",
       " 0     2014-07-28  31.410000  32.130001  31.379999  31.950001  26.442406   \n",
       " 1     2014-07-29  31.940001  32.049999  31.430000  31.469999  26.045147   \n",
       " 2     2014-07-30  31.629999  31.660000  30.850000  31.010000  25.664442   \n",
       " 3     2014-07-31  30.930000  31.490000  30.799999  31.080000  25.722378   \n",
       " 4     2014-08-01  31.139999  32.080002  31.100000  31.540001  26.103081   \n",
       " 5     2014-08-04  31.520000  31.530001  30.660000  31.360001  25.954105   \n",
       " 6     2014-08-05  31.280001  31.559999  31.040001  31.129999  25.763758   \n",
       " 7     2014-08-06  31.040001  31.250000  30.730000  31.180000  25.805134   \n",
       " 8     2014-08-07  31.260000  31.799999  31.209999  31.559999  26.119629   \n",
       " 9     2014-08-08  31.600000  32.150002  31.559999  32.119999  26.583099   \n",
       " 10    2014-08-11  32.180000  32.330002  32.009998  32.110001  26.574823   \n",
       " 11    2014-08-12  32.060001  32.160000  31.799999  31.870001  26.376192   \n",
       " 12    2014-08-13  31.580000  31.719999  31.330000  31.450001  26.284264   \n",
       " 13    2014-08-14  31.549999  31.920000  31.500000  31.830000  26.601847   \n",
       " 14    2014-08-15  31.850000  32.200001  31.639999  31.799999  26.576775   \n",
       " 15    2014-08-18  31.930000  32.099998  31.730000  31.820000  26.593485   \n",
       " 16    2014-08-19  31.910000  32.000000  31.680000  31.959999  26.710491   \n",
       " 17    2014-08-20  31.980000  32.020000  31.850000  31.990000  26.735565   \n",
       " 18    2014-08-21  31.930000  32.490002  31.930000  32.250000  26.952858   \n",
       " 19    2014-08-22  32.189999  32.619999  32.180000  32.389999  27.069862   \n",
       " 20    2014-08-25  32.459999  32.919998  32.360001  32.830002  27.437593   \n",
       " 21    2014-08-26  32.849998  33.040001  32.279999  32.310001  27.003006   \n",
       " 22    2014-08-27  32.340000  32.779999  32.340000  32.770000  27.387449   \n",
       " 23    2014-08-28  32.619999  33.169998  32.500000  33.000000  27.579676   \n",
       " 24    2014-08-29  33.040001  33.419998  32.980000  33.419998  27.930683   \n",
       " 25    2014-09-02  33.430000  33.459999  32.599998  32.830002  27.437593   \n",
       " 26    2014-09-03  33.029999  33.349998  32.980000  33.259998  27.796959   \n",
       " 27    2014-09-04  33.130001  33.549999  33.049999  33.549999  28.039331   \n",
       " 28    2014-09-05  33.480000  33.889999  33.380001  33.810001  28.256628   \n",
       " 29    2014-09-08  33.810001  33.950001  33.320000  33.439999  27.947397   \n",
       " ...          ...        ...        ...        ...        ...        ...   \n",
       " 1229  2019-06-14  50.180000  50.950001  50.070000  50.799999  50.799999   \n",
       " 1230  2019-06-17  50.770000  50.860001  50.240002  50.450001  50.450001   \n",
       " 1231  2019-06-18  50.610001  50.689999  49.520000  49.900002  49.900002   \n",
       " 1232  2019-06-19  49.660000  50.180000  49.320000  50.000000  50.000000   \n",
       " 1233  2019-06-20  50.119999  50.470001  49.669998  50.240002  50.240002   \n",
       " 1234  2019-06-21  50.169998  50.459999  49.799999  50.400002  50.400002   \n",
       " 1235  2019-06-24  50.240002  50.570000  49.889999  50.160000  50.160000   \n",
       " 1236  2019-06-25  50.020000  50.099998  49.000000  49.040001  49.040001   \n",
       " 1237  2019-06-26  48.860001  48.990002  47.759998  47.790001  47.790001   \n",
       " 1238  2019-06-27  47.980000  48.070000  47.380001  47.560001  47.560001   \n",
       " 1239  2019-06-28  47.590000  48.060001  47.500000  47.939999  47.939999   \n",
       " 1240  2019-07-01  47.970001  48.139999  47.500000  48.049999  48.049999   \n",
       " 1241  2019-07-02  48.160000  48.840000  48.119999  48.830002  48.830002   \n",
       " 1242  2019-07-03  48.880001  49.209999  48.709999  49.029999  49.029999   \n",
       " 1243  2019-07-05  48.700001  49.259998  48.189999  49.200001  49.200001   \n",
       " 1244  2019-07-08  49.150002  49.259998  48.580002  48.770000  48.770000   \n",
       " 1245  2019-07-09  48.770000  49.080002  48.419998  48.980000  48.980000   \n",
       " 1246  2019-07-10  49.189999  49.799999  48.980000  49.369999  49.369999   \n",
       " 1247  2019-07-11  49.419998  49.570000  49.000000  49.540001  49.540001   \n",
       " 1248  2019-07-12  49.619999  49.709999  49.020000  49.060001  49.060001   \n",
       " 1249  2019-07-15  49.009998  49.209999  48.680000  48.880001  48.880001   \n",
       " 1250  2019-07-16  48.810001  49.070000  48.070000  48.400002  48.400002   \n",
       " 1251  2019-07-17  48.650002  48.860001  48.439999  48.599998  48.599998   \n",
       " 1252  2019-07-18  48.720001  48.860001  48.310001  48.759998  48.759998   \n",
       " 1253  2019-07-19  48.619999  48.720001  47.529999  47.570000  47.570000   \n",
       " 1254  2019-07-22  47.689999  47.779999  47.070000  47.279999  47.279999   \n",
       " 1255  2019-07-23  47.200001  47.259998  46.230000  46.360001  46.360001   \n",
       " 1256  2019-07-24  46.150002  46.299999  45.110001  45.480000  45.480000   \n",
       " 1257  2019-07-25  45.500000  46.270000  45.200001  46.130001  46.130001   \n",
       " 1258  2019-07-26  46.240002  46.480000  45.810001  45.820000  45.820000   \n",
       " \n",
       "         Volume Symbol  \n",
       " 0      5683400    EXC  \n",
       " 1      6292800    EXC  \n",
       " 2      7976600    EXC  \n",
       " 3      9236100    EXC  \n",
       " 4      9734300    EXC  \n",
       " 5     10079600    EXC  \n",
       " 6      6683900    EXC  \n",
       " 7     11411100    EXC  \n",
       " 8      7241800    EXC  \n",
       " 9      5967700    EXC  \n",
       " 10     4956100    EXC  \n",
       " 11     4970700    EXC  \n",
       " 12     3471900    EXC  \n",
       " 13     3249000    EXC  \n",
       " 14     5611300    EXC  \n",
       " 15     4037400    EXC  \n",
       " 16     4918500    EXC  \n",
       " 17     2562600    EXC  \n",
       " 18     5913000    EXC  \n",
       " 19     5511200    EXC  \n",
       " 20     4532200    EXC  \n",
       " 21     4101800    EXC  \n",
       " 22     4544600    EXC  \n",
       " 23     4007100    EXC  \n",
       " 24     3622200    EXC  \n",
       " 25     6541800    EXC  \n",
       " 26     4442300    EXC  \n",
       " 27     8163200    EXC  \n",
       " 28     6089500    EXC  \n",
       " 29     3519900    EXC  \n",
       " ...        ...    ...  \n",
       " 1229   4110700    EXC  \n",
       " 1230   3999100    EXC  \n",
       " 1231   5449300    EXC  \n",
       " 1232   6665600    EXC  \n",
       " 1233   4882600    EXC  \n",
       " 1234   8194800    EXC  \n",
       " 1235   5140500    EXC  \n",
       " 1236   5656000    EXC  \n",
       " 1237   6191200    EXC  \n",
       " 1238   6226100    EXC  \n",
       " 1239   6728400    EXC  \n",
       " 1240   4397000    EXC  \n",
       " 1241   7305100    EXC  \n",
       " 1242   3560800    EXC  \n",
       " 1243   4583400    EXC  \n",
       " 1244   6751800    EXC  \n",
       " 1245   5700000    EXC  \n",
       " 1246   6124500    EXC  \n",
       " 1247   4379900    EXC  \n",
       " 1248   3981700    EXC  \n",
       " 1249   4945900    EXC  \n",
       " 1250   5742000    EXC  \n",
       " 1251   3983400    EXC  \n",
       " 1252   4691400    EXC  \n",
       " 1253   6827000    EXC  \n",
       " 1254   5328900    EXC  \n",
       " 1255   7742100    EXC  \n",
       " 1256  10354600    EXC  \n",
       " 1257   8945700    EXC  \n",
       " 1258   5525900    EXC  \n",
       " \n",
       " [1259 rows x 8 columns],\n",
       "             Date        Open        High         Low       Close   Adj Close  \\\n",
       " 0     2014-07-28   98.470001   99.760002   98.099998   99.580002   85.106087   \n",
       " 1     2014-07-29   99.029999   99.389999   97.300003   98.400002   84.097595   \n",
       " 2     2014-07-30   98.160004   98.500000   95.760002   96.339996   82.337006   \n",
       " 3     2014-07-31   95.639999   95.980003   93.800003   93.889999   80.243126   \n",
       " 4     2014-08-01   93.500000   94.919998   93.279999   93.820000   80.183289   \n",
       " 5     2014-08-04   93.940002   94.139999   91.790001   94.050003   80.379860   \n",
       " 6     2014-08-05   93.660004   93.980003   92.339996   92.589996   79.132080   \n",
       " 7     2014-08-06   92.570000   93.019997   91.800003   92.349998   78.926949   \n",
       " 8     2014-08-07   92.839996   94.290001   92.599998   93.970001   80.311501   \n",
       " 9     2014-08-08   94.120003   95.500000   94.059998   95.449997   81.576385   \n",
       " 10    2014-08-11   95.470001   95.769997   94.769997   94.889999   81.097778   \n",
       " 11    2014-08-12   94.980003   95.389999   94.599998   94.900002   81.106316   \n",
       " 12    2014-08-13   95.089996   96.300003   95.050003   95.750000   81.832771   \n",
       " 13    2014-08-14   95.610001   96.300003   95.610001   96.190002   82.208832   \n",
       " 14    2014-08-15   96.410004   97.419998   96.040001   96.379997   82.371216   \n",
       " 15    2014-08-18   96.589996   97.180000   95.889999   96.139999   82.166077   \n",
       " 16    2014-08-19   96.510002   97.379997   96.300003   97.320000   83.174576   \n",
       " 17    2014-08-20   97.220001   97.839996   96.989998   97.739998   83.533531   \n",
       " 18    2014-08-21   97.800003   98.629997   97.779999   98.010002   83.764275   \n",
       " 19    2014-08-22   97.980003   98.419998   97.019997   97.639999   83.448059   \n",
       " 20    2014-08-25   97.820000   98.559998   97.730003   98.169998   83.901031   \n",
       " 21    2014-08-26   98.080002   98.239998   96.660004   96.720001   82.661789   \n",
       " 22    2014-08-27   96.160004   97.010002   96.000000   96.889999   83.432465   \n",
       " 23    2014-08-28   96.669998   97.709999   96.379997   97.529999   83.983574   \n",
       " 24    2014-08-29   97.750000   98.500000   97.540001   98.449997   84.775780   \n",
       " 25    2014-09-02   98.290001   98.519997   96.839996   97.230003   83.725258   \n",
       " 26    2014-09-03   97.419998   98.070000   97.250000   97.599998   84.043854   \n",
       " 27    2014-09-04   97.519997   97.849998   96.769997   97.230003   83.725258   \n",
       " 28    2014-09-05   97.250000   97.919998   97.080002   97.919998   84.319397   \n",
       " 29    2014-09-08   97.900002   98.000000   96.989998   97.239998   83.733864   \n",
       " ...          ...         ...         ...         ...         ...         ...   \n",
       " 1229  2019-06-14  205.660004  207.330002  204.949997  206.960007  206.960007   \n",
       " 1230  2019-06-17  207.250000  208.000000  205.250000  206.369995  206.369995   \n",
       " 1231  2019-06-18  207.830002  207.949997  203.869995  205.419998  205.419998   \n",
       " 1232  2019-06-19  204.289993  207.070007  204.259995  206.240005  206.240005   \n",
       " 1233  2019-06-20  206.660004  207.460007  204.720001  206.380005  206.380005   \n",
       " 1234  2019-06-21  207.130005  208.470001  205.419998  207.550003  207.550003   \n",
       " 1235  2019-06-24  208.360001  208.649994  206.869995  208.199997  208.199997   \n",
       " 1236  2019-06-25  208.380005  208.910004  205.949997  206.220001  206.220001   \n",
       " 1237  2019-06-26  205.399994  206.240005  203.020004  203.070007  203.070007   \n",
       " 1238  2019-06-27  204.800003  205.460007  203.619995  204.550003  204.550003   \n",
       " 1239  2019-06-28  203.970001  208.229996  203.250000  204.860001  204.860001   \n",
       " 1240  2019-07-01  204.369995  204.860001  201.059998  204.020004  204.020004   \n",
       " 1241  2019-07-02  204.770004  207.899994  204.750000  207.660004  207.660004   \n",
       " 1242  2019-07-03  207.889999  209.460007  207.660004  208.729996  208.729996   \n",
       " 1243  2019-07-05  207.440002  208.470001  205.330002  208.110001  208.110001   \n",
       " 1244  2019-07-08  208.610001  209.330002  207.419998  209.130005  209.130005   \n",
       " 1245  2019-07-09  208.240005  209.000000  207.169998  208.160004  208.160004   \n",
       " 1246  2019-07-10  208.429993  210.820007  207.550003  209.479996  209.479996   \n",
       " 1247  2019-07-11  209.589996  210.720001  208.559998  210.399994  210.399994   \n",
       " 1248  2019-07-12  209.899994  210.259995  207.789993  208.729996  208.729996   \n",
       " 1249  2019-07-15  208.669998  209.619995  207.690002  208.850006  208.850006   \n",
       " 1250  2019-07-16  208.660004  209.429993  206.800003  207.880005  207.880005   \n",
       " 1251  2019-07-17  208.699997  211.339996  208.699997  209.910004  209.910004   \n",
       " 1252  2019-07-18  210.259995  212.479996  209.000000  212.360001  212.360001   \n",
       " 1253  2019-07-19  211.800003  212.500000  209.399994  209.729996  209.729996   \n",
       " 1254  2019-07-22  210.009995  210.690002  207.729996  209.360001  209.360001   \n",
       " 1255  2019-07-23  209.410004  209.500000  206.929993  207.300003  207.300003   \n",
       " 1256  2019-07-24  208.339996  210.100006  206.539993  210.059998  210.059998   \n",
       " 1257  2019-07-25  208.139999  209.440002  207.039993  207.630005  207.630005   \n",
       " 1258  2019-07-26  208.139999  209.750000  207.800003  209.169998  209.169998   \n",
       " \n",
       "        Volume Symbol  \n",
       " 0     1643000    NEE  \n",
       " 1     1942500    NEE  \n",
       " 2     2844100    NEE  \n",
       " 3     2725200    NEE  \n",
       " 4     2514400    NEE  \n",
       " 5     3732800    NEE  \n",
       " 6     2436400    NEE  \n",
       " 7     4520300    NEE  \n",
       " 8     2842500    NEE  \n",
       " 9     1747400    NEE  \n",
       " 10    1423600    NEE  \n",
       " 11    1306100    NEE  \n",
       " 12    1069100    NEE  \n",
       " 13     964500    NEE  \n",
       " 14    1268300    NEE  \n",
       " 15    1098200    NEE  \n",
       " 16    1291800    NEE  \n",
       " 17    1031700    NEE  \n",
       " 18    1285500    NEE  \n",
       " 19     991500    NEE  \n",
       " 20     860700    NEE  \n",
       " 21    1393900    NEE  \n",
       " 22    1412900    NEE  \n",
       " 23     944200    NEE  \n",
       " 24    1386400    NEE  \n",
       " 25    1873700    NEE  \n",
       " 26    1423700    NEE  \n",
       " 27    2101500    NEE  \n",
       " 28    1561200    NEE  \n",
       " 29    1051000    NEE  \n",
       " ...       ...    ...  \n",
       " 1229  1381300    NEE  \n",
       " 1230  1558400    NEE  \n",
       " 1231  1644100    NEE  \n",
       " 1232  1650700    NEE  \n",
       " 1233  2220900    NEE  \n",
       " 1234  3140200    NEE  \n",
       " 1235  1502300    NEE  \n",
       " 1236  1738500    NEE  \n",
       " 1237  1848600    NEE  \n",
       " 1238  1882300    NEE  \n",
       " 1239  2911900    NEE  \n",
       " 1240  2134500    NEE  \n",
       " 1241  1674000    NEE  \n",
       " 1242  1413600    NEE  \n",
       " 1243  1049100    NEE  \n",
       " 1244  1080600    NEE  \n",
       " 1245  1819000    NEE  \n",
       " 1246  1480500    NEE  \n",
       " 1247  1457600    NEE  \n",
       " 1248  1570800    NEE  \n",
       " 1249  2178500    NEE  \n",
       " 1250  1070400    NEE  \n",
       " 1251  1639200    NEE  \n",
       " 1252  1103300    NEE  \n",
       " 1253  1460900    NEE  \n",
       " 1254  1636900    NEE  \n",
       " 1255  1584300    NEE  \n",
       " 1256  1520000    NEE  \n",
       " 1257  1752500    NEE  \n",
       " 1258  1081200    NEE  \n",
       " \n",
       " [1259 rows x 8 columns],\n",
       "             Date       Open       High        Low      Close  Adj Close  \\\n",
       " 0     2014-07-28  44.619999  45.430000  44.619999  45.360001  35.349178   \n",
       " 1     2014-07-29  45.470001  45.470001  44.669998  44.860001  34.959522   \n",
       " 2     2014-07-30  45.000000  45.000000  44.009998  44.380001  34.585461   \n",
       " 3     2014-07-31  43.889999  43.889999  43.220001  43.290001  34.139881   \n",
       " 4     2014-08-01  43.340000  43.830002  43.250000  43.320000  34.163548   \n",
       " 5     2014-08-04  43.380001  43.410000  42.349998  43.099998  33.990040   \n",
       " 6     2014-08-05  42.939999  43.200001  42.450001  42.599998  33.595722   \n",
       " 7     2014-08-06  42.430000  42.430000  41.869999  42.169998  33.256622   \n",
       " 8     2014-08-07  42.349998  42.869999  42.259998  42.619999  33.611500   \n",
       " 9     2014-08-08  42.709999  43.540001  42.700001  43.529999  34.329151   \n",
       " 10    2014-08-11  43.529999  43.599998  43.040001  43.060001  33.958492   \n",
       " 11    2014-08-12  43.049999  43.380001  43.000000  43.220001  34.084679   \n",
       " 12    2014-08-13  42.849998  43.279999  42.669998  43.070000  33.966385   \n",
       " 13    2014-08-14  43.150002  43.470001  43.110001  43.430000  34.250282   \n",
       " 14    2014-08-15  43.430000  43.820000  43.279999  43.419998  34.242416   \n",
       " 15    2014-08-18  43.529999  43.720001  43.279999  43.380001  34.210857   \n",
       " 16    2014-08-19  43.549999  43.810001  43.349998  43.799999  34.542088   \n",
       " 17    2014-08-20  43.570000  43.840000  43.549999  43.810001  34.549976   \n",
       " 18    2014-08-21  43.889999  44.139999  43.799999  43.889999  34.613064   \n",
       " 19    2014-08-22  43.820000  44.040001  43.500000  43.680000  34.447453   \n",
       " 20    2014-08-25  43.799999  44.020000  43.720001  43.900002  34.620941   \n",
       " 21    2014-08-26  43.990002  44.080002  43.500000  43.540001  34.337048   \n",
       " 22    2014-08-27  43.540001  43.840000  43.540001  43.830002  34.565742   \n",
       " 23    2014-08-28  43.689999  44.270000  43.689999  44.230000  34.881184   \n",
       " 24    2014-08-29  44.180000  44.400002  44.060001  44.400002  35.015270   \n",
       " 25    2014-09-02  44.320000  44.439999  43.610001  43.799999  34.542088   \n",
       " 26    2014-09-03  43.939999  44.259998  43.939999  44.180000  34.841770   \n",
       " 27    2014-09-04  44.070000  44.220001  43.779999  44.160000  34.825993   \n",
       " 28    2014-09-05  44.320000  44.790001  44.259998  44.790001  35.322842   \n",
       " 29    2014-09-08  44.709999  44.820000  44.349998  44.560001  35.141441   \n",
       " ...          ...        ...        ...        ...        ...        ...   \n",
       " 1229  2019-06-14  55.369999  55.799999  55.220001  55.650002  55.650002   \n",
       " 1230  2019-06-17  55.630001  55.840000  55.119999  55.500000  55.500000   \n",
       " 1231  2019-06-18  55.720001  55.750000  54.790001  55.259998  55.259998   \n",
       " 1232  2019-06-19  55.020000  56.009998  54.990002  55.740002  55.740002   \n",
       " 1233  2019-06-20  55.820000  56.230000  55.439999  56.020000  56.020000   \n",
       " 1234  2019-06-21  55.849998  56.320000  55.520000  56.270000  56.270000   \n",
       " 1235  2019-06-24  56.330002  56.540001  55.950001  56.279999  56.279999   \n",
       " 1236  2019-06-25  56.250000  56.389999  55.880001  55.980000  55.980000   \n",
       " 1237  2019-06-26  55.849998  55.880001  54.959999  54.980000  54.980000   \n",
       " 1238  2019-06-27  55.160000  55.310001  54.660000  55.080002  55.080002   \n",
       " 1239  2019-06-28  55.029999  55.560001  54.849998  55.279999  55.279999   \n",
       " 1240  2019-07-01  55.099998  55.270000  54.439999  54.840000  54.840000   \n",
       " 1241  2019-07-02  55.090000  55.880001  55.060001  55.860001  55.860001   \n",
       " 1242  2019-07-03  56.000000  56.540001  56.000000  56.310001  56.310001   \n",
       " 1243  2019-07-05  55.930000  56.410000  55.349998  56.360001  56.360001   \n",
       " 1244  2019-07-08  56.470001  56.570000  55.990002  56.310001  56.310001   \n",
       " 1245  2019-07-09  56.430000  56.639999  56.080002  56.560001  56.560001   \n",
       " 1246  2019-07-10  56.669998  57.080002  56.340000  56.910000  56.910000   \n",
       " 1247  2019-07-11  56.820000  56.900002  56.099998  56.490002  56.490002   \n",
       " 1248  2019-07-12  56.570000  56.619999  55.570000  55.669998  55.669998   \n",
       " 1249  2019-07-15  55.540001  56.209999  55.500000  56.110001  56.110001   \n",
       " 1250  2019-07-16  56.000000  56.160000  55.419998  55.660000  55.660000   \n",
       " 1251  2019-07-17  55.779999  56.110001  55.680000  55.790001  55.790001   \n",
       " 1252  2019-07-18  55.860001  56.240002  55.340000  56.130001  56.130001   \n",
       " 1253  2019-07-19  55.970001  56.240002  55.250000  55.270000  55.270000   \n",
       " 1254  2019-07-22  55.400002  55.610001  54.869999  55.480000  55.480000   \n",
       " 1255  2019-07-23  55.500000  55.619999  55.009998  55.419998  55.419998   \n",
       " 1256  2019-07-24  55.459999  55.669998  55.099998  55.639999  55.639999   \n",
       " 1257  2019-07-25  55.540001  55.810001  55.250000  55.360001  55.360001   \n",
       " 1258  2019-07-26  55.340000  55.830002  55.200001  55.740002  55.740002   \n",
       " \n",
       "         Volume Symbol  \n",
       " 0      5568900     SO  \n",
       " 1      5499600     SO  \n",
       " 2      6945200     SO  \n",
       " 3      5675300     SO  \n",
       " 4      4193700     SO  \n",
       " 5      6639300     SO  \n",
       " 6      4339700     SO  \n",
       " 7     10041500     SO  \n",
       " 8      4409500     SO  \n",
       " 9      4982400     SO  \n",
       " 10     4739800     SO  \n",
       " 11     3515000     SO  \n",
       " 12     5265700     SO  \n",
       " 13     3162300     SO  \n",
       " 14     4392400     SO  \n",
       " 15     2979800     SO  \n",
       " 16     2720600     SO  \n",
       " 17     2639700     SO  \n",
       " 18     3109600     SO  \n",
       " 19     2823900     SO  \n",
       " 20     2091500     SO  \n",
       " 21     2242600     SO  \n",
       " 22     2384400     SO  \n",
       " 23     2949900     SO  \n",
       " 24     2615100     SO  \n",
       " 25     3755100     SO  \n",
       " 26     2807400     SO  \n",
       " 27     3249800     SO  \n",
       " 28     6021000     SO  \n",
       " 29     3189100     SO  \n",
       " ...        ...    ...  \n",
       " 1229   4081200     SO  \n",
       " 1230   2989100     SO  \n",
       " 1231   3842100     SO  \n",
       " 1232   6153400     SO  \n",
       " 1233   4018700     SO  \n",
       " 1234   8627300     SO  \n",
       " 1235   3741200     SO  \n",
       " 1236   2704600     SO  \n",
       " 1237   4704100     SO  \n",
       " 1238   3413800     SO  \n",
       " 1239   5611000     SO  \n",
       " 1240   4368100     SO  \n",
       " 1241   2913900     SO  \n",
       " 1242   2629500     SO  \n",
       " 1243   3133900     SO  \n",
       " 1244   2789200     SO  \n",
       " 1245   3590900     SO  \n",
       " 1246   3406100     SO  \n",
       " 1247   3583400     SO  \n",
       " 1248   4341300     SO  \n",
       " 1249   4005300     SO  \n",
       " 1250   3127400     SO  \n",
       " 1251   3223800     SO  \n",
       " 1252   3379900     SO  \n",
       " 1253   5517800     SO  \n",
       " 1254   4623300     SO  \n",
       " 1255   3023300     SO  \n",
       " 1256   3613900     SO  \n",
       " 1257   3280900     SO  \n",
       " 1258   2288700     SO  \n",
       " \n",
       " [1259 rows x 8 columns],\n",
       "             Date       Open       High        Low      Close  Adj Close  \\\n",
       " 0     2014-07-28  73.309998  74.480003  73.230003  74.389999  59.266285   \n",
       " 1     2014-07-29  74.400002  74.480003  73.760002  73.980003  58.939648   \n",
       " 2     2014-07-30  74.029999  74.199997  72.580002  73.050003  58.198696   \n",
       " 3     2014-07-31  72.610001  73.099998  72.059998  72.129997  57.465740   \n",
       " 4     2014-08-01  72.239998  73.370003  72.150002  72.940002  58.111061   \n",
       " 5     2014-08-04  72.930000  72.970001  70.860001  72.199997  57.521515   \n",
       " 6     2014-08-05  71.519997  72.199997  70.669998  70.980003  56.549545   \n",
       " 7     2014-08-06  70.870003  70.900002  69.480003  69.839996  55.641300   \n",
       " 8     2014-08-07  70.279999  71.570000  70.050003  70.599998  56.246799   \n",
       " 9     2014-08-08  70.949997  71.769997  70.930000  71.750000  57.162991   \n",
       " 10    2014-08-11  72.000000  72.250000  71.500000  71.580002  57.027554   \n",
       " 11    2014-08-12  71.639999  71.919998  71.260002  71.379997  56.868210   \n",
       " 12    2014-08-13  70.800003  71.120003  70.419998  70.930000  57.146164   \n",
       " 13    2014-08-14  70.959999  72.099998  70.959999  72.080002  58.072697   \n",
       " 14    2014-08-15  71.879997  72.699997  71.849998  72.089996  58.080738   \n",
       " 15    2014-08-18  72.300003  72.650002  71.919998  72.089996  58.080738   \n",
       " 16    2014-08-19  72.169998  72.919998  72.040001  72.879997  58.717236   \n",
       " 17    2014-08-20  72.580002  72.849998  72.309998  72.760002  58.620567   \n",
       " 18    2014-08-21  72.809998  73.389999  72.639999  73.040001  58.846138   \n",
       " 19    2014-08-22  73.480003  73.849998  72.599998  72.870003  58.709156   \n",
       " 20    2014-08-25  73.180000  73.519997  72.919998  72.980003  58.797787   \n",
       " 21    2014-08-26  72.930000  73.129997  72.230003  72.320000  58.266056   \n",
       " 22    2014-08-27  72.449997  72.959999  72.330002  72.930000  58.757515   \n",
       " 23    2014-08-28  72.629997  73.440002  72.570000  73.309998  59.063652   \n",
       " 24    2014-08-29  73.410004  74.000000  73.349998  73.989998  59.611511   \n",
       " 25    2014-09-02  74.019997  74.089996  73.089996  73.449997  59.176468   \n",
       " 26    2014-09-03  73.610001  74.089996  73.500000  73.860001  59.506794   \n",
       " 27    2014-09-04  73.669998  74.239998  73.470001  74.019997  59.635677   \n",
       " 28    2014-09-05  74.050003  74.910004  74.000000  74.900002  60.344688   \n",
       " 29    2014-09-08  74.610001  74.949997  74.300003  74.889999  60.336624   \n",
       " ...          ...        ...        ...        ...        ...        ...   \n",
       " 1229  2019-06-14  86.779999  88.169998  86.750000  87.870003  87.870003   \n",
       " 1230  2019-06-17  88.080002  88.589996  87.519997  87.949997  87.949997   \n",
       " 1231  2019-06-18  88.360001  88.500000  86.320000  87.239998  87.239998   \n",
       " 1232  2019-06-19  86.900002  88.120003  86.680000  87.650002  87.650002   \n",
       " 1233  2019-06-20  88.139999  88.839996  87.680000  88.580002  88.580002   \n",
       " 1234  2019-06-21  88.639999  89.599998  87.970001  89.529999  89.529999   \n",
       " 1235  2019-06-24  89.620003  90.129997  89.220001  89.910004  89.910004   \n",
       " 1236  2019-06-25  89.910004  90.680000  89.779999  90.120003  90.120003   \n",
       " 1237  2019-06-26  89.839996  89.940002  87.930000  87.980003  87.980003   \n",
       " 1238  2019-06-27  88.070000  88.720001  87.769997  88.550003  88.550003   \n",
       " 1239  2019-06-28  88.489998  89.139999  87.940002  88.239998  88.239998   \n",
       " 1240  2019-07-01  88.010002  88.239998  87.239998  88.010002  88.010002   \n",
       " 1241  2019-07-02  88.169998  89.449997  88.160004  89.139999  89.139999   \n",
       " 1242  2019-07-03  89.199997  90.599998  89.199997  90.099998  90.099998   \n",
       " 1243  2019-07-05  89.419998  89.769997  88.209999  89.680000  89.680000   \n",
       " 1244  2019-07-08  89.900002  90.059998  89.059998  89.660004  89.660004   \n",
       " 1245  2019-07-09  90.250000  90.269997  88.870003  89.400002  89.400002   \n",
       " 1246  2019-07-10  89.800003  90.139999  89.300003  89.629997  89.629997   \n",
       " 1247  2019-07-11  89.489998  90.029999  88.610001  89.449997  89.449997   \n",
       " 1248  2019-07-12  89.589996  89.589996  88.440002  88.699997  88.699997   \n",
       " 1249  2019-07-15  88.809998  89.529999  88.550003  89.379997  89.379997   \n",
       " 1250  2019-07-16  89.110001  89.529999  88.370003  89.029999  89.029999   \n",
       " 1251  2019-07-17  89.339996  89.690002  88.889999  89.139999  89.139999   \n",
       " 1252  2019-07-18  89.209999  89.849998  88.660004  89.790001  89.790001   \n",
       " 1253  2019-07-19  89.639999  89.820000  88.430000  88.449997  88.449997   \n",
       " 1254  2019-07-22  88.599998  88.690002  87.839996  88.150002  88.150002   \n",
       " 1255  2019-07-23  88.180000  88.239998  87.370003  87.680000  87.680000   \n",
       " 1256  2019-07-24  87.949997  87.980003  86.800003  87.180000  87.180000   \n",
       " 1257  2019-07-25  86.900002  87.389999  86.169998  86.489998  86.489998   \n",
       " 1258  2019-07-26  86.500000  87.080002  86.269997  86.910004  86.910004   \n",
       " \n",
       "        Volume Symbol  \n",
       " 0     3281100    DUK  \n",
       " 1     2236300    DUK  \n",
       " 2     2782200    DUK  \n",
       " 3     3249000    DUK  \n",
       " 4     3960200    DUK  \n",
       " 5     4511200    DUK  \n",
       " 6     3111600    DUK  \n",
       " 7     7066800    DUK  \n",
       " 8     3607400    DUK  \n",
       " 9     2756900    DUK  \n",
       " 10    2116800    DUK  \n",
       " 11    2847600    DUK  \n",
       " 12    2141900    DUK  \n",
       " 13    3587200    DUK  \n",
       " 14    2981800    DUK  \n",
       " 15    1826000    DUK  \n",
       " 16    2188000    DUK  \n",
       " 17    2073300    DUK  \n",
       " 18    2020900    DUK  \n",
       " 19    2518100    DUK  \n",
       " 20    1795200    DUK  \n",
       " 21    2118900    DUK  \n",
       " 22    1890000    DUK  \n",
       " 23    1872700    DUK  \n",
       " 24    2985100    DUK  \n",
       " 25    4079200    DUK  \n",
       " 26    2121400    DUK  \n",
       " 27    2247900    DUK  \n",
       " 28    3010900    DUK  \n",
       " 29    3403400    DUK  \n",
       " ...       ...    ...  \n",
       " 1229  3237600    DUK  \n",
       " 1230  2448600    DUK  \n",
       " 1231  2532600    DUK  \n",
       " 1232  2683200    DUK  \n",
       " 1233  2428300    DUK  \n",
       " 1234  6867500    DUK  \n",
       " 1235  3305700    DUK  \n",
       " 1236  3996800    DUK  \n",
       " 1237  3437000    DUK  \n",
       " 1238  2726700    DUK  \n",
       " 1239  3875700    DUK  \n",
       " 1240  2848000    DUK  \n",
       " 1241  2039000    DUK  \n",
       " 1242  1717600    DUK  \n",
       " 1243  1744000    DUK  \n",
       " 1244  2046900    DUK  \n",
       " 1245  2598000    DUK  \n",
       " 1246  2401700    DUK  \n",
       " 1247  2379100    DUK  \n",
       " 1248  2101400    DUK  \n",
       " 1249  1847700    DUK  \n",
       " 1250  1727100    DUK  \n",
       " 1251  2102700    DUK  \n",
       " 1252  1911700    DUK  \n",
       " 1253  2408000    DUK  \n",
       " 1254  2160300    DUK  \n",
       " 1255  3141800    DUK  \n",
       " 1256  2386500    DUK  \n",
       " 1257  2680300    DUK  \n",
       " 1258  2425200    DUK  \n",
       " \n",
       " [1259 rows x 8 columns]]"
      ]
     },
     "execution_count": 36,
     "metadata": {},
     "output_type": "execute_result"
    }
   ],
   "source": [
    "list_of_df"
   ]
  },
  {
   "cell_type": "markdown",
   "metadata": {
    "colab_type": "text",
    "id": "-ScbT5yyuYIK"
   },
   "source": [
    "With this, we now have a list (`list_of_df`) that contains all of our loaded DataFrames. We can now concatenate the DataFrames very easily with this code:"
   ]
  },
  {
   "cell_type": "code",
   "execution_count": 55,
   "metadata": {
    "colab": {},
    "colab_type": "code",
    "executionInfo": {
     "elapsed": 5536,
     "status": "ok",
     "timestamp": 1595517181964,
     "user": {
      "displayName": "Norman Rodriguez",
      "photoUrl": "https://lh3.googleusercontent.com/a-/AOh14GiXcbIxQ0CYzDTlPuMhfh4q4RrONoW5L_HFnRCh=s64",
      "userId": "01368312674772044880"
     },
     "user_tz": 300
    },
    "id": "YFUdNQnOujer"
   },
   "outputs": [],
   "source": [
    "agg_df = pd.concat(list_of_df, axis=0) # Axis 0 means we want to pile them, not glue them together horizontally (that would be axis=1)"
   ]
  },
  {
   "cell_type": "code",
   "execution_count": 56,
   "metadata": {},
   "outputs": [
    {
     "data": {
      "text/html": [
       "<div>\n",
       "<style scoped>\n",
       "    .dataframe tbody tr th:only-of-type {\n",
       "        vertical-align: middle;\n",
       "    }\n",
       "\n",
       "    .dataframe tbody tr th {\n",
       "        vertical-align: top;\n",
       "    }\n",
       "\n",
       "    .dataframe thead th {\n",
       "        text-align: right;\n",
       "    }\n",
       "</style>\n",
       "<table border=\"1\" class=\"dataframe\">\n",
       "  <thead>\n",
       "    <tr style=\"text-align: right;\">\n",
       "      <th></th>\n",
       "      <th>Date</th>\n",
       "      <th>Open</th>\n",
       "      <th>High</th>\n",
       "      <th>Low</th>\n",
       "      <th>Close</th>\n",
       "      <th>Adj Close</th>\n",
       "      <th>Volume</th>\n",
       "      <th>Symbol</th>\n",
       "    </tr>\n",
       "  </thead>\n",
       "  <tbody>\n",
       "    <tr>\n",
       "      <th>0</th>\n",
       "      <td>2014-07-28</td>\n",
       "      <td>69.750000</td>\n",
       "      <td>71.059998</td>\n",
       "      <td>69.750000</td>\n",
       "      <td>70.879997</td>\n",
       "      <td>57.963978</td>\n",
       "      <td>1806400</td>\n",
       "      <td>D</td>\n",
       "    </tr>\n",
       "    <tr>\n",
       "      <th>1</th>\n",
       "      <td>2014-07-29</td>\n",
       "      <td>70.669998</td>\n",
       "      <td>70.980003</td>\n",
       "      <td>69.930000</td>\n",
       "      <td>69.930000</td>\n",
       "      <td>57.187099</td>\n",
       "      <td>2231100</td>\n",
       "      <td>D</td>\n",
       "    </tr>\n",
       "    <tr>\n",
       "      <th>2</th>\n",
       "      <td>2014-07-30</td>\n",
       "      <td>70.000000</td>\n",
       "      <td>70.660004</td>\n",
       "      <td>68.400002</td>\n",
       "      <td>68.970001</td>\n",
       "      <td>56.402020</td>\n",
       "      <td>2588900</td>\n",
       "      <td>D</td>\n",
       "    </tr>\n",
       "    <tr>\n",
       "      <th>3</th>\n",
       "      <td>2014-07-31</td>\n",
       "      <td>68.629997</td>\n",
       "      <td>68.849998</td>\n",
       "      <td>67.580002</td>\n",
       "      <td>67.639999</td>\n",
       "      <td>55.314388</td>\n",
       "      <td>3266900</td>\n",
       "      <td>D</td>\n",
       "    </tr>\n",
       "    <tr>\n",
       "      <th>4</th>\n",
       "      <td>2014-08-01</td>\n",
       "      <td>67.330002</td>\n",
       "      <td>68.410004</td>\n",
       "      <td>67.220001</td>\n",
       "      <td>67.589996</td>\n",
       "      <td>55.273487</td>\n",
       "      <td>2601800</td>\n",
       "      <td>D</td>\n",
       "    </tr>\n",
       "    <tr>\n",
       "      <th>5</th>\n",
       "      <td>2014-08-04</td>\n",
       "      <td>67.480003</td>\n",
       "      <td>67.589996</td>\n",
       "      <td>65.849998</td>\n",
       "      <td>67.029999</td>\n",
       "      <td>54.815529</td>\n",
       "      <td>3911100</td>\n",
       "      <td>D</td>\n",
       "    </tr>\n",
       "    <tr>\n",
       "      <th>6</th>\n",
       "      <td>2014-08-05</td>\n",
       "      <td>66.959999</td>\n",
       "      <td>67.089996</td>\n",
       "      <td>65.739998</td>\n",
       "      <td>66.010002</td>\n",
       "      <td>53.981419</td>\n",
       "      <td>3036100</td>\n",
       "      <td>D</td>\n",
       "    </tr>\n",
       "    <tr>\n",
       "      <th>7</th>\n",
       "      <td>2014-08-06</td>\n",
       "      <td>65.620003</td>\n",
       "      <td>65.699997</td>\n",
       "      <td>64.709999</td>\n",
       "      <td>64.910004</td>\n",
       "      <td>53.081856</td>\n",
       "      <td>5188600</td>\n",
       "      <td>D</td>\n",
       "    </tr>\n",
       "    <tr>\n",
       "      <th>8</th>\n",
       "      <td>2014-08-07</td>\n",
       "      <td>65.169998</td>\n",
       "      <td>65.940002</td>\n",
       "      <td>65.169998</td>\n",
       "      <td>65.760002</td>\n",
       "      <td>53.776958</td>\n",
       "      <td>2863700</td>\n",
       "      <td>D</td>\n",
       "    </tr>\n",
       "    <tr>\n",
       "      <th>9</th>\n",
       "      <td>2014-08-08</td>\n",
       "      <td>66.209999</td>\n",
       "      <td>67.900002</td>\n",
       "      <td>66.209999</td>\n",
       "      <td>67.849998</td>\n",
       "      <td>55.486111</td>\n",
       "      <td>3872800</td>\n",
       "      <td>D</td>\n",
       "    </tr>\n",
       "    <tr>\n",
       "      <th>10</th>\n",
       "      <td>2014-08-11</td>\n",
       "      <td>67.820000</td>\n",
       "      <td>68.089996</td>\n",
       "      <td>67.300003</td>\n",
       "      <td>67.550003</td>\n",
       "      <td>55.240784</td>\n",
       "      <td>2103600</td>\n",
       "      <td>D</td>\n",
       "    </tr>\n",
       "    <tr>\n",
       "      <th>11</th>\n",
       "      <td>2014-08-12</td>\n",
       "      <td>67.379997</td>\n",
       "      <td>67.820000</td>\n",
       "      <td>67.279999</td>\n",
       "      <td>67.489998</td>\n",
       "      <td>55.191711</td>\n",
       "      <td>1372800</td>\n",
       "      <td>D</td>\n",
       "    </tr>\n",
       "    <tr>\n",
       "      <th>12</th>\n",
       "      <td>2014-08-13</td>\n",
       "      <td>67.580002</td>\n",
       "      <td>68.050003</td>\n",
       "      <td>67.360001</td>\n",
       "      <td>67.769997</td>\n",
       "      <td>55.420696</td>\n",
       "      <td>1321500</td>\n",
       "      <td>D</td>\n",
       "    </tr>\n",
       "    <tr>\n",
       "      <th>13</th>\n",
       "      <td>2014-08-14</td>\n",
       "      <td>67.830002</td>\n",
       "      <td>68.349998</td>\n",
       "      <td>67.739998</td>\n",
       "      <td>68.290001</td>\n",
       "      <td>55.845932</td>\n",
       "      <td>1194800</td>\n",
       "      <td>D</td>\n",
       "    </tr>\n",
       "    <tr>\n",
       "      <th>14</th>\n",
       "      <td>2014-08-15</td>\n",
       "      <td>68.570000</td>\n",
       "      <td>69.349998</td>\n",
       "      <td>68.480003</td>\n",
       "      <td>68.900002</td>\n",
       "      <td>56.344803</td>\n",
       "      <td>2190900</td>\n",
       "      <td>D</td>\n",
       "    </tr>\n",
       "    <tr>\n",
       "      <th>15</th>\n",
       "      <td>2014-08-18</td>\n",
       "      <td>68.970001</td>\n",
       "      <td>69.250000</td>\n",
       "      <td>68.559998</td>\n",
       "      <td>68.680000</td>\n",
       "      <td>56.164867</td>\n",
       "      <td>1375600</td>\n",
       "      <td>D</td>\n",
       "    </tr>\n",
       "    <tr>\n",
       "      <th>16</th>\n",
       "      <td>2014-08-19</td>\n",
       "      <td>68.680000</td>\n",
       "      <td>69.610001</td>\n",
       "      <td>68.589996</td>\n",
       "      <td>69.589996</td>\n",
       "      <td>56.909035</td>\n",
       "      <td>1780800</td>\n",
       "      <td>D</td>\n",
       "    </tr>\n",
       "    <tr>\n",
       "      <th>17</th>\n",
       "      <td>2014-08-20</td>\n",
       "      <td>69.550003</td>\n",
       "      <td>69.709999</td>\n",
       "      <td>69.160004</td>\n",
       "      <td>69.650002</td>\n",
       "      <td>56.958115</td>\n",
       "      <td>1221800</td>\n",
       "      <td>D</td>\n",
       "    </tr>\n",
       "    <tr>\n",
       "      <th>18</th>\n",
       "      <td>2014-08-21</td>\n",
       "      <td>69.639999</td>\n",
       "      <td>70.150002</td>\n",
       "      <td>69.570000</td>\n",
       "      <td>69.690002</td>\n",
       "      <td>56.990826</td>\n",
       "      <td>1606900</td>\n",
       "      <td>D</td>\n",
       "    </tr>\n",
       "    <tr>\n",
       "      <th>19</th>\n",
       "      <td>2014-08-22</td>\n",
       "      <td>69.809998</td>\n",
       "      <td>69.940002</td>\n",
       "      <td>68.989998</td>\n",
       "      <td>69.510002</td>\n",
       "      <td>56.843628</td>\n",
       "      <td>1617300</td>\n",
       "      <td>D</td>\n",
       "    </tr>\n",
       "    <tr>\n",
       "      <th>20</th>\n",
       "      <td>2014-08-25</td>\n",
       "      <td>69.779999</td>\n",
       "      <td>70.250000</td>\n",
       "      <td>69.589996</td>\n",
       "      <td>70.089996</td>\n",
       "      <td>57.317936</td>\n",
       "      <td>1574200</td>\n",
       "      <td>D</td>\n",
       "    </tr>\n",
       "    <tr>\n",
       "      <th>21</th>\n",
       "      <td>2014-08-26</td>\n",
       "      <td>70.150002</td>\n",
       "      <td>70.379997</td>\n",
       "      <td>69.410004</td>\n",
       "      <td>69.430000</td>\n",
       "      <td>56.778217</td>\n",
       "      <td>1483300</td>\n",
       "      <td>D</td>\n",
       "    </tr>\n",
       "    <tr>\n",
       "      <th>22</th>\n",
       "      <td>2014-08-27</td>\n",
       "      <td>69.000000</td>\n",
       "      <td>69.529999</td>\n",
       "      <td>68.930000</td>\n",
       "      <td>69.480003</td>\n",
       "      <td>57.314404</td>\n",
       "      <td>1850600</td>\n",
       "      <td>D</td>\n",
       "    </tr>\n",
       "    <tr>\n",
       "      <th>23</th>\n",
       "      <td>2014-08-28</td>\n",
       "      <td>69.230003</td>\n",
       "      <td>69.860001</td>\n",
       "      <td>69.059998</td>\n",
       "      <td>69.849998</td>\n",
       "      <td>57.619606</td>\n",
       "      <td>1696000</td>\n",
       "      <td>D</td>\n",
       "    </tr>\n",
       "    <tr>\n",
       "      <th>24</th>\n",
       "      <td>2014-08-29</td>\n",
       "      <td>69.730003</td>\n",
       "      <td>70.260002</td>\n",
       "      <td>69.580002</td>\n",
       "      <td>70.220001</td>\n",
       "      <td>57.924824</td>\n",
       "      <td>1606400</td>\n",
       "      <td>D</td>\n",
       "    </tr>\n",
       "    <tr>\n",
       "      <th>25</th>\n",
       "      <td>2014-09-02</td>\n",
       "      <td>70.330002</td>\n",
       "      <td>70.949997</td>\n",
       "      <td>69.080002</td>\n",
       "      <td>69.470001</td>\n",
       "      <td>57.306149</td>\n",
       "      <td>2619800</td>\n",
       "      <td>D</td>\n",
       "    </tr>\n",
       "    <tr>\n",
       "      <th>26</th>\n",
       "      <td>2014-09-03</td>\n",
       "      <td>69.519997</td>\n",
       "      <td>70.000000</td>\n",
       "      <td>69.440002</td>\n",
       "      <td>69.660004</td>\n",
       "      <td>57.462872</td>\n",
       "      <td>1671500</td>\n",
       "      <td>D</td>\n",
       "    </tr>\n",
       "    <tr>\n",
       "      <th>27</th>\n",
       "      <td>2014-09-04</td>\n",
       "      <td>69.699997</td>\n",
       "      <td>70.449997</td>\n",
       "      <td>69.500000</td>\n",
       "      <td>70.269997</td>\n",
       "      <td>57.966068</td>\n",
       "      <td>2593400</td>\n",
       "      <td>D</td>\n",
       "    </tr>\n",
       "    <tr>\n",
       "      <th>28</th>\n",
       "      <td>2014-09-05</td>\n",
       "      <td>70.389999</td>\n",
       "      <td>71.300003</td>\n",
       "      <td>70.330002</td>\n",
       "      <td>71.290001</td>\n",
       "      <td>58.807468</td>\n",
       "      <td>2017300</td>\n",
       "      <td>D</td>\n",
       "    </tr>\n",
       "    <tr>\n",
       "      <th>29</th>\n",
       "      <td>2014-09-08</td>\n",
       "      <td>71.199997</td>\n",
       "      <td>71.330002</td>\n",
       "      <td>70.480003</td>\n",
       "      <td>70.849998</td>\n",
       "      <td>58.444519</td>\n",
       "      <td>2695700</td>\n",
       "      <td>D</td>\n",
       "    </tr>\n",
       "    <tr>\n",
       "      <th>...</th>\n",
       "      <td>...</td>\n",
       "      <td>...</td>\n",
       "      <td>...</td>\n",
       "      <td>...</td>\n",
       "      <td>...</td>\n",
       "      <td>...</td>\n",
       "      <td>...</td>\n",
       "      <td>...</td>\n",
       "    </tr>\n",
       "    <tr>\n",
       "      <th>1229</th>\n",
       "      <td>2019-06-14</td>\n",
       "      <td>86.779999</td>\n",
       "      <td>88.169998</td>\n",
       "      <td>86.750000</td>\n",
       "      <td>87.870003</td>\n",
       "      <td>87.870003</td>\n",
       "      <td>3237600</td>\n",
       "      <td>DUK</td>\n",
       "    </tr>\n",
       "    <tr>\n",
       "      <th>1230</th>\n",
       "      <td>2019-06-17</td>\n",
       "      <td>88.080002</td>\n",
       "      <td>88.589996</td>\n",
       "      <td>87.519997</td>\n",
       "      <td>87.949997</td>\n",
       "      <td>87.949997</td>\n",
       "      <td>2448600</td>\n",
       "      <td>DUK</td>\n",
       "    </tr>\n",
       "    <tr>\n",
       "      <th>1231</th>\n",
       "      <td>2019-06-18</td>\n",
       "      <td>88.360001</td>\n",
       "      <td>88.500000</td>\n",
       "      <td>86.320000</td>\n",
       "      <td>87.239998</td>\n",
       "      <td>87.239998</td>\n",
       "      <td>2532600</td>\n",
       "      <td>DUK</td>\n",
       "    </tr>\n",
       "    <tr>\n",
       "      <th>1232</th>\n",
       "      <td>2019-06-19</td>\n",
       "      <td>86.900002</td>\n",
       "      <td>88.120003</td>\n",
       "      <td>86.680000</td>\n",
       "      <td>87.650002</td>\n",
       "      <td>87.650002</td>\n",
       "      <td>2683200</td>\n",
       "      <td>DUK</td>\n",
       "    </tr>\n",
       "    <tr>\n",
       "      <th>1233</th>\n",
       "      <td>2019-06-20</td>\n",
       "      <td>88.139999</td>\n",
       "      <td>88.839996</td>\n",
       "      <td>87.680000</td>\n",
       "      <td>88.580002</td>\n",
       "      <td>88.580002</td>\n",
       "      <td>2428300</td>\n",
       "      <td>DUK</td>\n",
       "    </tr>\n",
       "    <tr>\n",
       "      <th>1234</th>\n",
       "      <td>2019-06-21</td>\n",
       "      <td>88.639999</td>\n",
       "      <td>89.599998</td>\n",
       "      <td>87.970001</td>\n",
       "      <td>89.529999</td>\n",
       "      <td>89.529999</td>\n",
       "      <td>6867500</td>\n",
       "      <td>DUK</td>\n",
       "    </tr>\n",
       "    <tr>\n",
       "      <th>1235</th>\n",
       "      <td>2019-06-24</td>\n",
       "      <td>89.620003</td>\n",
       "      <td>90.129997</td>\n",
       "      <td>89.220001</td>\n",
       "      <td>89.910004</td>\n",
       "      <td>89.910004</td>\n",
       "      <td>3305700</td>\n",
       "      <td>DUK</td>\n",
       "    </tr>\n",
       "    <tr>\n",
       "      <th>1236</th>\n",
       "      <td>2019-06-25</td>\n",
       "      <td>89.910004</td>\n",
       "      <td>90.680000</td>\n",
       "      <td>89.779999</td>\n",
       "      <td>90.120003</td>\n",
       "      <td>90.120003</td>\n",
       "      <td>3996800</td>\n",
       "      <td>DUK</td>\n",
       "    </tr>\n",
       "    <tr>\n",
       "      <th>1237</th>\n",
       "      <td>2019-06-26</td>\n",
       "      <td>89.839996</td>\n",
       "      <td>89.940002</td>\n",
       "      <td>87.930000</td>\n",
       "      <td>87.980003</td>\n",
       "      <td>87.980003</td>\n",
       "      <td>3437000</td>\n",
       "      <td>DUK</td>\n",
       "    </tr>\n",
       "    <tr>\n",
       "      <th>1238</th>\n",
       "      <td>2019-06-27</td>\n",
       "      <td>88.070000</td>\n",
       "      <td>88.720001</td>\n",
       "      <td>87.769997</td>\n",
       "      <td>88.550003</td>\n",
       "      <td>88.550003</td>\n",
       "      <td>2726700</td>\n",
       "      <td>DUK</td>\n",
       "    </tr>\n",
       "    <tr>\n",
       "      <th>1239</th>\n",
       "      <td>2019-06-28</td>\n",
       "      <td>88.489998</td>\n",
       "      <td>89.139999</td>\n",
       "      <td>87.940002</td>\n",
       "      <td>88.239998</td>\n",
       "      <td>88.239998</td>\n",
       "      <td>3875700</td>\n",
       "      <td>DUK</td>\n",
       "    </tr>\n",
       "    <tr>\n",
       "      <th>1240</th>\n",
       "      <td>2019-07-01</td>\n",
       "      <td>88.010002</td>\n",
       "      <td>88.239998</td>\n",
       "      <td>87.239998</td>\n",
       "      <td>88.010002</td>\n",
       "      <td>88.010002</td>\n",
       "      <td>2848000</td>\n",
       "      <td>DUK</td>\n",
       "    </tr>\n",
       "    <tr>\n",
       "      <th>1241</th>\n",
       "      <td>2019-07-02</td>\n",
       "      <td>88.169998</td>\n",
       "      <td>89.449997</td>\n",
       "      <td>88.160004</td>\n",
       "      <td>89.139999</td>\n",
       "      <td>89.139999</td>\n",
       "      <td>2039000</td>\n",
       "      <td>DUK</td>\n",
       "    </tr>\n",
       "    <tr>\n",
       "      <th>1242</th>\n",
       "      <td>2019-07-03</td>\n",
       "      <td>89.199997</td>\n",
       "      <td>90.599998</td>\n",
       "      <td>89.199997</td>\n",
       "      <td>90.099998</td>\n",
       "      <td>90.099998</td>\n",
       "      <td>1717600</td>\n",
       "      <td>DUK</td>\n",
       "    </tr>\n",
       "    <tr>\n",
       "      <th>1243</th>\n",
       "      <td>2019-07-05</td>\n",
       "      <td>89.419998</td>\n",
       "      <td>89.769997</td>\n",
       "      <td>88.209999</td>\n",
       "      <td>89.680000</td>\n",
       "      <td>89.680000</td>\n",
       "      <td>1744000</td>\n",
       "      <td>DUK</td>\n",
       "    </tr>\n",
       "    <tr>\n",
       "      <th>1244</th>\n",
       "      <td>2019-07-08</td>\n",
       "      <td>89.900002</td>\n",
       "      <td>90.059998</td>\n",
       "      <td>89.059998</td>\n",
       "      <td>89.660004</td>\n",
       "      <td>89.660004</td>\n",
       "      <td>2046900</td>\n",
       "      <td>DUK</td>\n",
       "    </tr>\n",
       "    <tr>\n",
       "      <th>1245</th>\n",
       "      <td>2019-07-09</td>\n",
       "      <td>90.250000</td>\n",
       "      <td>90.269997</td>\n",
       "      <td>88.870003</td>\n",
       "      <td>89.400002</td>\n",
       "      <td>89.400002</td>\n",
       "      <td>2598000</td>\n",
       "      <td>DUK</td>\n",
       "    </tr>\n",
       "    <tr>\n",
       "      <th>1246</th>\n",
       "      <td>2019-07-10</td>\n",
       "      <td>89.800003</td>\n",
       "      <td>90.139999</td>\n",
       "      <td>89.300003</td>\n",
       "      <td>89.629997</td>\n",
       "      <td>89.629997</td>\n",
       "      <td>2401700</td>\n",
       "      <td>DUK</td>\n",
       "    </tr>\n",
       "    <tr>\n",
       "      <th>1247</th>\n",
       "      <td>2019-07-11</td>\n",
       "      <td>89.489998</td>\n",
       "      <td>90.029999</td>\n",
       "      <td>88.610001</td>\n",
       "      <td>89.449997</td>\n",
       "      <td>89.449997</td>\n",
       "      <td>2379100</td>\n",
       "      <td>DUK</td>\n",
       "    </tr>\n",
       "    <tr>\n",
       "      <th>1248</th>\n",
       "      <td>2019-07-12</td>\n",
       "      <td>89.589996</td>\n",
       "      <td>89.589996</td>\n",
       "      <td>88.440002</td>\n",
       "      <td>88.699997</td>\n",
       "      <td>88.699997</td>\n",
       "      <td>2101400</td>\n",
       "      <td>DUK</td>\n",
       "    </tr>\n",
       "    <tr>\n",
       "      <th>1249</th>\n",
       "      <td>2019-07-15</td>\n",
       "      <td>88.809998</td>\n",
       "      <td>89.529999</td>\n",
       "      <td>88.550003</td>\n",
       "      <td>89.379997</td>\n",
       "      <td>89.379997</td>\n",
       "      <td>1847700</td>\n",
       "      <td>DUK</td>\n",
       "    </tr>\n",
       "    <tr>\n",
       "      <th>1250</th>\n",
       "      <td>2019-07-16</td>\n",
       "      <td>89.110001</td>\n",
       "      <td>89.529999</td>\n",
       "      <td>88.370003</td>\n",
       "      <td>89.029999</td>\n",
       "      <td>89.029999</td>\n",
       "      <td>1727100</td>\n",
       "      <td>DUK</td>\n",
       "    </tr>\n",
       "    <tr>\n",
       "      <th>1251</th>\n",
       "      <td>2019-07-17</td>\n",
       "      <td>89.339996</td>\n",
       "      <td>89.690002</td>\n",
       "      <td>88.889999</td>\n",
       "      <td>89.139999</td>\n",
       "      <td>89.139999</td>\n",
       "      <td>2102700</td>\n",
       "      <td>DUK</td>\n",
       "    </tr>\n",
       "    <tr>\n",
       "      <th>1252</th>\n",
       "      <td>2019-07-18</td>\n",
       "      <td>89.209999</td>\n",
       "      <td>89.849998</td>\n",
       "      <td>88.660004</td>\n",
       "      <td>89.790001</td>\n",
       "      <td>89.790001</td>\n",
       "      <td>1911700</td>\n",
       "      <td>DUK</td>\n",
       "    </tr>\n",
       "    <tr>\n",
       "      <th>1253</th>\n",
       "      <td>2019-07-19</td>\n",
       "      <td>89.639999</td>\n",
       "      <td>89.820000</td>\n",
       "      <td>88.430000</td>\n",
       "      <td>88.449997</td>\n",
       "      <td>88.449997</td>\n",
       "      <td>2408000</td>\n",
       "      <td>DUK</td>\n",
       "    </tr>\n",
       "    <tr>\n",
       "      <th>1254</th>\n",
       "      <td>2019-07-22</td>\n",
       "      <td>88.599998</td>\n",
       "      <td>88.690002</td>\n",
       "      <td>87.839996</td>\n",
       "      <td>88.150002</td>\n",
       "      <td>88.150002</td>\n",
       "      <td>2160300</td>\n",
       "      <td>DUK</td>\n",
       "    </tr>\n",
       "    <tr>\n",
       "      <th>1255</th>\n",
       "      <td>2019-07-23</td>\n",
       "      <td>88.180000</td>\n",
       "      <td>88.239998</td>\n",
       "      <td>87.370003</td>\n",
       "      <td>87.680000</td>\n",
       "      <td>87.680000</td>\n",
       "      <td>3141800</td>\n",
       "      <td>DUK</td>\n",
       "    </tr>\n",
       "    <tr>\n",
       "      <th>1256</th>\n",
       "      <td>2019-07-24</td>\n",
       "      <td>87.949997</td>\n",
       "      <td>87.980003</td>\n",
       "      <td>86.800003</td>\n",
       "      <td>87.180000</td>\n",
       "      <td>87.180000</td>\n",
       "      <td>2386500</td>\n",
       "      <td>DUK</td>\n",
       "    </tr>\n",
       "    <tr>\n",
       "      <th>1257</th>\n",
       "      <td>2019-07-25</td>\n",
       "      <td>86.900002</td>\n",
       "      <td>87.389999</td>\n",
       "      <td>86.169998</td>\n",
       "      <td>86.489998</td>\n",
       "      <td>86.489998</td>\n",
       "      <td>2680300</td>\n",
       "      <td>DUK</td>\n",
       "    </tr>\n",
       "    <tr>\n",
       "      <th>1258</th>\n",
       "      <td>2019-07-26</td>\n",
       "      <td>86.500000</td>\n",
       "      <td>87.080002</td>\n",
       "      <td>86.269997</td>\n",
       "      <td>86.910004</td>\n",
       "      <td>86.910004</td>\n",
       "      <td>2425200</td>\n",
       "      <td>DUK</td>\n",
       "    </tr>\n",
       "  </tbody>\n",
       "</table>\n",
       "<p>6295 rows × 8 columns</p>\n",
       "</div>"
      ],
      "text/plain": [
       "            Date       Open       High        Low      Close  Adj Close  \\\n",
       "0     2014-07-28  69.750000  71.059998  69.750000  70.879997  57.963978   \n",
       "1     2014-07-29  70.669998  70.980003  69.930000  69.930000  57.187099   \n",
       "2     2014-07-30  70.000000  70.660004  68.400002  68.970001  56.402020   \n",
       "3     2014-07-31  68.629997  68.849998  67.580002  67.639999  55.314388   \n",
       "4     2014-08-01  67.330002  68.410004  67.220001  67.589996  55.273487   \n",
       "5     2014-08-04  67.480003  67.589996  65.849998  67.029999  54.815529   \n",
       "6     2014-08-05  66.959999  67.089996  65.739998  66.010002  53.981419   \n",
       "7     2014-08-06  65.620003  65.699997  64.709999  64.910004  53.081856   \n",
       "8     2014-08-07  65.169998  65.940002  65.169998  65.760002  53.776958   \n",
       "9     2014-08-08  66.209999  67.900002  66.209999  67.849998  55.486111   \n",
       "10    2014-08-11  67.820000  68.089996  67.300003  67.550003  55.240784   \n",
       "11    2014-08-12  67.379997  67.820000  67.279999  67.489998  55.191711   \n",
       "12    2014-08-13  67.580002  68.050003  67.360001  67.769997  55.420696   \n",
       "13    2014-08-14  67.830002  68.349998  67.739998  68.290001  55.845932   \n",
       "14    2014-08-15  68.570000  69.349998  68.480003  68.900002  56.344803   \n",
       "15    2014-08-18  68.970001  69.250000  68.559998  68.680000  56.164867   \n",
       "16    2014-08-19  68.680000  69.610001  68.589996  69.589996  56.909035   \n",
       "17    2014-08-20  69.550003  69.709999  69.160004  69.650002  56.958115   \n",
       "18    2014-08-21  69.639999  70.150002  69.570000  69.690002  56.990826   \n",
       "19    2014-08-22  69.809998  69.940002  68.989998  69.510002  56.843628   \n",
       "20    2014-08-25  69.779999  70.250000  69.589996  70.089996  57.317936   \n",
       "21    2014-08-26  70.150002  70.379997  69.410004  69.430000  56.778217   \n",
       "22    2014-08-27  69.000000  69.529999  68.930000  69.480003  57.314404   \n",
       "23    2014-08-28  69.230003  69.860001  69.059998  69.849998  57.619606   \n",
       "24    2014-08-29  69.730003  70.260002  69.580002  70.220001  57.924824   \n",
       "25    2014-09-02  70.330002  70.949997  69.080002  69.470001  57.306149   \n",
       "26    2014-09-03  69.519997  70.000000  69.440002  69.660004  57.462872   \n",
       "27    2014-09-04  69.699997  70.449997  69.500000  70.269997  57.966068   \n",
       "28    2014-09-05  70.389999  71.300003  70.330002  71.290001  58.807468   \n",
       "29    2014-09-08  71.199997  71.330002  70.480003  70.849998  58.444519   \n",
       "...          ...        ...        ...        ...        ...        ...   \n",
       "1229  2019-06-14  86.779999  88.169998  86.750000  87.870003  87.870003   \n",
       "1230  2019-06-17  88.080002  88.589996  87.519997  87.949997  87.949997   \n",
       "1231  2019-06-18  88.360001  88.500000  86.320000  87.239998  87.239998   \n",
       "1232  2019-06-19  86.900002  88.120003  86.680000  87.650002  87.650002   \n",
       "1233  2019-06-20  88.139999  88.839996  87.680000  88.580002  88.580002   \n",
       "1234  2019-06-21  88.639999  89.599998  87.970001  89.529999  89.529999   \n",
       "1235  2019-06-24  89.620003  90.129997  89.220001  89.910004  89.910004   \n",
       "1236  2019-06-25  89.910004  90.680000  89.779999  90.120003  90.120003   \n",
       "1237  2019-06-26  89.839996  89.940002  87.930000  87.980003  87.980003   \n",
       "1238  2019-06-27  88.070000  88.720001  87.769997  88.550003  88.550003   \n",
       "1239  2019-06-28  88.489998  89.139999  87.940002  88.239998  88.239998   \n",
       "1240  2019-07-01  88.010002  88.239998  87.239998  88.010002  88.010002   \n",
       "1241  2019-07-02  88.169998  89.449997  88.160004  89.139999  89.139999   \n",
       "1242  2019-07-03  89.199997  90.599998  89.199997  90.099998  90.099998   \n",
       "1243  2019-07-05  89.419998  89.769997  88.209999  89.680000  89.680000   \n",
       "1244  2019-07-08  89.900002  90.059998  89.059998  89.660004  89.660004   \n",
       "1245  2019-07-09  90.250000  90.269997  88.870003  89.400002  89.400002   \n",
       "1246  2019-07-10  89.800003  90.139999  89.300003  89.629997  89.629997   \n",
       "1247  2019-07-11  89.489998  90.029999  88.610001  89.449997  89.449997   \n",
       "1248  2019-07-12  89.589996  89.589996  88.440002  88.699997  88.699997   \n",
       "1249  2019-07-15  88.809998  89.529999  88.550003  89.379997  89.379997   \n",
       "1250  2019-07-16  89.110001  89.529999  88.370003  89.029999  89.029999   \n",
       "1251  2019-07-17  89.339996  89.690002  88.889999  89.139999  89.139999   \n",
       "1252  2019-07-18  89.209999  89.849998  88.660004  89.790001  89.790001   \n",
       "1253  2019-07-19  89.639999  89.820000  88.430000  88.449997  88.449997   \n",
       "1254  2019-07-22  88.599998  88.690002  87.839996  88.150002  88.150002   \n",
       "1255  2019-07-23  88.180000  88.239998  87.370003  87.680000  87.680000   \n",
       "1256  2019-07-24  87.949997  87.980003  86.800003  87.180000  87.180000   \n",
       "1257  2019-07-25  86.900002  87.389999  86.169998  86.489998  86.489998   \n",
       "1258  2019-07-26  86.500000  87.080002  86.269997  86.910004  86.910004   \n",
       "\n",
       "       Volume Symbol  \n",
       "0     1806400      D  \n",
       "1     2231100      D  \n",
       "2     2588900      D  \n",
       "3     3266900      D  \n",
       "4     2601800      D  \n",
       "5     3911100      D  \n",
       "6     3036100      D  \n",
       "7     5188600      D  \n",
       "8     2863700      D  \n",
       "9     3872800      D  \n",
       "10    2103600      D  \n",
       "11    1372800      D  \n",
       "12    1321500      D  \n",
       "13    1194800      D  \n",
       "14    2190900      D  \n",
       "15    1375600      D  \n",
       "16    1780800      D  \n",
       "17    1221800      D  \n",
       "18    1606900      D  \n",
       "19    1617300      D  \n",
       "20    1574200      D  \n",
       "21    1483300      D  \n",
       "22    1850600      D  \n",
       "23    1696000      D  \n",
       "24    1606400      D  \n",
       "25    2619800      D  \n",
       "26    1671500      D  \n",
       "27    2593400      D  \n",
       "28    2017300      D  \n",
       "29    2695700      D  \n",
       "...       ...    ...  \n",
       "1229  3237600    DUK  \n",
       "1230  2448600    DUK  \n",
       "1231  2532600    DUK  \n",
       "1232  2683200    DUK  \n",
       "1233  2428300    DUK  \n",
       "1234  6867500    DUK  \n",
       "1235  3305700    DUK  \n",
       "1236  3996800    DUK  \n",
       "1237  3437000    DUK  \n",
       "1238  2726700    DUK  \n",
       "1239  3875700    DUK  \n",
       "1240  2848000    DUK  \n",
       "1241  2039000    DUK  \n",
       "1242  1717600    DUK  \n",
       "1243  1744000    DUK  \n",
       "1244  2046900    DUK  \n",
       "1245  2598000    DUK  \n",
       "1246  2401700    DUK  \n",
       "1247  2379100    DUK  \n",
       "1248  2101400    DUK  \n",
       "1249  1847700    DUK  \n",
       "1250  1727100    DUK  \n",
       "1251  2102700    DUK  \n",
       "1252  1911700    DUK  \n",
       "1253  2408000    DUK  \n",
       "1254  2160300    DUK  \n",
       "1255  3141800    DUK  \n",
       "1256  2386500    DUK  \n",
       "1257  2680300    DUK  \n",
       "1258  2425200    DUK  \n",
       "\n",
       "[6295 rows x 8 columns]"
      ]
     },
     "execution_count": 56,
     "metadata": {},
     "output_type": "execute_result"
    }
   ],
   "source": [
    "agg_df"
   ]
  },
  {
   "cell_type": "code",
   "execution_count": null,
   "metadata": {},
   "outputs": [],
   "source": []
  },
  {
   "cell_type": "markdown",
   "metadata": {
    "colab_type": "text",
    "id": "Dnr-zON9vR5g"
   },
   "source": [
    "Let's now create the `Volume_Millions`, `VolStat` and `Return` features in the concatenated DataFrame:"
   ]
  },
  {
   "cell_type": "code",
   "execution_count": 57,
   "metadata": {
    "colab": {},
    "colab_type": "code",
    "executionInfo": {
     "elapsed": 5530,
     "status": "ok",
     "timestamp": 1595517181966,
     "user": {
      "displayName": "Norman Rodriguez",
      "photoUrl": "https://lh3.googleusercontent.com/a-/AOh14GiXcbIxQ0CYzDTlPuMhfh4q4RrONoW5L_HFnRCh=s64",
      "userId": "01368312674772044880"
     },
     "user_tz": 300
    },
    "id": "i3ZNA5EcvcxI"
   },
   "outputs": [],
   "source": [
    "agg_df[\"Volume_Millions\"] = agg_df[\"Volume\"] / 1000000.0\n",
    "agg_df[\"VolStat\"] = (agg_df[\"High\"] - agg_df[\"Low\"]) / agg_df[\"Open\"]\n",
    "agg_df[\"Return\"] = (agg_df[\"Close\"] / agg_df[\"Close\"].shift(1)) - 1.0"
   ]
  },
  {
   "cell_type": "markdown",
   "metadata": {
    "colab_type": "text",
    "id": "tS08sAcVvjLY"
   },
   "source": [
    "We can see both the tail and the shape of the result below:"
   ]
  },
  {
   "cell_type": "code",
   "execution_count": 58,
   "metadata": {
    "colab": {
     "base_uri": "https://localhost:8080/",
     "height": 197
    },
    "colab_type": "code",
    "executionInfo": {
     "elapsed": 5504,
     "status": "ok",
     "timestamp": 1595517181969,
     "user": {
      "displayName": "Norman Rodriguez",
      "photoUrl": "https://lh3.googleusercontent.com/a-/AOh14GiXcbIxQ0CYzDTlPuMhfh4q4RrONoW5L_HFnRCh=s64",
      "userId": "01368312674772044880"
     },
     "user_tz": 300
    },
    "id": "Co64fRCJmW6I",
    "outputId": "d4b73d41-9f58-4a29-a595-fc5f0752fb44"
   },
   "outputs": [
    {
     "data": {
      "text/html": [
       "<div>\n",
       "<style scoped>\n",
       "    .dataframe tbody tr th:only-of-type {\n",
       "        vertical-align: middle;\n",
       "    }\n",
       "\n",
       "    .dataframe tbody tr th {\n",
       "        vertical-align: top;\n",
       "    }\n",
       "\n",
       "    .dataframe thead th {\n",
       "        text-align: right;\n",
       "    }\n",
       "</style>\n",
       "<table border=\"1\" class=\"dataframe\">\n",
       "  <thead>\n",
       "    <tr style=\"text-align: right;\">\n",
       "      <th></th>\n",
       "      <th>Date</th>\n",
       "      <th>Open</th>\n",
       "      <th>High</th>\n",
       "      <th>Low</th>\n",
       "      <th>Close</th>\n",
       "      <th>Adj Close</th>\n",
       "      <th>Volume</th>\n",
       "      <th>Symbol</th>\n",
       "      <th>Volume_Millions</th>\n",
       "      <th>VolStat</th>\n",
       "      <th>Return</th>\n",
       "    </tr>\n",
       "  </thead>\n",
       "  <tbody>\n",
       "    <tr>\n",
       "      <th>1254</th>\n",
       "      <td>2019-07-22</td>\n",
       "      <td>88.599998</td>\n",
       "      <td>88.690002</td>\n",
       "      <td>87.839996</td>\n",
       "      <td>88.150002</td>\n",
       "      <td>88.150002</td>\n",
       "      <td>2160300</td>\n",
       "      <td>DUK</td>\n",
       "      <td>2.1603</td>\n",
       "      <td>0.009594</td>\n",
       "      <td>-0.003392</td>\n",
       "    </tr>\n",
       "    <tr>\n",
       "      <th>1255</th>\n",
       "      <td>2019-07-23</td>\n",
       "      <td>88.180000</td>\n",
       "      <td>88.239998</td>\n",
       "      <td>87.370003</td>\n",
       "      <td>87.680000</td>\n",
       "      <td>87.680000</td>\n",
       "      <td>3141800</td>\n",
       "      <td>DUK</td>\n",
       "      <td>3.1418</td>\n",
       "      <td>0.009866</td>\n",
       "      <td>-0.005332</td>\n",
       "    </tr>\n",
       "    <tr>\n",
       "      <th>1256</th>\n",
       "      <td>2019-07-24</td>\n",
       "      <td>87.949997</td>\n",
       "      <td>87.980003</td>\n",
       "      <td>86.800003</td>\n",
       "      <td>87.180000</td>\n",
       "      <td>87.180000</td>\n",
       "      <td>2386500</td>\n",
       "      <td>DUK</td>\n",
       "      <td>2.3865</td>\n",
       "      <td>0.013417</td>\n",
       "      <td>-0.005703</td>\n",
       "    </tr>\n",
       "    <tr>\n",
       "      <th>1257</th>\n",
       "      <td>2019-07-25</td>\n",
       "      <td>86.900002</td>\n",
       "      <td>87.389999</td>\n",
       "      <td>86.169998</td>\n",
       "      <td>86.489998</td>\n",
       "      <td>86.489998</td>\n",
       "      <td>2680300</td>\n",
       "      <td>DUK</td>\n",
       "      <td>2.6803</td>\n",
       "      <td>0.014039</td>\n",
       "      <td>-0.007915</td>\n",
       "    </tr>\n",
       "    <tr>\n",
       "      <th>1258</th>\n",
       "      <td>2019-07-26</td>\n",
       "      <td>86.500000</td>\n",
       "      <td>87.080002</td>\n",
       "      <td>86.269997</td>\n",
       "      <td>86.910004</td>\n",
       "      <td>86.910004</td>\n",
       "      <td>2425200</td>\n",
       "      <td>DUK</td>\n",
       "      <td>2.4252</td>\n",
       "      <td>0.009364</td>\n",
       "      <td>0.004856</td>\n",
       "    </tr>\n",
       "  </tbody>\n",
       "</table>\n",
       "</div>"
      ],
      "text/plain": [
       "            Date       Open       High        Low      Close  Adj Close  \\\n",
       "1254  2019-07-22  88.599998  88.690002  87.839996  88.150002  88.150002   \n",
       "1255  2019-07-23  88.180000  88.239998  87.370003  87.680000  87.680000   \n",
       "1256  2019-07-24  87.949997  87.980003  86.800003  87.180000  87.180000   \n",
       "1257  2019-07-25  86.900002  87.389999  86.169998  86.489998  86.489998   \n",
       "1258  2019-07-26  86.500000  87.080002  86.269997  86.910004  86.910004   \n",
       "\n",
       "       Volume Symbol  Volume_Millions   VolStat    Return  \n",
       "1254  2160300    DUK           2.1603  0.009594 -0.003392  \n",
       "1255  3141800    DUK           3.1418  0.009866 -0.005332  \n",
       "1256  2386500    DUK           2.3865  0.013417 -0.005703  \n",
       "1257  2680300    DUK           2.6803  0.014039 -0.007915  \n",
       "1258  2425200    DUK           2.4252  0.009364  0.004856  "
      ]
     },
     "execution_count": 58,
     "metadata": {},
     "output_type": "execute_result"
    }
   ],
   "source": [
    "agg_df.tail()"
   ]
  },
  {
   "cell_type": "code",
   "execution_count": 59,
   "metadata": {
    "colab": {
     "base_uri": "https://localhost:8080/",
     "height": 34
    },
    "colab_type": "code",
    "executionInfo": {
     "elapsed": 5383,
     "status": "ok",
     "timestamp": 1595517181971,
     "user": {
      "displayName": "Norman Rodriguez",
      "photoUrl": "https://lh3.googleusercontent.com/a-/AOh14GiXcbIxQ0CYzDTlPuMhfh4q4RrONoW5L_HFnRCh=s64",
      "userId": "01368312674772044880"
     },
     "user_tz": 300
    },
    "id": "7uWyhuqOw-Bv",
    "outputId": "876dc956-597f-44dd-8d23-a207d41a49ec"
   },
   "outputs": [
    {
     "data": {
      "text/plain": [
       "(6295, 11)"
      ]
     },
     "execution_count": 59,
     "metadata": {},
     "output_type": "execute_result"
    }
   ],
   "source": [
    "agg_df.shape"
   ]
  },
  {
   "cell_type": "markdown",
   "metadata": {
    "colab_type": "text",
    "id": "Orzd_lR_mW6v"
   },
   "source": [
    "After the `for` loop, we've aggregated and added the relevant features we identified in the previous section. We then printed the tail of the aggregated DataFrame to have a peek at the format of the data, and we've also printed the shape of the DataFrame. This is to sanity-check that our final DataFrame is roughly what we expect. Notice the aggregated DataFrame has the same number of columns as the original single stock (D) data, however the number of rows have increased five-fold. This makes sense, because each additional symbol contains 1259 data entries, so five symbols leads to a total of ```1259*5 = 6295``` rows. So, this passes our sanity check."
   ]
  },
  {
   "cell_type": "markdown",
   "metadata": {
    "colab_type": "text",
    "id": "tQArRtXOmW61"
   },
   "source": [
    "Now, if we want to reverse this process and extract the data relevant to a single stock symbol from the aggregated DataFrame ```agg_df```, we can do so using the ```==``` operator, which returns True when two objects contain the same value, and False otherwise:"
   ]
  },
  {
   "cell_type": "code",
   "execution_count": 40,
   "metadata": {
    "colab": {
     "base_uri": "https://localhost:8080/",
     "height": 229
    },
    "colab_type": "code",
    "executionInfo": {
     "elapsed": 5334,
     "status": "ok",
     "timestamp": 1595517181973,
     "user": {
      "displayName": "Norman Rodriguez",
      "photoUrl": "https://lh3.googleusercontent.com/a-/AOh14GiXcbIxQ0CYzDTlPuMhfh4q4RrONoW5L_HFnRCh=s64",
      "userId": "01368312674772044880"
     },
     "user_tz": 300
    },
    "id": "si3NFrlOxjjo",
    "outputId": "cc425ebf-140a-4bff-c3f8-5b02a59e496d",
    "scrolled": true
   },
   "outputs": [
    {
     "data": {
      "text/plain": [
       "0       False\n",
       "1       False\n",
       "2       False\n",
       "3       False\n",
       "4       False\n",
       "5       False\n",
       "6       False\n",
       "7       False\n",
       "8       False\n",
       "9       False\n",
       "10      False\n",
       "11      False\n",
       "12      False\n",
       "13      False\n",
       "14      False\n",
       "15      False\n",
       "16      False\n",
       "17      False\n",
       "18      False\n",
       "19      False\n",
       "20      False\n",
       "21      False\n",
       "22      False\n",
       "23      False\n",
       "24      False\n",
       "25      False\n",
       "26      False\n",
       "27      False\n",
       "28      False\n",
       "29      False\n",
       "        ...  \n",
       "1229     True\n",
       "1230     True\n",
       "1231     True\n",
       "1232     True\n",
       "1233     True\n",
       "1234     True\n",
       "1235     True\n",
       "1236     True\n",
       "1237     True\n",
       "1238     True\n",
       "1239     True\n",
       "1240     True\n",
       "1241     True\n",
       "1242     True\n",
       "1243     True\n",
       "1244     True\n",
       "1245     True\n",
       "1246     True\n",
       "1247     True\n",
       "1248     True\n",
       "1249     True\n",
       "1250     True\n",
       "1251     True\n",
       "1252     True\n",
       "1253     True\n",
       "1254     True\n",
       "1255     True\n",
       "1256     True\n",
       "1257     True\n",
       "1258     True\n",
       "Name: Symbol, Length: 6295, dtype: bool"
      ]
     },
     "execution_count": 40,
     "metadata": {},
     "output_type": "execute_result"
    }
   ],
   "source": [
    "# A column of Trues and Falses (also known as a \"Boolean\" column). True if the symbol is DUK, false otherwise\n",
    "are_you_DUK = agg_df[\"Symbol\"] == \"DUK\"\n",
    "are_you_DUK"
   ]
  },
  {
   "cell_type": "code",
   "execution_count": null,
   "metadata": {},
   "outputs": [],
   "source": []
  },
  {
   "cell_type": "code",
   "execution_count": 61,
   "metadata": {
    "colab": {
     "base_uri": "https://localhost:8080/",
     "height": 197
    },
    "colab_type": "code",
    "executionInfo": {
     "elapsed": 5289,
     "status": "ok",
     "timestamp": 1595517181974,
     "user": {
      "displayName": "Norman Rodriguez",
      "photoUrl": "https://lh3.googleusercontent.com/a-/AOh14GiXcbIxQ0CYzDTlPuMhfh4q4RrONoW5L_HFnRCh=s64",
      "userId": "01368312674772044880"
     },
     "user_tz": 300
    },
    "id": "a-xg_o_7mW6_",
    "outputId": "d7c08fbe-cb19-4d60-ccc0-736d94bca1ce"
   },
   "outputs": [
    {
     "data": {
      "text/html": [
       "<div>\n",
       "<style scoped>\n",
       "    .dataframe tbody tr th:only-of-type {\n",
       "        vertical-align: middle;\n",
       "    }\n",
       "\n",
       "    .dataframe tbody tr th {\n",
       "        vertical-align: top;\n",
       "    }\n",
       "\n",
       "    .dataframe thead th {\n",
       "        text-align: right;\n",
       "    }\n",
       "</style>\n",
       "<table border=\"1\" class=\"dataframe\">\n",
       "  <thead>\n",
       "    <tr style=\"text-align: right;\">\n",
       "      <th></th>\n",
       "      <th>Date</th>\n",
       "      <th>Open</th>\n",
       "      <th>High</th>\n",
       "      <th>Low</th>\n",
       "      <th>Close</th>\n",
       "      <th>Adj Close</th>\n",
       "      <th>Volume</th>\n",
       "      <th>Symbol</th>\n",
       "      <th>Volume_Millions</th>\n",
       "      <th>VolStat</th>\n",
       "      <th>Return</th>\n",
       "    </tr>\n",
       "  </thead>\n",
       "  <tbody>\n",
       "    <tr>\n",
       "      <th>0</th>\n",
       "      <td>2014-07-28</td>\n",
       "      <td>73.309998</td>\n",
       "      <td>74.480003</td>\n",
       "      <td>73.230003</td>\n",
       "      <td>74.389999</td>\n",
       "      <td>59.266285</td>\n",
       "      <td>3281100</td>\n",
       "      <td>DUK</td>\n",
       "      <td>3.2811</td>\n",
       "      <td>0.017051</td>\n",
       "      <td>0.334589</td>\n",
       "    </tr>\n",
       "    <tr>\n",
       "      <th>1</th>\n",
       "      <td>2014-07-29</td>\n",
       "      <td>74.400002</td>\n",
       "      <td>74.480003</td>\n",
       "      <td>73.760002</td>\n",
       "      <td>73.980003</td>\n",
       "      <td>58.939648</td>\n",
       "      <td>2236300</td>\n",
       "      <td>DUK</td>\n",
       "      <td>2.2363</td>\n",
       "      <td>0.009677</td>\n",
       "      <td>-0.005511</td>\n",
       "    </tr>\n",
       "    <tr>\n",
       "      <th>2</th>\n",
       "      <td>2014-07-30</td>\n",
       "      <td>74.029999</td>\n",
       "      <td>74.199997</td>\n",
       "      <td>72.580002</td>\n",
       "      <td>73.050003</td>\n",
       "      <td>58.198696</td>\n",
       "      <td>2782200</td>\n",
       "      <td>DUK</td>\n",
       "      <td>2.7822</td>\n",
       "      <td>0.021883</td>\n",
       "      <td>-0.012571</td>\n",
       "    </tr>\n",
       "    <tr>\n",
       "      <th>3</th>\n",
       "      <td>2014-07-31</td>\n",
       "      <td>72.610001</td>\n",
       "      <td>73.099998</td>\n",
       "      <td>72.059998</td>\n",
       "      <td>72.129997</td>\n",
       "      <td>57.465740</td>\n",
       "      <td>3249000</td>\n",
       "      <td>DUK</td>\n",
       "      <td>3.2490</td>\n",
       "      <td>0.014323</td>\n",
       "      <td>-0.012594</td>\n",
       "    </tr>\n",
       "    <tr>\n",
       "      <th>4</th>\n",
       "      <td>2014-08-01</td>\n",
       "      <td>72.239998</td>\n",
       "      <td>73.370003</td>\n",
       "      <td>72.150002</td>\n",
       "      <td>72.940002</td>\n",
       "      <td>58.111061</td>\n",
       "      <td>3960200</td>\n",
       "      <td>DUK</td>\n",
       "      <td>3.9602</td>\n",
       "      <td>0.016888</td>\n",
       "      <td>0.011230</td>\n",
       "    </tr>\n",
       "  </tbody>\n",
       "</table>\n",
       "</div>"
      ],
      "text/plain": [
       "         Date       Open       High        Low      Close  Adj Close   Volume  \\\n",
       "0  2014-07-28  73.309998  74.480003  73.230003  74.389999  59.266285  3281100   \n",
       "1  2014-07-29  74.400002  74.480003  73.760002  73.980003  58.939648  2236300   \n",
       "2  2014-07-30  74.029999  74.199997  72.580002  73.050003  58.198696  2782200   \n",
       "3  2014-07-31  72.610001  73.099998  72.059998  72.129997  57.465740  3249000   \n",
       "4  2014-08-01  72.239998  73.370003  72.150002  72.940002  58.111061  3960200   \n",
       "\n",
       "  Symbol  Volume_Millions   VolStat    Return  \n",
       "0    DUK           3.2811  0.017051  0.334589  \n",
       "1    DUK           2.2363  0.009677 -0.005511  \n",
       "2    DUK           2.7822  0.021883 -0.012571  \n",
       "3    DUK           3.2490  0.014323 -0.012594  \n",
       "4    DUK           3.9602  0.016888  0.011230  "
      ]
     },
     "execution_count": 61,
     "metadata": {},
     "output_type": "execute_result"
    }
   ],
   "source": [
    "# Filtering our concatenated dataframe using the filtering column\n",
    "symbol_DUK_df = agg_df[are_you_DUK] # We tell Pandas to only include the rows for which are_you_DUK is True.\n",
    "symbol_DUK_df.head()\n"
   ]
  },
  {
   "cell_type": "markdown",
   "metadata": {
    "colab_type": "text",
    "id": "JjEtZJtpmW7X"
   },
   "source": [
    "This row extraction technique will be useful to us later in this case when we perform analyses on each individual stock symbol."
   ]
  },
  {
   "cell_type": "code",
   "execution_count": 51,
   "metadata": {},
   "outputs": [
    {
     "data": {
      "text/html": [
       "<div>\n",
       "<style scoped>\n",
       "    .dataframe tbody tr th:only-of-type {\n",
       "        vertical-align: middle;\n",
       "    }\n",
       "\n",
       "    .dataframe tbody tr th {\n",
       "        vertical-align: top;\n",
       "    }\n",
       "\n",
       "    .dataframe thead th {\n",
       "        text-align: right;\n",
       "    }\n",
       "</style>\n",
       "<table border=\"1\" class=\"dataframe\">\n",
       "  <thead>\n",
       "    <tr style=\"text-align: right;\">\n",
       "      <th></th>\n",
       "      <th>Date</th>\n",
       "      <th>Open</th>\n",
       "      <th>High</th>\n",
       "      <th>Low</th>\n",
       "      <th>Close</th>\n",
       "      <th>Adj Close</th>\n",
       "      <th>Volume</th>\n",
       "      <th>Symbol</th>\n",
       "      <th>Volume_Millions</th>\n",
       "      <th>VolStat</th>\n",
       "      <th>Return</th>\n",
       "    </tr>\n",
       "  </thead>\n",
       "  <tbody>\n",
       "    <tr>\n",
       "      <th>1254</th>\n",
       "      <td>2019-07-22</td>\n",
       "      <td>88.599998</td>\n",
       "      <td>88.690002</td>\n",
       "      <td>87.839996</td>\n",
       "      <td>88.150002</td>\n",
       "      <td>88.150002</td>\n",
       "      <td>2160300</td>\n",
       "      <td>DUK</td>\n",
       "      <td>2.1603</td>\n",
       "      <td>0.009594</td>\n",
       "      <td>-0.003392</td>\n",
       "    </tr>\n",
       "    <tr>\n",
       "      <th>1255</th>\n",
       "      <td>2019-07-23</td>\n",
       "      <td>88.180000</td>\n",
       "      <td>88.239998</td>\n",
       "      <td>87.370003</td>\n",
       "      <td>87.680000</td>\n",
       "      <td>87.680000</td>\n",
       "      <td>3141800</td>\n",
       "      <td>DUK</td>\n",
       "      <td>3.1418</td>\n",
       "      <td>0.009866</td>\n",
       "      <td>-0.005332</td>\n",
       "    </tr>\n",
       "    <tr>\n",
       "      <th>1256</th>\n",
       "      <td>2019-07-24</td>\n",
       "      <td>87.949997</td>\n",
       "      <td>87.980003</td>\n",
       "      <td>86.800003</td>\n",
       "      <td>87.180000</td>\n",
       "      <td>87.180000</td>\n",
       "      <td>2386500</td>\n",
       "      <td>DUK</td>\n",
       "      <td>2.3865</td>\n",
       "      <td>0.013417</td>\n",
       "      <td>-0.005703</td>\n",
       "    </tr>\n",
       "    <tr>\n",
       "      <th>1257</th>\n",
       "      <td>2019-07-25</td>\n",
       "      <td>86.900002</td>\n",
       "      <td>87.389999</td>\n",
       "      <td>86.169998</td>\n",
       "      <td>86.489998</td>\n",
       "      <td>86.489998</td>\n",
       "      <td>2680300</td>\n",
       "      <td>DUK</td>\n",
       "      <td>2.6803</td>\n",
       "      <td>0.014039</td>\n",
       "      <td>-0.007915</td>\n",
       "    </tr>\n",
       "    <tr>\n",
       "      <th>1258</th>\n",
       "      <td>2019-07-26</td>\n",
       "      <td>86.500000</td>\n",
       "      <td>87.080002</td>\n",
       "      <td>86.269997</td>\n",
       "      <td>86.910004</td>\n",
       "      <td>86.910004</td>\n",
       "      <td>2425200</td>\n",
       "      <td>DUK</td>\n",
       "      <td>2.4252</td>\n",
       "      <td>0.009364</td>\n",
       "      <td>0.004856</td>\n",
       "    </tr>\n",
       "  </tbody>\n",
       "</table>\n",
       "</div>"
      ],
      "text/plain": [
       "            Date       Open       High        Low      Close  Adj Close  \\\n",
       "1254  2019-07-22  88.599998  88.690002  87.839996  88.150002  88.150002   \n",
       "1255  2019-07-23  88.180000  88.239998  87.370003  87.680000  87.680000   \n",
       "1256  2019-07-24  87.949997  87.980003  86.800003  87.180000  87.180000   \n",
       "1257  2019-07-25  86.900002  87.389999  86.169998  86.489998  86.489998   \n",
       "1258  2019-07-26  86.500000  87.080002  86.269997  86.910004  86.910004   \n",
       "\n",
       "       Volume Symbol  Volume_Millions   VolStat    Return  \n",
       "1254  2160300    DUK           2.1603  0.009594 -0.003392  \n",
       "1255  3141800    DUK           3.1418  0.009866 -0.005332  \n",
       "1256  2386500    DUK           2.3865  0.013417 -0.005703  \n",
       "1257  2680300    DUK           2.6803  0.014039 -0.007915  \n",
       "1258  2425200    DUK           2.4252  0.009364  0.004856  "
      ]
     },
     "execution_count": 51,
     "metadata": {},
     "output_type": "execute_result"
    }
   ],
   "source": [
    "symbol_DUK_df.tail()"
   ]
  },
  {
   "cell_type": "markdown",
   "metadata": {
    "colab_type": "text",
    "id": "C36o8fHQmW7Y",
    "tags": [
     "3_min"
    ]
   },
   "source": [
    "### Exercise 3:\n",
    "\n",
    "If we instead used the ```!=``` operator in the definition of the filtering column, how many rows would we end up with?\n",
    "\n",
    "(a) 1259\n",
    "\n",
    "(b) 12590\n",
    "\n",
    "(c) 5036\n",
    "\n",
    "(d) 6295"
   ]
  },
  {
   "cell_type": "markdown",
   "metadata": {
    "tags": [
     "ans_st"
    ]
   },
   "source": [
    "**Answer.**"
   ]
  },
  {
   "cell_type": "code",
   "execution_count": null,
   "metadata": {},
   "outputs": [],
   "source": [
    "C"
   ]
  },
  {
   "cell_type": "markdown",
   "metadata": {},
   "source": [
    "-------"
   ]
  },
  {
   "cell_type": "markdown",
   "metadata": {
    "colab_type": "text",
    "id": "eNHWUpHUmW7a",
    "tags": [
     "12_min"
    ]
   },
   "source": [
    "### Exercise 4:\n",
    "\n",
    "Write a `for` loop that loops through each of the five symbols, extracting only the rows corresponding to each symbol, and prints the average ```VolStat``` value for each of the five symbols."
   ]
  },
  {
   "cell_type": "markdown",
   "metadata": {
    "colab_type": "text",
    "id": "g0RrLAJFmW7b",
    "tags": [
     "ans_st"
    ]
   },
   "source": [
    "**Answer.**"
   ]
  },
  {
   "cell_type": "markdown",
   "metadata": {},
   "source": [
    "-------"
   ]
  },
  {
   "cell_type": "markdown",
   "metadata": {
    "colab_type": "text",
    "id": "kHXN99hBp5U0"
   },
   "source": [
    "It turns out that we can use an alternative approach to reduce the amount of code we need to write, especially if we plan on repeating this procedure in the future. We can define a Python function to do the filtering and the average calculation and then pass it to the `for` loop:"
   ]
  },
  {
   "cell_type": "code",
   "execution_count": 46,
   "metadata": {},
   "outputs": [
    {
     "data": {
      "text/plain": [
       "[1, 3, 5]"
      ]
     },
     "execution_count": 46,
     "metadata": {},
     "output_type": "execute_result"
    }
   ],
   "source": [
    "nat_list=[1,3,5]"
   ]
  },
  {
   "cell_type": "code",
   "execution_count": 49,
   "metadata": {},
   "outputs": [
    {
     "data": {
      "text/plain": [
       "[3, 5, 7]"
      ]
     },
     "execution_count": 49,
     "metadata": {},
     "output_type": "execute_result"
    }
   ],
   "source": [
    "[x+2 for x in nat_list]"
   ]
  },
  {
   "cell_type": "code",
   "execution_count": 48,
   "metadata": {},
   "outputs": [
    {
     "data": {
      "text/plain": [
       "[1, 3, 5]"
      ]
     },
     "execution_count": 48,
     "metadata": {},
     "output_type": "execute_result"
    }
   ],
   "source": [
    "nat_list"
   ]
  },
  {
   "cell_type": "code",
   "execution_count": 62,
   "metadata": {
    "colab": {},
    "colab_type": "code",
    "executionInfo": {
     "elapsed": 5457,
     "status": "ok",
     "timestamp": 1595517182199,
     "user": {
      "displayName": "Norman Rodriguez",
      "photoUrl": "https://lh3.googleusercontent.com/a-/AOh14GiXcbIxQ0CYzDTlPuMhfh4q4RrONoW5L_HFnRCh=s64",
      "userId": "01368312674772044880"
     },
     "user_tz": 300
    },
    "id": "839IHrhhqNP3"
   },
   "outputs": [],
   "source": [
    "def do_some_stuff(symbol):\n",
    "    condition = agg_df[\"Symbol\"] == symbol # We create a boolean column to filter the DataFrame\n",
    "    symbol_df = agg_df[condition] # We filter the DataFrame with our condition column\n",
    "    symbol_avg_volstat = symbol_df[\"VolStat\"].mean() # Finding the mean\n",
    "    return [symbol, symbol_avg_volstat]"
   ]
  },
  {
   "cell_type": "code",
   "execution_count": null,
   "metadata": {},
   "outputs": [],
   "source": []
  },
  {
   "cell_type": "code",
   "execution_count": 63,
   "metadata": {
    "colab": {
     "base_uri": "https://localhost:8080/",
     "height": 105
    },
    "colab_type": "code",
    "executionInfo": {
     "elapsed": 5408,
     "status": "ok",
     "timestamp": 1595517182203,
     "user": {
      "displayName": "Norman Rodriguez",
      "photoUrl": "https://lh3.googleusercontent.com/a-/AOh14GiXcbIxQ0CYzDTlPuMhfh4q4RrONoW5L_HFnRCh=s64",
      "userId": "01368312674772044880"
     },
     "user_tz": 300
    },
    "id": "-Vg6Qc68qVXR",
    "outputId": "8d0a77c9-f7ca-4095-cef2-9ff5c707a46d"
   },
   "outputs": [
    {
     "ename": "NameError",
     "evalue": "name 'symbol_list' is not defined",
     "output_type": "error",
     "traceback": [
      "\u001b[0;31m---------------------------------------------------------------------------\u001b[0m",
      "\u001b[0;31mNameError\u001b[0m                                 Traceback (most recent call last)",
      "\u001b[0;32m<ipython-input-63-a25041104b53>\u001b[0m in \u001b[0;36m<module>\u001b[0;34m\u001b[0m\n\u001b[0;32m----> 1\u001b[0;31m \u001b[0mmy_list\u001b[0m \u001b[0;34m=\u001b[0m \u001b[0;34m[\u001b[0m\u001b[0mdo_some_stuff\u001b[0m\u001b[0;34m(\u001b[0m\u001b[0msymbol\u001b[0m\u001b[0;34m)\u001b[0m \u001b[0;32mfor\u001b[0m \u001b[0msymbol\u001b[0m \u001b[0;32min\u001b[0m \u001b[0msymbol_list\u001b[0m\u001b[0;34m]\u001b[0m\u001b[0;34m\u001b[0m\u001b[0;34m\u001b[0m\u001b[0m\n\u001b[0m\u001b[1;32m      2\u001b[0m \u001b[0mmy_list\u001b[0m\u001b[0;34m\u001b[0m\u001b[0;34m\u001b[0m\u001b[0m\n",
      "\u001b[0;31mNameError\u001b[0m: name 'symbol_list' is not defined"
     ]
    }
   ],
   "source": [
    "my_list = [do_some_stuff(symbol) for symbol in symbol_list]\n",
    "my_list"
   ]
  },
  {
   "cell_type": "markdown",
   "metadata": {
    "colab_type": "text",
    "id": "xtnOWGs7qiv_"
   },
   "source": [
    "You might be wondering what kind of expression the `for` loop above is. It's a `for` loop, for sure, but the syntax seems *wrong*! But it's actually perfectly legal - this is known as **list comprehension**, which allows us to run the `for` loop and create a list of the results, *all at once*. Notice that `my_list` is a list of lists because the output of `do_some_stuff()` is itself a list that contains the symbol and the average `VolStat`. The more verbose equivalent of this list comprehension would be:"
   ]
  },
  {
   "cell_type": "code",
   "execution_count": 64,
   "metadata": {
    "colab": {
     "base_uri": "https://localhost:8080/",
     "height": 105
    },
    "colab_type": "code",
    "executionInfo": {
     "elapsed": 5373,
     "status": "ok",
     "timestamp": 1595517182206,
     "user": {
      "displayName": "Norman Rodriguez",
      "photoUrl": "https://lh3.googleusercontent.com/a-/AOh14GiXcbIxQ0CYzDTlPuMhfh4q4RrONoW5L_HFnRCh=s64",
      "userId": "01368312674772044880"
     },
     "user_tz": 300
    },
    "id": "iWu1lRrzskr8",
    "outputId": "6cdf3e56-ad54-4e07-fb7f-c6202772649b"
   },
   "outputs": [
    {
     "ename": "NameError",
     "evalue": "name 'symbol_list' is not defined",
     "output_type": "error",
     "traceback": [
      "\u001b[0;31m---------------------------------------------------------------------------\u001b[0m",
      "\u001b[0;31mNameError\u001b[0m                                 Traceback (most recent call last)",
      "\u001b[0;32m<ipython-input-64-0e949654425f>\u001b[0m in \u001b[0;36m<module>\u001b[0;34m\u001b[0m\n\u001b[1;32m      1\u001b[0m \u001b[0mmy_list\u001b[0m \u001b[0;34m=\u001b[0m \u001b[0;34m[\u001b[0m\u001b[0;34m]\u001b[0m \u001b[0;31m# We create an empty list\u001b[0m\u001b[0;34m\u001b[0m\u001b[0;34m\u001b[0m\u001b[0m\n\u001b[0;32m----> 2\u001b[0;31m \u001b[0;32mfor\u001b[0m \u001b[0msymbol\u001b[0m \u001b[0;32min\u001b[0m \u001b[0msymbol_list\u001b[0m\u001b[0;34m:\u001b[0m\u001b[0;34m\u001b[0m\u001b[0;34m\u001b[0m\u001b[0m\n\u001b[0m\u001b[1;32m      3\u001b[0m     \u001b[0mmy_list\u001b[0m\u001b[0;34m.\u001b[0m\u001b[0mappend\u001b[0m\u001b[0;34m(\u001b[0m\u001b[0mdo_some_stuff\u001b[0m\u001b[0;34m(\u001b[0m\u001b[0msymbol\u001b[0m\u001b[0;34m)\u001b[0m\u001b[0;34m)\u001b[0m \u001b[0;31m# We execute the custom function and iteratively append its result to our list\u001b[0m\u001b[0;34m\u001b[0m\u001b[0;34m\u001b[0m\u001b[0m\n\u001b[1;32m      4\u001b[0m \u001b[0;34m\u001b[0m\u001b[0m\n\u001b[1;32m      5\u001b[0m \u001b[0mmy_list\u001b[0m\u001b[0;34m\u001b[0m\u001b[0;34m\u001b[0m\u001b[0m\n",
      "\u001b[0;31mNameError\u001b[0m: name 'symbol_list' is not defined"
     ]
    }
   ],
   "source": [
    "my_list = [] # We create an empty list\n",
    "for symbol in symbol_list:\n",
    "    my_list.append(do_some_stuff(symbol)) # We execute the custom function and iteratively append its result to our list\n",
    "\n",
    "my_list"
   ]
  },
  {
   "cell_type": "markdown",
   "metadata": {
    "colab_type": "text",
    "id": "O9EpZ12ItTeC"
   },
   "source": [
    "The syntax for a list comprehension is always `[expression for item in list]`, as explained [here](https://www.programiz.com/python-programming/list-comprehension). In our example, the expression was the function `do_some_stuff`, the item was `symbol` and the original list was `symbol_list`."
   ]
  },
  {
   "cell_type": "markdown",
   "metadata": {
    "colab_type": "text",
    "id": "axleSiIGtyGj"
   },
   "source": [
    "You can use list comprehension even if you don't want to define a custom function:"
   ]
  },
  {
   "cell_type": "code",
   "execution_count": null,
   "metadata": {
    "colab": {
     "base_uri": "https://localhost:8080/",
     "height": 105
    },
    "colab_type": "code",
    "executionInfo": {
     "elapsed": 5342,
     "status": "ok",
     "timestamp": 1595517182208,
     "user": {
      "displayName": "Norman Rodriguez",
      "photoUrl": "https://lh3.googleusercontent.com/a-/AOh14GiXcbIxQ0CYzDTlPuMhfh4q4RrONoW5L_HFnRCh=s64",
      "userId": "01368312674772044880"
     },
     "user_tz": 300
    },
    "id": "NxOb-StUuHRZ",
    "outputId": "2d1422d0-dc39-4b1a-9922-aecc20d450e3"
   },
   "outputs": [],
   "source": [
    "my_list = [\"This is a nice stock >>> \" + symbol for symbol in symbol_list]\n",
    "my_list"
   ]
  },
  {
   "cell_type": "markdown",
   "metadata": {
    "colab_type": "text",
    "id": "zPZF-rYTvcZi",
    "tags": [
     "3_min"
    ]
   },
   "source": [
    "### Question:\n",
    "\n",
    "How would you code a list comprehension to create a list that is an exact copy of `symbol_list`?"
   ]
  },
  {
   "cell_type": "markdown",
   "metadata": {
    "colab_type": "text",
    "id": "gqnGg_gkmW7u",
    "tags": [
     "20_min"
    ]
   },
   "source": [
    "## Analyzing each stock's volatility levels"
   ]
  },
  {
   "cell_type": "markdown",
   "metadata": {
    "colab_type": "text",
    "collapsed": true,
    "id": "P9GyhXB2mW7w"
   },
   "source": [
    "```pandas``` offers the ability to group related rows of DataFrames according to the values of other rows. This useful feature is accomplished using the **[groupby()](https://pandas.pydata.org/pandas-docs/stable/reference/api/pandas.DataFrame.groupby.html)** method.  Let's take a look and see how this can be used to group rows so that each group corresponds to a single stock symbol:"
   ]
  },
  {
   "cell_type": "code",
   "execution_count": 65,
   "metadata": {
    "colab": {
     "base_uri": "https://localhost:8080/",
     "height": 34
    },
    "colab_type": "code",
    "executionInfo": {
     "elapsed": 5302,
     "status": "ok",
     "timestamp": 1595517182210,
     "user": {
      "displayName": "Norman Rodriguez",
      "photoUrl": "https://lh3.googleusercontent.com/a-/AOh14GiXcbIxQ0CYzDTlPuMhfh4q4RrONoW5L_HFnRCh=s64",
      "userId": "01368312674772044880"
     },
     "user_tz": 300
    },
    "id": "G7_uCqC6mW7y",
    "outputId": "e1f5ce4d-6934-4cb6-ead0-7dcf866808d5"
   },
   "outputs": [
    {
     "data": {
      "text/plain": [
       "<pandas.core.groupby.groupby.DataFrameGroupBy object at 0x7f0088f4ba90>"
      ]
     },
     "execution_count": 65,
     "metadata": {},
     "output_type": "execute_result"
    }
   ],
   "source": [
    "# Use the groupby() method, notice a DataFrameGroupBy object is returned\n",
    "agg_df.groupby('Symbol')"
   ]
  },
  {
   "cell_type": "markdown",
   "metadata": {
    "colab_type": "text",
    "collapsed": true,
    "id": "LNaBLJxQmW77"
   },
   "source": [
    "Here, the ```DataFrameGroupBy``` object can be most readily thought of as containing a DataFrame object for every group (in this case, a DataFrame object for each symbol). Specifically, each item of the object is a tuple, containing the group identifier (in this case the `Symbol`), and the corresponding rows of the DataFrame that have that `Symbol`). You can think of the `groupby()` as a `for` loop through the values of a user-specified column and, in each iteration, extracts only those DataFrame rows that match that value in the specified column. The below diagram visualizes a `groupby()` operation over the column `foo`. Since there are only two values in `foo` (`one` and `two`), there are only two resulting groups:\n",
    "\n",
    "<img src=\"data/images/groupby.jpg\" alt=\"Groupby\" style=\"width: 500px;\"/>\n",
    "\n",
    "Source: Modified from [Pandas docs](https://pandas.pydata.org/pandas-docs/stable/user_guide/reshaping.html).\n",
    "\n",
    "With ```pandas``` you can iterate over the `groupby()` object to see what's inside:"
   ]
  },
  {
   "cell_type": "code",
   "execution_count": 66,
   "metadata": {
    "colab": {
     "base_uri": "https://localhost:8080/",
     "height": 815
    },
    "colab_type": "code",
    "executionInfo": {
     "elapsed": 5257,
     "status": "ok",
     "timestamp": 1595517182212,
     "user": {
      "displayName": "Norman Rodriguez",
      "photoUrl": "https://lh3.googleusercontent.com/a-/AOh14GiXcbIxQ0CYzDTlPuMhfh4q4RrONoW5L_HFnRCh=s64",
      "userId": "01368312674772044880"
     },
     "user_tz": 300
    },
    "id": "SJIItgL2mW78",
    "outputId": "f0dc5b83-b24f-4d43-a319-b7113174b240",
    "scrolled": true
   },
   "outputs": [
    {
     "data": {
      "text/plain": [
       "[['D',\n",
       "           Date       Open       High        Low      Close  Adj Close   Volume  \\\n",
       "  0  2014-07-28  69.750000  71.059998  69.750000  70.879997  57.963978  1806400   \n",
       "  1  2014-07-29  70.669998  70.980003  69.930000  69.930000  57.187099  2231100   \n",
       "  2  2014-07-30  70.000000  70.660004  68.400002  68.970001  56.402020  2588900   \n",
       "  3  2014-07-31  68.629997  68.849998  67.580002  67.639999  55.314388  3266900   \n",
       "  4  2014-08-01  67.330002  68.410004  67.220001  67.589996  55.273487  2601800   \n",
       "  \n",
       "    Symbol  Volume_Millions   VolStat    Return  \n",
       "  0      D           1.8064  0.018781       NaN  \n",
       "  1      D           2.2311  0.014858 -0.013403  \n",
       "  2      D           2.5889  0.032286 -0.013728  \n",
       "  3      D           3.2669  0.018505 -0.019284  \n",
       "  4      D           2.6018  0.017674 -0.000739  ],\n",
       " ['DUK',\n",
       "           Date       Open       High        Low      Close  Adj Close   Volume  \\\n",
       "  0  2014-07-28  73.309998  74.480003  73.230003  74.389999  59.266285  3281100   \n",
       "  1  2014-07-29  74.400002  74.480003  73.760002  73.980003  58.939648  2236300   \n",
       "  2  2014-07-30  74.029999  74.199997  72.580002  73.050003  58.198696  2782200   \n",
       "  3  2014-07-31  72.610001  73.099998  72.059998  72.129997  57.465740  3249000   \n",
       "  4  2014-08-01  72.239998  73.370003  72.150002  72.940002  58.111061  3960200   \n",
       "  \n",
       "    Symbol  Volume_Millions   VolStat    Return  \n",
       "  0    DUK           3.2811  0.017051  0.334589  \n",
       "  1    DUK           2.2363  0.009677 -0.005511  \n",
       "  2    DUK           2.7822  0.021883 -0.012571  \n",
       "  3    DUK           3.2490  0.014323 -0.012594  \n",
       "  4    DUK           3.9602  0.016888  0.011230  ],\n",
       " ['EXC',\n",
       "           Date       Open       High        Low      Close  Adj Close   Volume  \\\n",
       "  0  2014-07-28  31.410000  32.130001  31.379999  31.950001  26.442406  5683400   \n",
       "  1  2014-07-29  31.940001  32.049999  31.430000  31.469999  26.045147  6292800   \n",
       "  2  2014-07-30  31.629999  31.660000  30.850000  31.010000  25.664442  7976600   \n",
       "  3  2014-07-31  30.930000  31.490000  30.799999  31.080000  25.722378  9236100   \n",
       "  4  2014-08-01  31.139999  32.080002  31.100000  31.540001  26.103081  9734300   \n",
       "  \n",
       "    Symbol  Volume_Millions   VolStat    Return  \n",
       "  0    EXC           5.6834  0.023878 -0.574850  \n",
       "  1    EXC           6.2928  0.019411 -0.015024  \n",
       "  2    EXC           7.9766  0.025609 -0.014617  \n",
       "  3    EXC           9.2361  0.022308  0.002257  \n",
       "  4    EXC           9.7343  0.031471  0.014801  ],\n",
       " ['NEE',\n",
       "           Date       Open       High        Low      Close  Adj Close   Volume  \\\n",
       "  0  2014-07-28  98.470001  99.760002  98.099998  99.580002  85.106087  1643000   \n",
       "  1  2014-07-29  99.029999  99.389999  97.300003  98.400002  84.097595  1942500   \n",
       "  2  2014-07-30  98.160004  98.500000  95.760002  96.339996  82.337006  2844100   \n",
       "  3  2014-07-31  95.639999  95.980003  93.800003  93.889999  80.243126  2725200   \n",
       "  4  2014-08-01  93.500000  94.919998  93.279999  93.820000  80.183289  2514400   \n",
       "  \n",
       "    Symbol  Volume_Millions   VolStat    Return  \n",
       "  0    NEE           1.6430  0.016858  1.173287  \n",
       "  1    NEE           1.9425  0.021105 -0.011850  \n",
       "  2    NEE           2.8441  0.027914 -0.020935  \n",
       "  3    NEE           2.7252  0.022794 -0.025431  \n",
       "  4    NEE           2.5144  0.017540 -0.000746  ],\n",
       " ['SO',\n",
       "           Date       Open       High        Low      Close  Adj Close   Volume  \\\n",
       "  0  2014-07-28  44.619999  45.430000  44.619999  45.360001  35.349178  5568900   \n",
       "  1  2014-07-29  45.470001  45.470001  44.669998  44.860001  34.959522  5499600   \n",
       "  2  2014-07-30  45.000000  45.000000  44.009998  44.380001  34.585461  6945200   \n",
       "  3  2014-07-31  43.889999  43.889999  43.220001  43.290001  34.139881  5675300   \n",
       "  4  2014-08-01  43.340000  43.830002  43.250000  43.320000  34.163548  4193700   \n",
       "  \n",
       "    Symbol  Volume_Millions   VolStat    Return  \n",
       "  0     SO           5.5689  0.018153 -0.783143  \n",
       "  1     SO           5.4996  0.017594 -0.011023  \n",
       "  2     SO           6.9452  0.022000 -0.010700  \n",
       "  3     SO           5.6753  0.015265 -0.024561  \n",
       "  4     SO           4.1937  0.013383  0.000693  ]]"
      ]
     },
     "execution_count": 66,
     "metadata": {},
     "output_type": "execute_result"
    }
   ],
   "source": [
    "grp_obj = agg_df.groupby(\"Symbol\")  # Group data in agg_df by Symbol\n",
    "\n",
    "# Define a function\n",
    "def show_me_your_contents(group):\n",
    "    symbol = group[0] # group[0] is the symbol\n",
    "    head_of_df = group[1].head() # group[1].head() is the DataFrame (only the head)\n",
    "    return [symbol, head_of_df]\n",
    "\n",
    "# Loop through groups\n",
    "\n",
    "[ show_me_your_contents(group) for group in grp_obj ] # Using list comprehension\n"
   ]
  },
  {
   "cell_type": "markdown",
   "metadata": {
    "colab_type": "text",
    "id": "QgbYcD9_mW8F"
   },
   "source": [
    "Let's combine the ```pd.groupby()``` method with the ```describe()``` method and apply it to each symbol to analyze the distribution of volatility related features for each symbol."
   ]
  },
  {
   "cell_type": "code",
   "execution_count": 67,
   "metadata": {
    "colab": {
     "base_uri": "https://localhost:8080/",
     "height": 904
    },
    "colab_type": "code",
    "executionInfo": {
     "elapsed": 5220,
     "status": "ok",
     "timestamp": 1595517182215,
     "user": {
      "displayName": "Norman Rodriguez",
      "photoUrl": "https://lh3.googleusercontent.com/a-/AOh14GiXcbIxQ0CYzDTlPuMhfh4q4RrONoW5L_HFnRCh=s64",
      "userId": "01368312674772044880"
     },
     "user_tz": 300
    },
    "id": "7gniBDocmW8K",
    "outputId": "f50c2cde-8f87-47dc-c0d8-0408dd8c7344",
    "scrolled": true
   },
   "outputs": [
    {
     "name": "stdout",
     "output_type": "stream",
     "text": [
      "------Symbol:  D\n",
      "           VolStat\n",
      "count  1259.000000\n",
      "mean      0.014836\n",
      "std       0.006548\n",
      "min       0.003640\n",
      "25%       0.010246\n",
      "50%       0.013528\n",
      "75%       0.017920\n",
      "max       0.062350\n",
      "------Symbol:  DUK\n",
      "           VolStat\n",
      "count  1259.000000\n",
      "mean      0.014534\n",
      "std       0.007047\n",
      "min       0.003548\n",
      "25%       0.010075\n",
      "50%       0.012922\n",
      "75%       0.017653\n",
      "max       0.117492\n",
      "------Symbol:  EXC\n",
      "           VolStat\n",
      "count  1259.000000\n",
      "mean      0.017722\n",
      "std       0.008129\n",
      "min       0.005230\n",
      "25%       0.011868\n",
      "50%       0.015931\n",
      "75%       0.021752\n",
      "max       0.093156\n",
      "------Symbol:  NEE\n",
      "           VolStat\n",
      "count  1259.000000\n",
      "mean      0.014881\n",
      "std       0.006544\n",
      "min       0.004454\n",
      "25%       0.010309\n",
      "50%       0.013439\n",
      "75%       0.017700\n",
      "max       0.048495\n",
      "------Symbol:  SO\n",
      "           VolStat\n",
      "count  1259.000000\n",
      "mean      0.014065\n",
      "std       0.006109\n",
      "min       0.003960\n",
      "25%       0.009786\n",
      "50%       0.012858\n",
      "75%       0.016865\n",
      "max       0.051847\n"
     ]
    }
   ],
   "source": [
    "grp_obj = agg_df.groupby(\"Symbol\")  # Group data in agg_df by Symbol\n",
    "\n",
    "# Loop through groups\n",
    "for group in grp_obj:\n",
    "    print(\"------Symbol: \", group[0])\n",
    "    grp_df = group[1]\n",
    "    relevant_df = grp_df[[\"VolStat\"]]\n",
    "    print(relevant_df.describe())"
   ]
  },
  {
   "cell_type": "markdown",
   "metadata": {
    "colab_type": "text",
    "id": "TsPCHW78mW8X"
   },
   "source": [
    "One immediate observation of note is that the volatility level on any given day can vary widely. This is evident from the wide spread between the minimum and maximum ```VolStat``` levels seen using the ```describe()``` method. For example, stock symbol D has a minimum ```VolStat``` value of 0.003640, while its maximum ```VolStat``` value is 0.062350. That's more than a 10x increase in the value of ```VolStat```!\n",
    "\n",
    "While this is great to see, there is a more powerful way to display this data in `pandas`. We can call the ```describe()``` method directly on the ```DataFrameGroupBy``` object. This one line allows you to avoid having to write a `for` loop every time you'd like to summarize data:"
   ]
  },
  {
   "cell_type": "code",
   "execution_count": 68,
   "metadata": {
    "colab": {
     "base_uri": "https://localhost:8080/",
     "height": 257
    },
    "colab_type": "code",
    "executionInfo": {
     "elapsed": 5364,
     "status": "ok",
     "timestamp": 1595517182417,
     "user": {
      "displayName": "Norman Rodriguez",
      "photoUrl": "https://lh3.googleusercontent.com/a-/AOh14GiXcbIxQ0CYzDTlPuMhfh4q4RrONoW5L_HFnRCh=s64",
      "userId": "01368312674772044880"
     },
     "user_tz": 300
    },
    "id": "c1tKnjT2mW8a",
    "outputId": "54b87360-4f59-4ad5-aae3-34e22ab1a657",
    "scrolled": true
   },
   "outputs": [
    {
     "data": {
      "text/html": [
       "<div>\n",
       "<style scoped>\n",
       "    .dataframe tbody tr th:only-of-type {\n",
       "        vertical-align: middle;\n",
       "    }\n",
       "\n",
       "    .dataframe tbody tr th {\n",
       "        vertical-align: top;\n",
       "    }\n",
       "\n",
       "    .dataframe thead tr th {\n",
       "        text-align: left;\n",
       "    }\n",
       "\n",
       "    .dataframe thead tr:last-of-type th {\n",
       "        text-align: right;\n",
       "    }\n",
       "</style>\n",
       "<table border=\"1\" class=\"dataframe\">\n",
       "  <thead>\n",
       "    <tr>\n",
       "      <th></th>\n",
       "      <th colspan=\"8\" halign=\"left\">VolStat</th>\n",
       "    </tr>\n",
       "    <tr>\n",
       "      <th></th>\n",
       "      <th>count</th>\n",
       "      <th>mean</th>\n",
       "      <th>std</th>\n",
       "      <th>min</th>\n",
       "      <th>25%</th>\n",
       "      <th>50%</th>\n",
       "      <th>75%</th>\n",
       "      <th>max</th>\n",
       "    </tr>\n",
       "    <tr>\n",
       "      <th>Symbol</th>\n",
       "      <th></th>\n",
       "      <th></th>\n",
       "      <th></th>\n",
       "      <th></th>\n",
       "      <th></th>\n",
       "      <th></th>\n",
       "      <th></th>\n",
       "      <th></th>\n",
       "    </tr>\n",
       "  </thead>\n",
       "  <tbody>\n",
       "    <tr>\n",
       "      <th>D</th>\n",
       "      <td>1259.0</td>\n",
       "      <td>0.014836</td>\n",
       "      <td>0.006548</td>\n",
       "      <td>0.003640</td>\n",
       "      <td>0.010246</td>\n",
       "      <td>0.013528</td>\n",
       "      <td>0.017920</td>\n",
       "      <td>0.062350</td>\n",
       "    </tr>\n",
       "    <tr>\n",
       "      <th>DUK</th>\n",
       "      <td>1259.0</td>\n",
       "      <td>0.014534</td>\n",
       "      <td>0.007047</td>\n",
       "      <td>0.003548</td>\n",
       "      <td>0.010075</td>\n",
       "      <td>0.012922</td>\n",
       "      <td>0.017653</td>\n",
       "      <td>0.117492</td>\n",
       "    </tr>\n",
       "    <tr>\n",
       "      <th>EXC</th>\n",
       "      <td>1259.0</td>\n",
       "      <td>0.017722</td>\n",
       "      <td>0.008129</td>\n",
       "      <td>0.005230</td>\n",
       "      <td>0.011868</td>\n",
       "      <td>0.015931</td>\n",
       "      <td>0.021752</td>\n",
       "      <td>0.093156</td>\n",
       "    </tr>\n",
       "    <tr>\n",
       "      <th>NEE</th>\n",
       "      <td>1259.0</td>\n",
       "      <td>0.014881</td>\n",
       "      <td>0.006544</td>\n",
       "      <td>0.004454</td>\n",
       "      <td>0.010309</td>\n",
       "      <td>0.013439</td>\n",
       "      <td>0.017700</td>\n",
       "      <td>0.048495</td>\n",
       "    </tr>\n",
       "    <tr>\n",
       "      <th>SO</th>\n",
       "      <td>1259.0</td>\n",
       "      <td>0.014065</td>\n",
       "      <td>0.006109</td>\n",
       "      <td>0.003960</td>\n",
       "      <td>0.009786</td>\n",
       "      <td>0.012858</td>\n",
       "      <td>0.016865</td>\n",
       "      <td>0.051847</td>\n",
       "    </tr>\n",
       "  </tbody>\n",
       "</table>\n",
       "</div>"
      ],
      "text/plain": [
       "       VolStat                                                              \\\n",
       "         count      mean       std       min       25%       50%       75%   \n",
       "Symbol                                                                       \n",
       "D       1259.0  0.014836  0.006548  0.003640  0.010246  0.013528  0.017920   \n",
       "DUK     1259.0  0.014534  0.007047  0.003548  0.010075  0.012922  0.017653   \n",
       "EXC     1259.0  0.017722  0.008129  0.005230  0.011868  0.015931  0.021752   \n",
       "NEE     1259.0  0.014881  0.006544  0.004454  0.010309  0.013439  0.017700   \n",
       "SO      1259.0  0.014065  0.006109  0.003960  0.009786  0.012858  0.016865   \n",
       "\n",
       "                  \n",
       "             max  \n",
       "Symbol            \n",
       "D       0.062350  \n",
       "DUK     0.117492  \n",
       "EXC     0.093156  \n",
       "NEE     0.048495  \n",
       "SO      0.051847  "
      ]
     },
     "execution_count": 68,
     "metadata": {},
     "output_type": "execute_result"
    }
   ],
   "source": [
    "# VolStat\n",
    "agg_df[[\"Symbol\", \"VolStat\"]].groupby(\"Symbol\").describe()"
   ]
  },
  {
   "cell_type": "markdown",
   "metadata": {
    "colab_type": "text",
    "id": "zVXKQZ_emW8v"
   },
   "source": [
    "This data is identical to the data previously outputted using the `for` loop approach. The difference is that utilizing the features of the ```DataFrameGroupBy``` object allows for easy coding, fast results, and a clean output. This illustrates the power of using the ```pd.groupby()``` method: generating statistics for groups of interest in your data is straightforward and efficient to code.\n",
    "\n",
    "You'll notice this pattern a lot as you gain more familiarity with Python and data analysis. There are many ways to solve a problem, but often one way is substantially more efficient, both in terms of run time and in terms of lines of code."
   ]
  },
  {
   "cell_type": "markdown",
   "metadata": {
    "colab_type": "text",
    "id": "_U4XD2e3mW82",
    "tags": [
     "3_min"
    ]
   },
   "source": [
    "### Exercise 5:\n",
    "\n",
    "What are some insights you can draw from the ```VolStat``` summary statistics in terms of volatility levels?"
   ]
  },
  {
   "cell_type": "markdown",
   "metadata": {
    "tags": [
     "ans_st"
    ]
   },
   "source": [
    "**Answer.**"
   ]
  },
  {
   "cell_type": "markdown",
   "metadata": {},
   "source": [
    "-------"
   ]
  },
  {
   "cell_type": "markdown",
   "metadata": {
    "colab_type": "text",
    "id": "-ooyJ9jHmW84",
    "tags": [
     "6_min"
    ]
   },
   "source": [
    "### Exercise 6:\n",
    "\n",
    "Using ```agg_df```, write a script to determine the mean value of ```VolStat``` for each symbol by year.\n",
    "\n",
    "**Hint:** Remember that the year can be taken from the `Date` column via `date_string[0:4]`; that is, the first four characters of the `Date` string (if you need a refresher on string slicing in Python, you can check out [this article](https://www.digitalocean.com/community/tutorials/how-to-index-and-slice-strings-in-python-3))."
   ]
  },
  {
   "cell_type": "markdown",
   "metadata": {
    "colab_type": "text",
    "id": "Ni_zyrmHmW88",
    "tags": [
     "ans_st"
    ]
   },
   "source": [
    "**Answer.**"
   ]
  },
  {
   "cell_type": "markdown",
   "metadata": {},
   "source": [
    "-------"
   ]
  },
  {
   "cell_type": "markdown",
   "metadata": {
    "colab_type": "text",
    "id": "Sg7dwOwAmW9K",
    "tags": [
     "7_min"
    ]
   },
   "source": [
    "## Labelling data points as high or low volatility"
   ]
  },
  {
   "cell_type": "markdown",
   "metadata": {
    "colab_type": "text",
    "id": "g4Zul5dqmW9O"
   },
   "source": [
    "Now that we've determined that the volatility levels of each stock can vary widely, the next logical step is to group periods of high and low volatility so that we can then look at how volume differs between those time periods.\n",
    "\n",
    "However, we don't currently have a column that identifies when volatility is high and when it is low. Therefore, we must create a new column called ```VolLevel``` using some volatility threshold. For example, we'd like to have a new column value determined by:\n",
    "\n",
    "``` python\n",
    "if VolStat > threshold:\n",
    "    VolLevel = 'HIGH'\n",
    "else:\n",
    "    VolLevel = 'LOW'\n",
    "```\n",
    "\n",
    "Here we will define low volatility levels by any ```VolStat``` below the 50th percentile (i.e. below the median). Each percentile value must be calculated by symbol to ensure that each symbol is individually analyzed.\n",
    "\n",
    "Let's take a look how we can accomplish this task using ```groupby()``` functionality and the ```quantile()``` method, which returns the percentile for a given series of data:"
   ]
  },
  {
   "cell_type": "code",
   "execution_count": 69,
   "metadata": {
    "colab": {
     "base_uri": "https://localhost:8080/",
     "height": 140
    },
    "colab_type": "code",
    "executionInfo": {
     "elapsed": 5303,
     "status": "ok",
     "timestamp": 1595517182423,
     "user": {
      "displayName": "Norman Rodriguez",
      "photoUrl": "https://lh3.googleusercontent.com/a-/AOh14GiXcbIxQ0CYzDTlPuMhfh4q4RrONoW5L_HFnRCh=s64",
      "userId": "01368312674772044880"
     },
     "user_tz": 300
    },
    "id": "lxICnI04mW9Q",
    "outputId": "d2f31b3f-1a7d-464c-9175-ac88d2ba8b57"
   },
   "outputs": [
    {
     "name": "stdout",
     "output_type": "stream",
     "text": [
      "Symbol\n",
      "D      0.013528\n",
      "DUK    0.012922\n",
      "EXC    0.015931\n",
      "NEE    0.013439\n",
      "SO     0.012858\n",
      "Name: VolStat, dtype: float64\n"
     ]
    }
   ],
   "source": [
    "# Determine lower thresholds for volatility for each symbol\n",
    "volstat_thresholds = agg_df.groupby(\"Symbol\")[\"VolStat\"].quantile(0.5)  # 50th percentile (median)\n",
    "print(volstat_thresholds)"
   ]
  },
  {
   "cell_type": "markdown",
   "metadata": {
    "colab_type": "text",
    "id": "Q3ZxWqV4mW9i"
   },
   "source": [
    "Since we'd like to label periods of high and low volatility by symbol, we will make use of the [np.where()](https://docs.scipy.org/doc/numpy/reference/generated/numpy.where.html) method in the ```numpy``` library. This method takes an input and checks a logical condition: if the condition is true, it will return its second argument, whereas if the condition is false, it will return its third argument. This is very similar to how Microsoft Excel's ```IFERROR()``` method works (helpful to think of it this way for those familiar with Excel). Let's loop through each symbol and label each day as either high or low volatility:"
   ]
  },
  {
   "cell_type": "code",
   "execution_count": 70,
   "metadata": {
    "colab": {
     "base_uri": "https://localhost:8080/",
     "height": 176
    },
    "colab_type": "code",
    "executionInfo": {
     "elapsed": 5277,
     "status": "ok",
     "timestamp": 1595517182425,
     "user": {
      "displayName": "Norman Rodriguez",
      "photoUrl": "https://lh3.googleusercontent.com/a-/AOh14GiXcbIxQ0CYzDTlPuMhfh4q4RrONoW5L_HFnRCh=s64",
      "userId": "01368312674772044880"
     },
     "user_tz": 300
    },
    "id": "agApx0TemW9m",
    "outputId": "050e30f3-53ab-4580-c275-1af6cd6ae97f"
   },
   "outputs": [
    {
     "name": "stdout",
     "output_type": "stream",
     "text": [
      "Defining stock symbols\n",
      " --- Loop over symbols --- \n",
      "Labelling Volatility regime for Symbol: D\n",
      "Labelling Volatility regime for Symbol: EXC\n",
      "Labelling Volatility regime for Symbol: NEE\n",
      "Labelling Volatility regime for Symbol: SO\n",
      "Labelling Volatility regime for Symbol: DUK\n",
      " --- Completed loop over symbols --- \n",
      "Aggregating data\n"
     ]
    }
   ],
   "source": [
    "# Loop through symbols\n",
    "print(\"Defining stock symbols\")\n",
    "list_of_symbols = [\"D\", \"EXC\", \"NEE\", \"SO\", \"DUK\"]\n",
    "list_of_df = []\n",
    "\n",
    "# Loop over all symbols\n",
    "print(\" --- Loop over symbols --- \")\n",
    "for i in symbol_data_to_load:\n",
    "    print(\"Labelling Volatility regime for Symbol: \" + i)\n",
    "    temp_df = agg_df[agg_df[\"Symbol\"] == i].copy()  # make a copy of the dataframe to ensure not affecting agg_df\n",
    "    volstat_t = volstat_thresholds.loc[i] # Extracting only the threshold we're interested in\n",
    "    temp_df[\"VolLevel\"] = np.where(temp_df[\"VolStat\"] < volstat_t, \"LOW\", \"HIGH\")  # Volatility regime label\n",
    "    list_of_df.append(temp_df)\n",
    "\n",
    "print(\" --- Completed loop over symbols --- \")\n",
    "\n",
    "print(\"Aggregating data\")\n",
    "labeled_df = pd.concat(list_of_df)"
   ]
  },
  {
   "cell_type": "code",
   "execution_count": 71,
   "metadata": {
    "colab": {
     "base_uri": "https://localhost:8080/",
     "height": 197
    },
    "colab_type": "code",
    "executionInfo": {
     "elapsed": 5560,
     "status": "ok",
     "timestamp": 1595517182733,
     "user": {
      "displayName": "Norman Rodriguez",
      "photoUrl": "https://lh3.googleusercontent.com/a-/AOh14GiXcbIxQ0CYzDTlPuMhfh4q4RrONoW5L_HFnRCh=s64",
      "userId": "01368312674772044880"
     },
     "user_tz": 300
    },
    "id": "XZ17crwLmW9w",
    "outputId": "57d6dbf8-1aa5-4d01-9264-ebeaa0aa44bd",
    "scrolled": true
   },
   "outputs": [
    {
     "data": {
      "text/html": [
       "<div>\n",
       "<style scoped>\n",
       "    .dataframe tbody tr th:only-of-type {\n",
       "        vertical-align: middle;\n",
       "    }\n",
       "\n",
       "    .dataframe tbody tr th {\n",
       "        vertical-align: top;\n",
       "    }\n",
       "\n",
       "    .dataframe thead th {\n",
       "        text-align: right;\n",
       "    }\n",
       "</style>\n",
       "<table border=\"1\" class=\"dataframe\">\n",
       "  <thead>\n",
       "    <tr style=\"text-align: right;\">\n",
       "      <th></th>\n",
       "      <th>Date</th>\n",
       "      <th>Open</th>\n",
       "      <th>High</th>\n",
       "      <th>Low</th>\n",
       "      <th>Close</th>\n",
       "      <th>Adj Close</th>\n",
       "      <th>Volume</th>\n",
       "      <th>Symbol</th>\n",
       "      <th>Volume_Millions</th>\n",
       "      <th>VolStat</th>\n",
       "      <th>Return</th>\n",
       "      <th>VolLevel</th>\n",
       "    </tr>\n",
       "  </thead>\n",
       "  <tbody>\n",
       "    <tr>\n",
       "      <th>0</th>\n",
       "      <td>2014-07-28</td>\n",
       "      <td>69.750000</td>\n",
       "      <td>71.059998</td>\n",
       "      <td>69.750000</td>\n",
       "      <td>70.879997</td>\n",
       "      <td>57.963978</td>\n",
       "      <td>1806400</td>\n",
       "      <td>D</td>\n",
       "      <td>1.8064</td>\n",
       "      <td>0.018781</td>\n",
       "      <td>NaN</td>\n",
       "      <td>HIGH</td>\n",
       "    </tr>\n",
       "    <tr>\n",
       "      <th>1</th>\n",
       "      <td>2014-07-29</td>\n",
       "      <td>70.669998</td>\n",
       "      <td>70.980003</td>\n",
       "      <td>69.930000</td>\n",
       "      <td>69.930000</td>\n",
       "      <td>57.187099</td>\n",
       "      <td>2231100</td>\n",
       "      <td>D</td>\n",
       "      <td>2.2311</td>\n",
       "      <td>0.014858</td>\n",
       "      <td>-0.013403</td>\n",
       "      <td>HIGH</td>\n",
       "    </tr>\n",
       "    <tr>\n",
       "      <th>2</th>\n",
       "      <td>2014-07-30</td>\n",
       "      <td>70.000000</td>\n",
       "      <td>70.660004</td>\n",
       "      <td>68.400002</td>\n",
       "      <td>68.970001</td>\n",
       "      <td>56.402020</td>\n",
       "      <td>2588900</td>\n",
       "      <td>D</td>\n",
       "      <td>2.5889</td>\n",
       "      <td>0.032286</td>\n",
       "      <td>-0.013728</td>\n",
       "      <td>HIGH</td>\n",
       "    </tr>\n",
       "    <tr>\n",
       "      <th>3</th>\n",
       "      <td>2014-07-31</td>\n",
       "      <td>68.629997</td>\n",
       "      <td>68.849998</td>\n",
       "      <td>67.580002</td>\n",
       "      <td>67.639999</td>\n",
       "      <td>55.314388</td>\n",
       "      <td>3266900</td>\n",
       "      <td>D</td>\n",
       "      <td>3.2669</td>\n",
       "      <td>0.018505</td>\n",
       "      <td>-0.019284</td>\n",
       "      <td>HIGH</td>\n",
       "    </tr>\n",
       "    <tr>\n",
       "      <th>4</th>\n",
       "      <td>2014-08-01</td>\n",
       "      <td>67.330002</td>\n",
       "      <td>68.410004</td>\n",
       "      <td>67.220001</td>\n",
       "      <td>67.589996</td>\n",
       "      <td>55.273487</td>\n",
       "      <td>2601800</td>\n",
       "      <td>D</td>\n",
       "      <td>2.6018</td>\n",
       "      <td>0.017674</td>\n",
       "      <td>-0.000739</td>\n",
       "      <td>HIGH</td>\n",
       "    </tr>\n",
       "  </tbody>\n",
       "</table>\n",
       "</div>"
      ],
      "text/plain": [
       "         Date       Open       High        Low      Close  Adj Close   Volume  \\\n",
       "0  2014-07-28  69.750000  71.059998  69.750000  70.879997  57.963978  1806400   \n",
       "1  2014-07-29  70.669998  70.980003  69.930000  69.930000  57.187099  2231100   \n",
       "2  2014-07-30  70.000000  70.660004  68.400002  68.970001  56.402020  2588900   \n",
       "3  2014-07-31  68.629997  68.849998  67.580002  67.639999  55.314388  3266900   \n",
       "4  2014-08-01  67.330002  68.410004  67.220001  67.589996  55.273487  2601800   \n",
       "\n",
       "  Symbol  Volume_Millions   VolStat    Return VolLevel  \n",
       "0      D           1.8064  0.018781       NaN     HIGH  \n",
       "1      D           2.2311  0.014858 -0.013403     HIGH  \n",
       "2      D           2.5889  0.032286 -0.013728     HIGH  \n",
       "3      D           3.2669  0.018505 -0.019284     HIGH  \n",
       "4      D           2.6018  0.017674 -0.000739     HIGH  "
      ]
     },
     "execution_count": 71,
     "metadata": {},
     "output_type": "execute_result"
    }
   ],
   "source": [
    "labeled_df.head()"
   ]
  },
  {
   "cell_type": "markdown",
   "metadata": {
    "colab_type": "text",
    "id": "c52TsCbymW99"
   },
   "source": [
    "We've now added a ```VolLevel``` column that identifies whether each symbol is in a period of high or low volatility on any given day. Since we know that the bank will require higher trading volume in order to transact in periods of high volatility, let's now take a look at the average daily traded volume for high volatility vs. low volatility days."
   ]
  },
  {
   "cell_type": "markdown",
   "metadata": {
    "colab_type": "text",
    "id": "ECeNb6NEmW9_",
    "tags": [
     "15_min"
    ]
   },
   "source": [
    "## Is daily trading volume affected by the level of volatility?"
   ]
  },
  {
   "cell_type": "markdown",
   "metadata": {
    "colab_type": "text",
    "id": "4SIsS0rvmW-A"
   },
   "source": [
    "To explore the relationship between volatility level and daily trading volume, let's group by ```VolLevel``` and take a look at the average ```Volume_Millions``` for the high and low volatility groups:"
   ]
  },
  {
   "cell_type": "code",
   "execution_count": 72,
   "metadata": {
    "colab": {
     "base_uri": "https://localhost:8080/",
     "height": 377
    },
    "colab_type": "code",
    "executionInfo": {
     "elapsed": 5536,
     "status": "ok",
     "timestamp": 1595517182735,
     "user": {
      "displayName": "Norman Rodriguez",
      "photoUrl": "https://lh3.googleusercontent.com/a-/AOh14GiXcbIxQ0CYzDTlPuMhfh4q4RrONoW5L_HFnRCh=s64",
      "userId": "01368312674772044880"
     },
     "user_tz": 300
    },
    "id": "2j0YlDzlmW-C",
    "outputId": "e9b540a5-a7f3-4323-b0d1-a64bd739154c",
    "scrolled": true
   },
   "outputs": [
    {
     "data": {
      "text/html": [
       "<div>\n",
       "<style scoped>\n",
       "    .dataframe tbody tr th:only-of-type {\n",
       "        vertical-align: middle;\n",
       "    }\n",
       "\n",
       "    .dataframe tbody tr th {\n",
       "        vertical-align: top;\n",
       "    }\n",
       "\n",
       "    .dataframe thead th {\n",
       "        text-align: right;\n",
       "    }\n",
       "</style>\n",
       "<table border=\"1\" class=\"dataframe\">\n",
       "  <thead>\n",
       "    <tr style=\"text-align: right;\">\n",
       "      <th></th>\n",
       "      <th></th>\n",
       "      <th>Volume_Millions</th>\n",
       "    </tr>\n",
       "    <tr>\n",
       "      <th>Symbol</th>\n",
       "      <th>VolLevel</th>\n",
       "      <th></th>\n",
       "    </tr>\n",
       "  </thead>\n",
       "  <tbody>\n",
       "    <tr>\n",
       "      <th rowspan=\"2\" valign=\"top\">D</th>\n",
       "      <th>HIGH</th>\n",
       "      <td>3.538901</td>\n",
       "    </tr>\n",
       "    <tr>\n",
       "      <th>LOW</th>\n",
       "      <td>2.636641</td>\n",
       "    </tr>\n",
       "    <tr>\n",
       "      <th rowspan=\"2\" valign=\"top\">DUK</th>\n",
       "      <th>HIGH</th>\n",
       "      <td>3.760172</td>\n",
       "    </tr>\n",
       "    <tr>\n",
       "      <th>LOW</th>\n",
       "      <td>2.825710</td>\n",
       "    </tr>\n",
       "    <tr>\n",
       "      <th rowspan=\"2\" valign=\"top\">EXC</th>\n",
       "      <th>HIGH</th>\n",
       "      <td>7.090384</td>\n",
       "    </tr>\n",
       "    <tr>\n",
       "      <th>LOW</th>\n",
       "      <td>5.031123</td>\n",
       "    </tr>\n",
       "    <tr>\n",
       "      <th rowspan=\"2\" valign=\"top\">NEE</th>\n",
       "      <th>HIGH</th>\n",
       "      <td>2.361096</td>\n",
       "    </tr>\n",
       "    <tr>\n",
       "      <th>LOW</th>\n",
       "      <td>1.707347</td>\n",
       "    </tr>\n",
       "    <tr>\n",
       "      <th rowspan=\"2\" valign=\"top\">SO</th>\n",
       "      <th>HIGH</th>\n",
       "      <td>6.148537</td>\n",
       "    </tr>\n",
       "    <tr>\n",
       "      <th>LOW</th>\n",
       "      <td>4.417179</td>\n",
       "    </tr>\n",
       "  </tbody>\n",
       "</table>\n",
       "</div>"
      ],
      "text/plain": [
       "                 Volume_Millions\n",
       "Symbol VolLevel                 \n",
       "D      HIGH             3.538901\n",
       "       LOW              2.636641\n",
       "DUK    HIGH             3.760172\n",
       "       LOW              2.825710\n",
       "EXC    HIGH             7.090384\n",
       "       LOW              5.031123\n",
       "NEE    HIGH             2.361096\n",
       "       LOW              1.707347\n",
       "SO     HIGH             6.148537\n",
       "       LOW              4.417179"
      ]
     },
     "execution_count": 72,
     "metadata": {},
     "output_type": "execute_result"
    }
   ],
   "source": [
    "labeled_df.groupby([\"Symbol\", \"VolLevel\"])[[\"Volume_Millions\"]].mean()"
   ]
  },
  {
   "cell_type": "markdown",
   "metadata": {
    "colab_type": "text",
    "id": "HW_IyR43mW-N",
    "tags": [
     "3_min"
    ]
   },
   "source": [
    "### Exercise 7:\n",
    "\n",
    "What is an immediate trend you notice regarding the volatility regimes?"
   ]
  },
  {
   "cell_type": "markdown",
   "metadata": {
    "tags": [
     "ans_st"
    ]
   },
   "source": [
    "**Answer.**"
   ]
  },
  {
   "cell_type": "markdown",
   "metadata": {},
   "source": [
    "-------"
   ]
  },
  {
   "cell_type": "markdown",
   "metadata": {
    "colab_type": "text",
    "id": "mEYQ0871mW-P",
    "tags": [
     "12_min"
    ]
   },
   "source": [
    "### Exercise 8:\n",
    "\n",
    "Write code to group time periods into low, medium, and high volatility regimes, where:\n",
    "\n",
    "``` python\n",
    "if VolStat > (75th percentile VolStat for given symbol):\n",
    "    VolLevel = 'HIGH'\n",
    "elif  VolStat > (25th percentile VolStat for given symbol):\n",
    "    VolLevel = 'MEDIUM'\n",
    "else:\n",
    "    VolLevel = 'LOW'\n",
    "```\n",
    "\n",
    "Output a ```final_df``` DataFrame output grouped by `Symbol`, showing the mean `Volume` for each `VolLevel` category."
   ]
  },
  {
   "cell_type": "markdown",
   "metadata": {
    "colab_type": "text",
    "id": "41GK3nddmW-Q",
    "tags": [
     "ans_st"
    ]
   },
   "source": [
    "**Answer.**"
   ]
  },
  {
   "cell_type": "markdown",
   "metadata": {},
   "source": [
    "-------"
   ]
  },
  {
   "cell_type": "markdown",
   "metadata": {
    "colab_type": "text",
    "id": "kLDw9uS6mW-g",
    "tags": [
     "45_min"
    ]
   },
   "source": [
    "## Graphing volatility across time"
   ]
  },
  {
   "cell_type": "markdown",
   "metadata": {
    "colab_type": "text",
    "id": "nlc3KAwPmW-i"
   },
   "source": [
    "We've now satisfactorily answered our original question. However, you don't need to just analyze data in tabular format. Python contains functionality to allow you to analyze your data visually as well.\n",
    "\n",
    "We will use ```pandas``` functionality built on the standard Python plotting library [matplotlib](https://matplotlib.org/). Let's import the library and instruct Jupyter to display the plots inline (i.e. display the plots to the notebook screen so we can see them as we run the code):"
   ]
  },
  {
   "cell_type": "code",
   "execution_count": 74,
   "metadata": {
    "colab": {},
    "colab_type": "code",
    "executionInfo": {
     "elapsed": 5513,
     "status": "ok",
     "timestamp": 1595517182742,
     "user": {
      "displayName": "Norman Rodriguez",
      "photoUrl": "https://lh3.googleusercontent.com/a-/AOh14GiXcbIxQ0CYzDTlPuMhfh4q4RrONoW5L_HFnRCh=s64",
      "userId": "01368312674772044880"
     },
     "user_tz": 300
    },
    "id": "DTKJyBcqmW-k"
   },
   "outputs": [],
   "source": [
    "# import fundamental plotting library in Python\n",
    "import matplotlib.pyplot as plt\n",
    "\n",
    "# Instruct jupyter to plot in the notebook\n",
    "%matplotlib inline"
   ]
  },
  {
   "cell_type": "markdown",
   "metadata": {
    "colab_type": "text",
    "id": "-EuSii_nmW-x"
   },
   "source": [
    "Before we plot, we need to convert the ```Date``` column in ```agg_df``` to a ```datetime```-like object, Python's internal data representation of dates. ```pandas``` offers the [to_datetime()](https://pandas.pydata.org/pandas-docs/stable/reference/api/pandas.to_datetime.html) method to convert a string that represents a given date format into a ```datetime```-like object. We instruct ```pandas``` to use ```format='%Y-%m-%d'```, since our dates are in this format, where %Y indicates the numerical year, %m indicates the numerical month and %d indicates the numerical day. If our dates were in another format, we'd modify this input value appropriately."
   ]
  },
  {
   "cell_type": "code",
   "execution_count": 75,
   "metadata": {
    "colab": {
     "base_uri": "https://localhost:8080/",
     "height": 227
    },
    "colab_type": "code",
    "executionInfo": {
     "elapsed": 5493,
     "status": "ok",
     "timestamp": 1595517182745,
     "user": {
      "displayName": "Norman Rodriguez",
      "photoUrl": "https://lh3.googleusercontent.com/a-/AOh14GiXcbIxQ0CYzDTlPuMhfh4q4RrONoW5L_HFnRCh=s64",
      "userId": "01368312674772044880"
     },
     "user_tz": 300
    },
    "id": "5__SxDMXmW-z",
    "outputId": "4a62439b-459b-4f34-eb31-d2c0fab88a91"
   },
   "outputs": [
    {
     "data": {
      "text/html": [
       "<div>\n",
       "<style scoped>\n",
       "    .dataframe tbody tr th:only-of-type {\n",
       "        vertical-align: middle;\n",
       "    }\n",
       "\n",
       "    .dataframe tbody tr th {\n",
       "        vertical-align: top;\n",
       "    }\n",
       "\n",
       "    .dataframe thead th {\n",
       "        text-align: right;\n",
       "    }\n",
       "</style>\n",
       "<table border=\"1\" class=\"dataframe\">\n",
       "  <thead>\n",
       "    <tr style=\"text-align: right;\">\n",
       "      <th></th>\n",
       "      <th>Date</th>\n",
       "      <th>Open</th>\n",
       "      <th>High</th>\n",
       "      <th>Low</th>\n",
       "      <th>Close</th>\n",
       "      <th>Adj Close</th>\n",
       "      <th>Volume</th>\n",
       "      <th>Symbol</th>\n",
       "      <th>Volume_Millions</th>\n",
       "      <th>VolStat</th>\n",
       "      <th>Return</th>\n",
       "    </tr>\n",
       "    <tr>\n",
       "      <th>DateTime</th>\n",
       "      <th></th>\n",
       "      <th></th>\n",
       "      <th></th>\n",
       "      <th></th>\n",
       "      <th></th>\n",
       "      <th></th>\n",
       "      <th></th>\n",
       "      <th></th>\n",
       "      <th></th>\n",
       "      <th></th>\n",
       "      <th></th>\n",
       "    </tr>\n",
       "  </thead>\n",
       "  <tbody>\n",
       "    <tr>\n",
       "      <th>2014-07-28</th>\n",
       "      <td>2014-07-28</td>\n",
       "      <td>69.750000</td>\n",
       "      <td>71.059998</td>\n",
       "      <td>69.750000</td>\n",
       "      <td>70.879997</td>\n",
       "      <td>57.963978</td>\n",
       "      <td>1806400</td>\n",
       "      <td>D</td>\n",
       "      <td>1.8064</td>\n",
       "      <td>0.018781</td>\n",
       "      <td>NaN</td>\n",
       "    </tr>\n",
       "    <tr>\n",
       "      <th>2014-07-29</th>\n",
       "      <td>2014-07-29</td>\n",
       "      <td>70.669998</td>\n",
       "      <td>70.980003</td>\n",
       "      <td>69.930000</td>\n",
       "      <td>69.930000</td>\n",
       "      <td>57.187099</td>\n",
       "      <td>2231100</td>\n",
       "      <td>D</td>\n",
       "      <td>2.2311</td>\n",
       "      <td>0.014858</td>\n",
       "      <td>-0.013403</td>\n",
       "    </tr>\n",
       "    <tr>\n",
       "      <th>2014-07-30</th>\n",
       "      <td>2014-07-30</td>\n",
       "      <td>70.000000</td>\n",
       "      <td>70.660004</td>\n",
       "      <td>68.400002</td>\n",
       "      <td>68.970001</td>\n",
       "      <td>56.402020</td>\n",
       "      <td>2588900</td>\n",
       "      <td>D</td>\n",
       "      <td>2.5889</td>\n",
       "      <td>0.032286</td>\n",
       "      <td>-0.013728</td>\n",
       "    </tr>\n",
       "    <tr>\n",
       "      <th>2014-07-31</th>\n",
       "      <td>2014-07-31</td>\n",
       "      <td>68.629997</td>\n",
       "      <td>68.849998</td>\n",
       "      <td>67.580002</td>\n",
       "      <td>67.639999</td>\n",
       "      <td>55.314388</td>\n",
       "      <td>3266900</td>\n",
       "      <td>D</td>\n",
       "      <td>3.2669</td>\n",
       "      <td>0.018505</td>\n",
       "      <td>-0.019284</td>\n",
       "    </tr>\n",
       "    <tr>\n",
       "      <th>2014-08-01</th>\n",
       "      <td>2014-08-01</td>\n",
       "      <td>67.330002</td>\n",
       "      <td>68.410004</td>\n",
       "      <td>67.220001</td>\n",
       "      <td>67.589996</td>\n",
       "      <td>55.273487</td>\n",
       "      <td>2601800</td>\n",
       "      <td>D</td>\n",
       "      <td>2.6018</td>\n",
       "      <td>0.017674</td>\n",
       "      <td>-0.000739</td>\n",
       "    </tr>\n",
       "  </tbody>\n",
       "</table>\n",
       "</div>"
      ],
      "text/plain": [
       "                  Date       Open       High        Low      Close  Adj Close  \\\n",
       "DateTime                                                                        \n",
       "2014-07-28  2014-07-28  69.750000  71.059998  69.750000  70.879997  57.963978   \n",
       "2014-07-29  2014-07-29  70.669998  70.980003  69.930000  69.930000  57.187099   \n",
       "2014-07-30  2014-07-30  70.000000  70.660004  68.400002  68.970001  56.402020   \n",
       "2014-07-31  2014-07-31  68.629997  68.849998  67.580002  67.639999  55.314388   \n",
       "2014-08-01  2014-08-01  67.330002  68.410004  67.220001  67.589996  55.273487   \n",
       "\n",
       "             Volume Symbol  Volume_Millions   VolStat    Return  \n",
       "DateTime                                                         \n",
       "2014-07-28  1806400      D           1.8064  0.018781       NaN  \n",
       "2014-07-29  2231100      D           2.2311  0.014858 -0.013403  \n",
       "2014-07-30  2588900      D           2.5889  0.032286 -0.013728  \n",
       "2014-07-31  3266900      D           3.2669  0.018505 -0.019284  \n",
       "2014-08-01  2601800      D           2.6018  0.017674 -0.000739  "
      ]
     },
     "execution_count": 75,
     "metadata": {},
     "output_type": "execute_result"
    }
   ],
   "source": [
    "# To convert a string to a datetime\n",
    "agg_df[\"DateTime\"] = pd.to_datetime(agg_df[\"Date\"], format=\"%Y-%m-%d\")\n",
    "\n",
    "# Set index as DateTime for plotting purposes\n",
    "agg_df = agg_df.set_index([\"DateTime\"])\n",
    "agg_df.head()"
   ]
  },
  {
   "cell_type": "markdown",
   "metadata": {
    "colab_type": "text",
    "id": "LgFu4TP_mW-9"
   },
   "source": [
    "Now we are ready to look directly at volatility across time. Let's group by symbols and plot the ```VolStat``` value across time. Each symbol's time series will be labelled a different color by default:"
   ]
  },
  {
   "cell_type": "code",
   "execution_count": 76,
   "metadata": {
    "colab": {
     "base_uri": "https://localhost:8080/",
     "height": 507
    },
    "colab_type": "code",
    "executionInfo": {
     "elapsed": 6243,
     "status": "ok",
     "timestamp": 1595517183525,
     "user": {
      "displayName": "Norman Rodriguez",
      "photoUrl": "https://lh3.googleusercontent.com/a-/AOh14GiXcbIxQ0CYzDTlPuMhfh4q4RrONoW5L_HFnRCh=s64",
      "userId": "01368312674772044880"
     },
     "user_tz": 300
    },
    "id": "VCOk5yLtmW-_",
    "outputId": "c1cc2312-29c4-4a5c-baea-e90027045604"
   },
   "outputs": [
    {
     "data": {
      "text/plain": [
       "Symbol\n",
       "D      AxesSubplot(0.125,0.2;0.775x0.68)\n",
       "DUK    AxesSubplot(0.125,0.2;0.775x0.68)\n",
       "EXC    AxesSubplot(0.125,0.2;0.775x0.68)\n",
       "NEE    AxesSubplot(0.125,0.2;0.775x0.68)\n",
       "SO     AxesSubplot(0.125,0.2;0.775x0.68)\n",
       "Name: VolStat, dtype: object"
      ]
     },
     "execution_count": 76,
     "metadata": {},
     "output_type": "execute_result"
    },
    {
     "data": {
      "image/png": "[encoded data removed]",
      "text/plain": [
       "<Figure size 1080x432 with 1 Axes>"
      ]
     },
     "metadata": {
      "needs_background": "light"
     },
     "output_type": "display_data"
    }
   ],
   "source": [
    "# Look at volatility regimes\n",
    "fig, ax = plt.subplots(figsize=(15, 6))\n",
    "agg_df.groupby(\"Symbol\")[\"VolStat\"].plot(\n",
    "    ax=ax, legend=True, title=\"Energy Sector Trends - VolStat\"\n",
    ")"
   ]
  },
  {
   "cell_type": "markdown",
   "metadata": {
    "colab_type": "text",
    "id": "Ga30D6WKmW_K"
   },
   "source": [
    "We notice that periods of high volatility tend to \"clump\" together; that is, periods of high volatility are not uniformly and randomly distributed across time, but tend to occur in highly concentrated bursts. This is an interesting insight that we could not gain by only looking at the data in tabular format. In future cases, you will dig deeper into the numerous graphing capabilities of Python and how to integrate them into your data science workflow."
   ]
  },
  {
   "cell_type": "markdown",
   "metadata": {
    "colab_type": "text",
    "id": "mWvlYrRymW_M",
    "tags": [
     "12_min"
    ]
   },
   "source": [
    "### Exercise 9:\n",
    "\n",
    "Write a script to find and print the month that has the highest average daily trading volume for each symbol. Also include the average volume value corresponding to that month. For example, symbol D has its highest average daily trading volume of 6.437 million in December 2018."
   ]
  },
  {
   "cell_type": "markdown",
   "metadata": {
    "colab_type": "text",
    "id": "2LSKda93mW_O",
    "tags": [
     "ans_st"
    ]
   },
   "source": [
    "**Answer.**"
   ]
  },
  {
   "cell_type": "markdown",
   "metadata": {},
   "source": [
    "-------"
   ]
  },
  {
   "cell_type": "markdown",
   "metadata": {
    "tags": [
     "10_min"
    ]
   },
   "source": [
    "### Exercise 10:\n",
    "\n",
    "We have so far looked at volatility grouped by stock symbol or by year and month. As our data covers several years, it's also interesting to group the data by calendar month, ignoring the year component (e.g. averaging together all Januarys). This allows us to see if some points of the year, on average, are more susceptible to volatile trading patterns.\n",
    "\n",
    "Group the data by month (ignoring the year), and identify :\n",
    "\n",
    "* The month with, on average, the highest volatility\n",
    "* The month with, on average, the lowest volatility\n",
    "* Any general patterns that you notice over the whole year"
   ]
  },
  {
   "cell_type": "markdown",
   "metadata": {
    "tags": [
     "ans_st"
    ]
   },
   "source": [
    "**Answer.**"
   ]
  },
  {
   "cell_type": "markdown",
   "metadata": {},
   "source": [
    "-------"
   ]
  },
  {
   "cell_type": "markdown",
   "metadata": {
    "colab_type": "text",
    "id": "ZCkQwdqimW_t",
    "tags": [
     "15_min"
    ]
   },
   "source": [
    "### Exercise 11:\n",
    "\n",
    "The final point that we're interested in is looking at the days where:\n",
    "\n",
    "* The return is high\n",
    "* Trading volume is low\n",
    "\n",
    "This indicates days where the price moved substantially but without much changing hands.\n",
    "\n",
    "The thresholds that we are interested in are:\n",
    "* Low volume: any day with a trading volume in the bottom 25th percentile\n",
    "* High return: any day where the return is in the opt 75th percentile\n",
    "\n",
    "Write the code necessary to:\n",
    "* Calculate and add a \"High/Low\" variable for Volume Level (low is below 25th percentile)\n",
    "* Calculate and add a \"High/Low\" variable for Return (high is above 75th percentile)\n",
    "\n",
    "Describe what you see in terms of:\n",
    "* How many rows fall into our \"low volume\" definition?\n",
    "* How many rows fall into our \"high return\" definition?\n",
    "* How many rows fall into the combination of high return with low volume definition?\n",
    "* What are the 10 rows with the highest return but with low volume? What do you notice about these trades?\n",
    "\n",
    "**Hint:** You can use the [sort_values()](https://pandas.pydata.org/pandas-docs/stable/reference/api/pandas.DataFrame.sort_values.html) method in `pandas` to sort a DataFrame by a specific column."
   ]
  },
  {
   "cell_type": "markdown",
   "metadata": {
    "colab_type": "text",
    "id": "GPdYuVb9mW_v",
    "tags": [
     "ans_st"
    ]
   },
   "source": [
    "**Answer.**"
   ]
  },
  {
   "cell_type": "markdown",
   "metadata": {},
   "source": [
    "-------"
   ]
  },
  {
   "cell_type": "markdown",
   "metadata": {
    "colab_type": "text",
    "id": "fRJpHnIEmW_-",
    "tags": [
     "3_min"
    ]
   },
   "source": [
    "## Conclusions"
   ]
  },
  {
   "cell_type": "markdown",
   "metadata": {
    "colab_type": "text",
    "collapsed": true,
    "id": "tfcr4ugLmW__"
   },
   "source": [
    "Having completed the analysis of the energy sector stock data, we have identified a number of interesting patterns relating volatility to trading volume. Specifically, we found that periods of high volatility also exhibit very high volume. This trend is consistent across all symbols.\n",
    "\n",
    "We also saw that each stock exhibited \"volatility clustering\" – periods of high volatility tend to be clumped together. Each of the stocks experienced high volatility at relatively similar times which suggests some broader market factor may be affecting the energy sector."
   ]
  },
  {
   "cell_type": "markdown",
   "metadata": {
    "colab_type": "text",
    "id": "x-KJAuwAmXAC",
    "tags": [
     "5_min"
    ]
   },
   "source": [
    "## Takeaways"
   ]
  },
  {
   "cell_type": "markdown",
   "metadata": {
    "colab_type": "text",
    "collapsed": true,
    "id": "QNho4Yn_mXAD"
   },
   "source": [
    "In this case, we've learned the foundations of the ```pandas``` library in Python. We now know how to:\n",
    "\n",
    "1. Read data from CSV files\n",
    "2. Aggregate and manipulate data using ```pandas```\n",
    "3. Analyze summary statistics and gather information from trends across time\n",
    "4. Use ```matplotlib``` to create plots for visual analysis\n",
    "\n",
    "Going forward, we will be consistently using ```pandas``` as a data analysis framework (along with other tools) to build more complex projects and solve critical business problems. It is critical you become as familiar with ```pandas``` as possible and it is imperative that you continue researching/investigating new components of this library after the completion of this program. What we have taught here are only the essential basics of `pandas`; there is still a vast amount of power to the library that you will discover and utilize later on in your development as a data professional.\n",
    "\n",
    "We highly recommend revisiting this case a few more times and going through it from beginning to end with no aid/answers. You should know the various DataFrame/Series methods we introduced here as well as how to carry out common operations on data, such as finding percentiles, before you consider yourself to have \"mastered\" this material."
   ]
  }
 ],
 "metadata": {
  "colab": {
   "collapsed_sections": [],
   "name": "case_1.2.ipynb",
   "provenance": []
  },
  "kernelspec": {
   "display_name": "Python 3",
   "language": "python",
   "name": "python3"
  },
  "language_info": {
   "codemirror_mode": {
    "name": "ipython",
    "version": 3
   },
   "file_extension": ".py",
   "mimetype": "text/x-python",
   "name": "python",
   "nbconvert_exporter": "python",
   "pygments_lexer": "ipython3",
   "version": "3.6.7"
  }
 },
 "nbformat": 4,
 "nbformat_minor": 1
}
