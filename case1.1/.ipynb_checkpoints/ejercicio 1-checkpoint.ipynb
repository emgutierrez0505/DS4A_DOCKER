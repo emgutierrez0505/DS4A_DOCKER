{
 "cells": [
  {
   "cell_type": "code",
   "execution_count": 2,
   "metadata": {},
   "outputs": [
    {
     "name": "stdout",
     "output_type": "stream",
     "text": [
      "4\n",
      "6\n",
      "1\n"
     ]
    }
   ],
   "source": [
    "# Initialize estimados_de_exito by everycountry\n",
    "estimados_de_exito = {\n",
    "'Australia': [0.6, 0.33, 0.11, 0.14],\n",
    "'France': [0.66, 0.78, 0.98, 0.2],\n",
    "'Italy': [0.6],\n",
    "'Brazil': [0.22, 0.22, 0.43],\n",
    "'USA': [0.2, 0.5, 0.3],\n",
    "'England': [0.45],\n",
    "'Canada': [0.25, 0.3],\n",
    "'Argentina': [0.22],\n",
    "'Greece': [0.45, 0.66, 0.75, 0.99, 0.15, 0.66],\n",
    "'Morocco': [0.29],\n",
    "'Tunisia': [0.68, 0.56],\n",
    "'Egypt': [0.99],\n",
    "'Jamaica': [0.61, 0.65, 0.71],\n",
    "'Switzerland': [0.73, 0.86, 0.84, 0.51, 0.99],\n",
    "'Germany': [0.45, 0.49, 0.36]\n",
    "}\n",
    "\n",
    "len_france = len(estimados_de_exito['France']);\n",
    "print (len_france)\n",
    "len_greece = len(estimados_de_exito['Greece']);\n",
    "print (len_greece)\n",
    "len_morocco = len(estimados_de_exito['Morocco']); \n",
    "print (len_morocco)    \n",
    "    "
   ]
  },
  {
   "cell_type": "code",
   "execution_count": null,
   "metadata": {},
   "outputs": [],
   "source": []
  }
 ],
 "metadata": {
  "kernelspec": {
   "display_name": "Python 3",
   "language": "python",
   "name": "python3"
  },
  "language_info": {
   "codemirror_mode": {
    "name": "ipython",
    "version": 3
   },
   "file_extension": ".py",
   "mimetype": "text/x-python",
   "name": "python",
   "nbconvert_exporter": "python",
   "pygments_lexer": "ipython3",
   "version": "3.6.7"
  }
 },
 "nbformat": 4,
 "nbformat_minor": 2
}
