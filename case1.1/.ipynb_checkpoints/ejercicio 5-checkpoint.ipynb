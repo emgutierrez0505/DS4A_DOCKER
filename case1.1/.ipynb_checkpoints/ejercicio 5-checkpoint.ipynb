{
 "cells": [
  {
   "cell_type": "code",
   "execution_count": 27,
   "metadata": {},
   "outputs": [
    {
     "name": "stdout",
     "output_type": "stream",
     "text": [
      "Pais:  Australia ( Rango de estimación:  0.49 )\n",
      "Pais:  France ( Rango de estimación:  0.78 )\n",
      "Pais:  Italy ( Rango de estimación:  0.0 )\n",
      "Pais:  Brazil ( Rango de estimación:  0.21 )\n",
      "Pais:  USA ( Rango de estimación:  0.3 )\n",
      "Pais:  England ( Rango de estimación:  0.0 )\n",
      "Pais:  Canada ( Rango de estimación:  0.04999999999999999 )\n",
      "Pais:  Argentina ( Rango de estimación:  0.0 )\n",
      "Pais:  Greece ( Rango de estimación:  0.84 )\n",
      "Pais:  Morocco ( Rango de estimación:  0.0 )\n",
      "Pais:  Tunisia ( Rango de estimación:  0.12 )\n",
      "Pais:  Egypt ( Rango de estimación:  0.0 )\n",
      "Pais:  Jamaica ( Rango de estimación:  0.09999999999999998 )\n",
      "Pais:  Switzerland ( Rango de estimación:  0.48 )\n",
      "Pais:  Germany ( Rango de estimación:  0.13 )\n",
      "\n",
      "El país con el máximo rango de estimación es:  Greece  con un rango de estimación de: 0.84\n"
     ]
    }
   ],
   "source": [
    "#Usando el bucle for, escriba el código para determinar el país con el mayor rango de estimaciones de éxito\n",
    "#(es decir, la mayor diferencia entre la estimación más pequeña y la más grande para un país).\n",
    "\n",
    "estimados_de_exito = {\n",
    "'Australia': [0.6, 0.33, 0.11, 0.14],\n",
    "'France': [0.66, 0.78, 0.98, 0.2],\n",
    "'Italy': [0.6],\n",
    "'Brazil': [0.22, 0.22, 0.43],\n",
    "'USA': [0.2, 0.5, 0.3],\n",
    "'England': [0.45],\n",
    "'Canada': [0.25, 0.3],\n",
    "'Argentina': [0.22],\n",
    "'Greece': [0.45, 0.66, 0.75, 0.99, 0.15, 0.66],\n",
    "'Morocco': [0.29],\n",
    "'Tunisia': [0.68, 0.56],\n",
    "'Egypt': [0.99],\n",
    "'Jamaica': [0.61, 0.65, 0.71],\n",
    "'Switzerland': [0.73, 0.86, 0.84, 0.51, 0.99],\n",
    "'Germany': [0.45, 0.49, 0.36]\n",
    "}\n",
    "\n",
    "rango_estimacion_por_pais = {\n",
    "    'Rangos':[0,0,0,0,0,0,0,0,0,0,0,0,0,0,0]\n",
    "}\n",
    "\n",
    "paises = list(estimados_de_exito.keys())\n",
    "fila = 0\n",
    "\n",
    "for pais in paises:\n",
    "   rango_estimacion_por_pais['Rangos'][fila] = max(estimados_de_exito[pais]) - min(estimados_de_exito[pais])\n",
    "   print ('Pais: ',pais, '( Rango de estimación: ',rango_estimacion_por_pais['Rangos'][fila],')')\n",
    "   fila = fila + 1 \n",
    "\n",
    "maximo_rango = max(rango_estimacion_por_pais['Rangos'])\n",
    "posicion = rango_estimacion_por_pais['Rangos'].index(max(rango_estimacion_por_pais['Rangos']))\n",
    "print()\n",
    "print('El país con el máximo rango de estimación es: ',paises[posicion], ' con un rango de estimación de:',maximo_rango)\n",
    "\n"
   ]
  },
  {
   "cell_type": "code",
   "execution_count": null,
   "metadata": {},
   "outputs": [],
   "source": []
  }
 ],
 "metadata": {
  "kernelspec": {
   "display_name": "Python 3",
   "language": "python",
   "name": "python3"
  },
  "language_info": {
   "codemirror_mode": {
    "name": "ipython",
    "version": 3
   },
   "file_extension": ".py",
   "mimetype": "text/x-python",
   "name": "python",
   "nbconvert_exporter": "python",
   "pygments_lexer": "ipython3",
   "version": "3.6.7"
  }
 },
 "nbformat": 4,
 "nbformat_minor": 2
}
