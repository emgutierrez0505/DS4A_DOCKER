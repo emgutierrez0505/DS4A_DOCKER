{
 "cells": [
  {
   "cell_type": "code",
   "execution_count": 3,
   "metadata": {},
   "outputs": [
    {
     "name": "stdout",
     "output_type": "stream",
     "text": [
      "2561\n",
      "Emmanuel Gutiérrez Jiménez\n",
      "66.4\n"
     ]
    }
   ],
   "source": [
    "x = 1675\n",
    "y = 886\n",
    "z = x + y\n",
    "print(z)\n",
    "\n",
    "nombre = 'Emmanuel Gutiérrez Jiménez'\n",
    "print (nombre)\n",
    "\n",
    "t = 65.4 + 7 - 6\n",
    "print (t)"
   ]
  },
  {
   "cell_type": "code",
   "execution_count": null,
   "metadata": {},
   "outputs": [],
   "source": []
  }
 ],
 "metadata": {
  "kernelspec": {
   "display_name": "Python 3",
   "language": "python",
   "name": "python3"
  },
  "language_info": {
   "codemirror_mode": {
    "name": "ipython",
    "version": 3
   },
   "file_extension": ".py",
   "mimetype": "text/x-python",
   "name": "python",
   "nbconvert_exporter": "python",
   "pygments_lexer": "ipython3",
   "version": "3.6.7"
  }
 },
 "nbformat": 4,
 "nbformat_minor": 2
}
