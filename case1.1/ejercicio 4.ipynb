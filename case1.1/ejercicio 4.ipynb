{
 "cells": [
  {
   "cell_type": "code",
   "execution_count": 10,
   "metadata": {},
   "outputs": [
    {
     "name": "stdout",
     "output_type": "stream",
     "text": [
      "Australia ( Mínimo estimación de éxito: 0.11 , Máximo estimación de éxito:  0.6 )\n",
      "France ( Mínimo estimación de éxito: 0.2 , Máximo estimación de éxito:  0.98 )\n",
      "Italy ( Mínimo estimación de éxito: 0.6 , Máximo estimación de éxito:  0.6 )\n",
      "Brazil ( Mínimo estimación de éxito: 0.22 , Máximo estimación de éxito:  0.43 )\n",
      "USA ( Mínimo estimación de éxito: 0.2 , Máximo estimación de éxito:  0.5 )\n",
      "England ( Mínimo estimación de éxito: 0.45 , Máximo estimación de éxito:  0.45 )\n",
      "Canada ( Mínimo estimación de éxito: 0.25 , Máximo estimación de éxito:  0.3 )\n",
      "Argentina ( Mínimo estimación de éxito: 0.22 , Máximo estimación de éxito:  0.22 )\n",
      "Greece ( Mínimo estimación de éxito: 0.15 , Máximo estimación de éxito:  0.99 )\n",
      "Morocco ( Mínimo estimación de éxito: 0.29 , Máximo estimación de éxito:  0.29 )\n",
      "Tunisia ( Mínimo estimación de éxito: 0.56 , Máximo estimación de éxito:  0.68 )\n",
      "Egypt ( Mínimo estimación de éxito: 0.99 , Máximo estimación de éxito:  0.99 )\n",
      "Jamaica ( Mínimo estimación de éxito: 0.61 , Máximo estimación de éxito:  0.71 )\n",
      "Switzerland ( Mínimo estimación de éxito: 0.51 , Máximo estimación de éxito:  0.99 )\n",
      "Germany ( Mínimo estimación de éxito: 0.36 , Máximo estimación de éxito:  0.49 )\n"
     ]
    }
   ],
   "source": [
    "# Initialize estimados_de_exito by everycountry\n",
    "estimados_de_exito = {\n",
    "'Australia': [0.6, 0.33, 0.11, 0.14],\n",
    "'France': [0.66, 0.78, 0.98, 0.2],\n",
    "'Italy': [0.6],\n",
    "'Brazil': [0.22, 0.22, 0.43],\n",
    "'USA': [0.2, 0.5, 0.3],\n",
    "'England': [0.45],\n",
    "'Canada': [0.25, 0.3],\n",
    "'Argentina': [0.22],\n",
    "'Greece': [0.45, 0.66, 0.75, 0.99, 0.15, 0.66],\n",
    "'Morocco': [0.29],\n",
    "'Tunisia': [0.68, 0.56],\n",
    "'Egypt': [0.99],\n",
    "'Jamaica': [0.61, 0.65, 0.71],\n",
    "'Switzerland': [0.73, 0.86, 0.84, 0.51, 0.99],\n",
    "'Germany': [0.45, 0.49, 0.36]\n",
    "}\n",
    "\n",
    "paises = list(estimados_de_exito.keys())\n",
    "\n",
    "for pais in paises:\n",
    "    print(pais, '( Mínimo estimación de éxito:', min(estimados_de_exito[pais]), ', Máximo estimación de éxito: ', max(estimados_de_exito[pais]),')')"
   ]
  },
  {
   "cell_type": "code",
   "execution_count": null,
   "metadata": {},
   "outputs": [],
   "source": []
  }
 ],
 "metadata": {
  "kernelspec": {
   "display_name": "Python 3",
   "language": "python",
   "name": "python3"
  },
  "language_info": {
   "codemirror_mode": {
    "name": "ipython",
    "version": 3
   },
   "file_extension": ".py",
   "mimetype": "text/x-python",
   "name": "python",
   "nbconvert_exporter": "python",
   "pygments_lexer": "ipython3",
   "version": "3.6.7"
  }
 },
 "nbformat": 4,
 "nbformat_minor": 2
}
